{
 "cells": [
  {
   "cell_type": "code",
   "execution_count": 1,
   "metadata": {},
   "outputs": [
    {
     "data": {
      "text/plain": [
       "True"
      ]
     },
     "execution_count": 1,
     "metadata": {},
     "output_type": "execute_result"
    }
   ],
   "source": [
    "import numpy as np\n",
    "import matplotlib\n",
    "import matplotlib.pyplot as plt\n",
    "import pandas as pd\n",
    "\n",
    "matplotlib.interactive(True)\n",
    "plt.ion()\n",
    "matplotlib.is_interactive()"
   ]
  },
  {
   "cell_type": "markdown",
   "metadata": {},
   "source": [
    "#### Use data about annual visits to some US national parks \n",
    "Data obtained from: https://irma.nps.gov/Stats/Reports/Park\n",
    "\n",
    "Number of annual visits in 3 US National parks from 1961-2017"
   ]
  },
  {
   "cell_type": "code",
   "execution_count": 2,
   "metadata": {},
   "outputs": [
    {
     "data": {
      "text/html": [
       "<div>\n",
       "<style scoped>\n",
       "    .dataframe tbody tr th:only-of-type {\n",
       "        vertical-align: middle;\n",
       "    }\n",
       "\n",
       "    .dataframe tbody tr th {\n",
       "        vertical-align: top;\n",
       "    }\n",
       "\n",
       "    .dataframe thead th {\n",
       "        text-align: right;\n",
       "    }\n",
       "</style>\n",
       "<table border=\"1\" class=\"dataframe\">\n",
       "  <thead>\n",
       "    <tr style=\"text-align: right;\">\n",
       "      <th></th>\n",
       "      <th>Year</th>\n",
       "      <th>Badlands</th>\n",
       "      <th>GrandCanyon</th>\n",
       "      <th>BryceCanyon</th>\n",
       "    </tr>\n",
       "  </thead>\n",
       "  <tbody>\n",
       "    <tr>\n",
       "      <th>0</th>\n",
       "      <td>1961</td>\n",
       "      <td>833300</td>\n",
       "      <td>1253000</td>\n",
       "      <td>264800</td>\n",
       "    </tr>\n",
       "    <tr>\n",
       "      <th>1</th>\n",
       "      <td>1962</td>\n",
       "      <td>1044800</td>\n",
       "      <td>1447400</td>\n",
       "      <td>251000</td>\n",
       "    </tr>\n",
       "    <tr>\n",
       "      <th>2</th>\n",
       "      <td>1963</td>\n",
       "      <td>1074000</td>\n",
       "      <td>1539500</td>\n",
       "      <td>289500</td>\n",
       "    </tr>\n",
       "    <tr>\n",
       "      <th>3</th>\n",
       "      <td>1964</td>\n",
       "      <td>1079800</td>\n",
       "      <td>1576600</td>\n",
       "      <td>300300</td>\n",
       "    </tr>\n",
       "    <tr>\n",
       "      <th>4</th>\n",
       "      <td>1965</td>\n",
       "      <td>1091300</td>\n",
       "      <td>1689200</td>\n",
       "      <td>366800</td>\n",
       "    </tr>\n",
       "  </tbody>\n",
       "</table>\n",
       "</div>"
      ],
      "text/plain": [
       "   Year  Badlands  GrandCanyon  BryceCanyon\n",
       "0  1961    833300      1253000       264800\n",
       "1  1962   1044800      1447400       251000\n",
       "2  1963   1074000      1539500       289500\n",
       "3  1964   1079800      1576600       300300\n",
       "4  1965   1091300      1689200       366800"
      ]
     },
     "execution_count": 2,
     "metadata": {},
     "output_type": "execute_result"
    }
   ],
   "source": [
    "np_data= pd.read_csv('datasets/national_parks.csv')\n",
    "np_data.head()"
   ]
  },
  {
   "cell_type": "code",
   "execution_count": 3,
   "metadata": {},
   "outputs": [
    {
     "data": {
      "text/html": [
       "<div>\n",
       "<style scoped>\n",
       "    .dataframe tbody tr th:only-of-type {\n",
       "        vertical-align: middle;\n",
       "    }\n",
       "\n",
       "    .dataframe tbody tr th {\n",
       "        vertical-align: top;\n",
       "    }\n",
       "\n",
       "    .dataframe thead th {\n",
       "        text-align: right;\n",
       "    }\n",
       "</style>\n",
       "<table border=\"1\" class=\"dataframe\">\n",
       "  <thead>\n",
       "    <tr style=\"text-align: right;\">\n",
       "      <th></th>\n",
       "      <th>Year</th>\n",
       "      <th>Badlands</th>\n",
       "      <th>GrandCanyon</th>\n",
       "      <th>BryceCanyon</th>\n",
       "    </tr>\n",
       "  </thead>\n",
       "  <tbody>\n",
       "    <tr>\n",
       "      <th>count</th>\n",
       "      <td>57.000000</td>\n",
       "      <td>5.700000e+01</td>\n",
       "      <td>5.700000e+01</td>\n",
       "      <td>5.700000e+01</td>\n",
       "    </tr>\n",
       "    <tr>\n",
       "      <th>mean</th>\n",
       "      <td>1989.000000</td>\n",
       "      <td>1.069524e+06</td>\n",
       "      <td>3.412695e+06</td>\n",
       "      <td>8.408708e+05</td>\n",
       "    </tr>\n",
       "    <tr>\n",
       "      <th>std</th>\n",
       "      <td>16.598193</td>\n",
       "      <td>1.574500e+05</td>\n",
       "      <td>1.255127e+06</td>\n",
       "      <td>4.816281e+05</td>\n",
       "    </tr>\n",
       "    <tr>\n",
       "      <th>min</th>\n",
       "      <td>1961.000000</td>\n",
       "      <td>8.333000e+05</td>\n",
       "      <td>1.253000e+06</td>\n",
       "      <td>2.510000e+05</td>\n",
       "    </tr>\n",
       "    <tr>\n",
       "      <th>25%</th>\n",
       "      <td>1975.000000</td>\n",
       "      <td>9.502420e+05</td>\n",
       "      <td>2.258200e+06</td>\n",
       "      <td>4.715170e+05</td>\n",
       "    </tr>\n",
       "    <tr>\n",
       "      <th>50%</th>\n",
       "      <td>1989.000000</td>\n",
       "      <td>1.054325e+06</td>\n",
       "      <td>3.859886e+06</td>\n",
       "      <td>8.080450e+05</td>\n",
       "    </tr>\n",
       "    <tr>\n",
       "      <th>75%</th>\n",
       "      <td>2003.000000</td>\n",
       "      <td>1.188700e+06</td>\n",
       "      <td>4.401522e+06</td>\n",
       "      <td>1.081521e+06</td>\n",
       "    </tr>\n",
       "    <tr>\n",
       "      <th>max</th>\n",
       "      <td>2017.000000</td>\n",
       "      <td>1.518396e+06</td>\n",
       "      <td>6.254238e+06</td>\n",
       "      <td>2.571684e+06</td>\n",
       "    </tr>\n",
       "  </tbody>\n",
       "</table>\n",
       "</div>"
      ],
      "text/plain": [
       "              Year      Badlands   GrandCanyon   BryceCanyon\n",
       "count    57.000000  5.700000e+01  5.700000e+01  5.700000e+01\n",
       "mean   1989.000000  1.069524e+06  3.412695e+06  8.408708e+05\n",
       "std      16.598193  1.574500e+05  1.255127e+06  4.816281e+05\n",
       "min    1961.000000  8.333000e+05  1.253000e+06  2.510000e+05\n",
       "25%    1975.000000  9.502420e+05  2.258200e+06  4.715170e+05\n",
       "50%    1989.000000  1.054325e+06  3.859886e+06  8.080450e+05\n",
       "75%    2003.000000  1.188700e+06  4.401522e+06  1.081521e+06\n",
       "max    2017.000000  1.518396e+06  6.254238e+06  2.571684e+06"
      ]
     },
     "execution_count": 3,
     "metadata": {},
     "output_type": "execute_result"
    }
   ],
   "source": [
    "np_data.describe()"
   ]
  },
  {
   "cell_type": "markdown",
   "metadata": {},
   "source": [
    "### Histogram\n",
    "A histogram take in a series of data and divides the data into a number of bins. It then plots the frequency data points in each bin"
   ]
  },
  {
   "cell_type": "markdown",
   "metadata": {},
   "source": [
    "#### Plot a histogram for the number of annual visits to Grand Canyon National Park\n",
    "* The number of visits ranges from about 1.25M to 6.25M\n",
    "* Around 4.5M seems to be the most common number of annual visitors\n",
    "* We created 10 bins of data"
   ]
  },
  {
   "cell_type": "code",
   "execution_count": 4,
   "metadata": {},
   "outputs": [
    {
     "data": {
      "image/png": "[encoded data removed]",
      "text/plain": [
       "<Figure size 432x288 with 1 Axes>"
      ]
     },
     "metadata": {
      "needs_background": "light"
     },
     "output_type": "display_data"
    }
   ],
   "source": [
    "plt.hist(np_data['GrandCanyon'], \n",
    "         facecolor='cyan', \n",
    "         edgecolor='blue', \n",
    "         bins=10)\n",
    "\n",
    "plt.show()"
   ]
  },
  {
   "cell_type": "markdown",
   "metadata": {},
   "source": [
    "### Components of a histogram\n",
    "The components of a matplotlib histogram are 3 lists:\n",
    "* <b>n:</b> Contains the frequency of each bin\n",
    "* <b>bins:</b> Represents the middle value of each bin\n",
    "* <b>patches:</b> The Patch object for the rectangle shape representing each bar"
   ]
  },
  {
   "cell_type": "code",
   "execution_count": 5,
   "metadata": {},
   "outputs": [
    {
     "name": "stdout",
     "output_type": "stream",
     "text": [
      "n:  [ 5.  9. 10.  2.  1.  9. 16.  2.  1.  2.]\n",
      "bins:  [1253000.  1753123.8 2253247.6 2753371.4 3253495.2 3753619.  4253742.8\n",
      " 4753866.6 5253990.4 5754114.2 6254238. ]\n",
      "patches:  <BarContainer object of 10 artists>\n"
     ]
    },
    {
     "data": {
      "image/png": "[encoded data removed]",
      "text/plain": [
       "<Figure size 432x288 with 1 Axes>"
      ]
     },
     "metadata": {
      "needs_background": "light"
     },
     "output_type": "display_data"
    }
   ],
   "source": [
    "n, bins, patches = plt.hist(np_data['GrandCanyon'], \n",
    "                            facecolor='cyan', \n",
    "                            edgecolor='blue', \n",
    "                            bins=10)\n",
    "\n",
    "print('n: ', n)\n",
    "print('bins: ', bins)\n",
    "print('patches: ', patches)"
   ]
  },
  {
   "cell_type": "markdown",
   "metadata": {},
   "source": [
    "#### Set the bin values to probability densities\n",
    "p(x)δx  is the probability of measuring X in [x,x+δx]. With\n",
    "* p(x):= probability density.\n",
    "* δx:= interval length.\n",
    "\n",
    "E.g. In our histogram the largest bin contains 16 of the 57 data points (28%). The interval for the histogram is about 5M (6.25M - 1.25M) and there are 10 bins, so about 500,000 for each bin. \n",
    "\n",
    "When converted to probability densities, the value of the largest bin is 5.6e-7. The probability for that bin is 500000*5.6e-7 = 0.28 "
   ]
  },
  {
   "cell_type": "code",
   "execution_count": 6,
   "metadata": {},
   "outputs": [
    {
     "name": "stdout",
     "output_type": "stream",
     "text": [
      "n:  [1.75395169e-07 3.15711304e-07 3.50790337e-07 7.01580675e-08\n",
      " 3.50790337e-08 3.15711304e-07 5.61264540e-07 7.01580675e-08\n",
      " 3.50790337e-08 7.01580675e-08]\n",
      "bins:  [1253000.  1753123.8 2253247.6 2753371.4 3253495.2 3753619.  4253742.8\n",
      " 4753866.6 5253990.4 5754114.2 6254238. ]\n",
      "patches:  <BarContainer object of 10 artists>\n"
     ]
    },
    {
     "data": {
      "image/png": "[encoded data removed]",
      "text/plain": [
       "<Figure size 432x288 with 1 Axes>"
      ]
     },
     "metadata": {
      "needs_background": "light"
     },
     "output_type": "display_data"
    }
   ],
   "source": [
    "n, bins, patches = plt.hist(np_data['GrandCanyon'], \n",
    "                            facecolor='cyan', \n",
    "                            edgecolor='blue', \n",
    "                            bins=10,\n",
    "                            density=True)\n",
    "\n",
    "print('n: ', n)\n",
    "print('bins: ', bins)\n",
    "print('patches: ', patches)"
   ]
  },
  {
   "cell_type": "markdown",
   "metadata": {
    "collapsed": true
   },
   "source": [
    "#### The cumulative property\n",
    "If True, then a histogram is computed where each bin gives the counts in that bin plus all bins for smaller values. The last bin gives the total number of datapoints."
   ]
  },
  {
   "cell_type": "code",
   "execution_count": 7,
   "metadata": {},
   "outputs": [
    {
     "data": {
      "image/png": "[encoded data removed]",
      "text/plain": [
       "<Figure size 432x288 with 1 Axes>"
      ]
     },
     "metadata": {
      "needs_background": "light"
     },
     "output_type": "display_data"
    }
   ],
   "source": [
    "plt.hist(np_data['GrandCanyon'], \n",
    "         facecolor='cyan', \n",
    "         edgecolor='blue', \n",
    "         bins=10,\n",
    "         cumulative=True)\n",
    "\n",
    "plt.show()"
   ]
  },
  {
   "cell_type": "markdown",
   "metadata": {},
   "source": [
    "#### Restrict the histogram to a range of values\n",
    "We only look at the data points within the range 2M-5M. This realigns the bins in the histogram"
   ]
  },
  {
   "cell_type": "code",
   "execution_count": 8,
   "metadata": {},
   "outputs": [
    {
     "data": {
      "image/png": "[encoded data removed]",
      "text/plain": [
       "<Figure size 432x288 with 1 Axes>"
      ]
     },
     "metadata": {
      "needs_background": "light"
     },
     "output_type": "display_data"
    }
   ],
   "source": [
    "plt.hist(np_data['GrandCanyon'], \n",
    "         facecolor='cyan', \n",
    "         edgecolor='blue', \n",
    "         bins=10,\n",
    "         range=(2000000, 5000000))\n",
    "\n",
    "plt.show()"
   ]
  },
  {
   "cell_type": "markdown",
   "metadata": {},
   "source": [
    "#### Overlay histograms\n",
    "We can add one more histogram to our plot - this park visits to Bryce Canyon National Park. This has fewer visitors and the number of visitors falls into a smaller range. Thus even with fewer bins each bin is narrower than the ones for Grand Canyon.<br />\n",
    "Notice that the histogram for Bryce Canyon obscures the one for Grand Canyon as it was added afterwards."
   ]
  },
  {
   "cell_type": "code",
   "execution_count": 9,
   "metadata": {},
   "outputs": [
    {
     "data": {
      "image/png": "[encoded data removed]",
      "text/plain": [
       "<Figure size 432x288 with 1 Axes>"
      ]
     },
     "metadata": {
      "needs_background": "light"
     },
     "output_type": "display_data"
    }
   ],
   "source": [
    "plt.hist(np_data['GrandCanyon'], \n",
    "         facecolor='cyan', \n",
    "         edgecolor='blue', \n",
    "         bins=10)\n",
    "\n",
    "plt.hist(np_data['BryceCanyon'], \n",
    "         facecolor='lightyellow', \n",
    "         edgecolor='maroon', \n",
    "         bins=8)\n",
    "\n",
    "plt.show()"
   ]
  },
  {
   "cell_type": "markdown",
   "metadata": {},
   "source": [
    "#### Swap the order of the histograms\n",
    "This time the Grand Canyon histogram obscures the one for Bryce Canyon"
   ]
  },
  {
   "cell_type": "code",
   "execution_count": 10,
   "metadata": {},
   "outputs": [
    {
     "data": {
      "image/png": "[encoded data removed]",
      "text/plain": [
       "<Figure size 432x288 with 1 Axes>"
      ]
     },
     "metadata": {
      "needs_background": "light"
     },
     "output_type": "display_data"
    }
   ],
   "source": [
    "plt.hist(np_data['BryceCanyon'], \n",
    "         facecolor='lightyellow', \n",
    "         edgecolor='maroon', \n",
    "         bins=8)\n",
    "\n",
    "plt.hist(np_data['GrandCanyon'], \n",
    "         facecolor='cyan', \n",
    "         edgecolor='blue', \n",
    "         bins=10)\n",
    "\n",
    "plt.show()"
   ]
  },
  {
   "cell_type": "markdown",
   "metadata": {},
   "source": [
    "#### Adjust the alpha of the histograms to prevent obstruction"
   ]
  },
  {
   "cell_type": "code",
   "execution_count": 11,
   "metadata": {},
   "outputs": [
    {
     "data": {
      "image/png": "[encoded data removed]",
      "text/plain": [
       "<Figure size 432x288 with 1 Axes>"
      ]
     },
     "metadata": {
      "needs_background": "light"
     },
     "output_type": "display_data"
    }
   ],
   "source": [
    "plt.hist(np_data['BryceCanyon'], \n",
    "         facecolor='lightyellow', \n",
    "         edgecolor='maroon', \n",
    "         bins=8)\n",
    "\n",
    "plt.hist(np_data['GrandCanyon'], \n",
    "         facecolor='cyan', \n",
    "         edgecolor='blue', \n",
    "         bins=10, \n",
    "         alpha = 0.3)\n",
    "\n",
    "plt.show()"
   ]
  },
  {
   "cell_type": "code",
   "execution_count": null,
   "metadata": {},
   "outputs": [],
   "source": []
  }
 ],
 "metadata": {
  "kernelspec": {
   "display_name": "Python 3 (ipykernel)",
   "language": "python",
   "name": "python3"
  },
  "language_info": {
   "codemirror_mode": {
    "name": "ipython",
    "version": 3
   },
   "file_extension": ".py",
   "mimetype": "text/x-python",
   "name": "python",
   "nbconvert_exporter": "python",
   "pygments_lexer": "ipython3",
   "version": "3.9.12"
  }
 },
 "nbformat": 4,
 "nbformat_minor": 2
}
