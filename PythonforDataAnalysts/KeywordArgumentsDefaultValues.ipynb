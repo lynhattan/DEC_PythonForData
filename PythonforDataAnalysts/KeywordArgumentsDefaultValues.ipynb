{
 "cells": [
  {
   "cell_type": "code",
   "execution_count": 2,
   "id": "473540c1",
   "metadata": {},
   "outputs": [],
   "source": [
    "def car_parts(name, brand, hp, engine, zero_to_sixty, top_speed, price):\n",
    "    other_details = hp, engine, top_speed, price\n",
    "    print(\"Name of the car :\", name)\n",
    "    print(\"Brand: \", brand, \"\\n0 to 60: \", zero_to_sixty)\n",
    "    print(\"Price: \", price)\n",
    "    print(\"Remaining details (hp, engine, top_speed, price):\", other_details)"
   ]
  },
  {
   "cell_type": "code",
   "execution_count": 3,
   "id": "35d9d3c6",
   "metadata": {},
   "outputs": [
    {
     "name": "stdout",
     "output_type": "stream",
     "text": [
      "Name of the car : Aventador\n",
      "Brand:  Lamborghini \n",
      "0 to 60:  2.9\n",
      "Price:  261000\n",
      "Remaining details (hp, engine, top_speed, price): (544, 7.0, 220, 261000)\n"
     ]
    }
   ],
   "source": [
    "car_parts(\"Aventador\",\n",
    "          \"Lamborghini\",\n",
    "           hp = 544,\n",
    "           engine = 7.0,\n",
    "           zero_to_sixty = 2.9,\n",
    "           top_speed = 220,\n",
    "           price = 261000)"
   ]
  },
  {
   "cell_type": "code",
   "execution_count": 4,
   "id": "6016bf73",
   "metadata": {},
   "outputs": [],
   "source": [
    "def car_parts(name, brand, hp, engine, zero_to_sixty, top_speed, price = 35000):\n",
    "    other_details = hp, engine, top_speed, price\n",
    "    print(\"Name of the car :\", name)\n",
    "    print(\"Brand: \", brand, \"\\n0 to 60: \", zero_to_sixty)\n",
    "    print(\"Price: \", price)\n",
    "    print(\"Remaining details (hp, engine, top_speed, price):\", other_details)"
   ]
  },
  {
   "cell_type": "code",
   "execution_count": 5,
   "id": "272ad29f",
   "metadata": {},
   "outputs": [
    {
     "name": "stdout",
     "output_type": "stream",
     "text": [
      "Name of the car : Mustang\n",
      "Brand:  Ford \n",
      "0 to 60:  7.0\n",
      "Price:  35000\n",
      "Remaining details (hp, engine, top_speed, price): (295, 5.0, 150, 35000)\n"
     ]
    }
   ],
   "source": [
    "car_parts(\"Mustang\",\n",
    "          \"Ford\",\n",
    "          hp = 295,\n",
    "          engine = 5.0,\n",
    "          zero_to_sixty = 7.0,\n",
    "          top_speed = 150)"
   ]
  },
  {
   "cell_type": "code",
   "execution_count": null,
   "id": "56687555",
   "metadata": {},
   "outputs": [],
   "source": []
  }
 ],
 "metadata": {
  "kernelspec": {
   "display_name": "Python 3 (ipykernel)",
   "language": "python",
   "name": "python3"
  },
  "language_info": {
   "codemirror_mode": {
    "name": "ipython",
    "version": 3
   },
   "file_extension": ".py",
   "mimetype": "text/x-python",
   "name": "python",
   "nbconvert_exporter": "python",
   "pygments_lexer": "ipython3",
   "version": "3.9.12"
  }
 },
 "nbformat": 4,
 "nbformat_minor": 5
}
