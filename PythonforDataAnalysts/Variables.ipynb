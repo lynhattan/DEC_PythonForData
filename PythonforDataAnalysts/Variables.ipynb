{
 "cells": [
  {
   "cell_type": "code",
   "execution_count": 1,
   "id": "241b58c9",
   "metadata": {},
   "outputs": [
    {
     "data": {
      "text/plain": [
       "65"
      ]
     },
     "execution_count": 1,
     "metadata": {},
     "output_type": "execute_result"
    }
   ],
   "source": [
    "15 + 30 + 20"
   ]
  },
  {
   "cell_type": "code",
   "execution_count": 2,
   "id": "74c57939",
   "metadata": {},
   "outputs": [],
   "source": [
    "apples = 15"
   ]
  },
  {
   "cell_type": "code",
   "execution_count": 3,
   "id": "2cb71cc8",
   "metadata": {},
   "outputs": [],
   "source": [
    "bananas = 30"
   ]
  },
  {
   "cell_type": "code",
   "execution_count": 4,
   "id": "d1ce08d2",
   "metadata": {},
   "outputs": [],
   "source": [
    "oranges = 20"
   ]
  },
  {
   "cell_type": "code",
   "execution_count": 5,
   "id": "50f0d928",
   "metadata": {},
   "outputs": [
    {
     "data": {
      "text/plain": [
       "65"
      ]
     },
     "execution_count": 5,
     "metadata": {},
     "output_type": "execute_result"
    }
   ],
   "source": [
    "total_fruits = apples + bananas + oranges\n",
    "total_fruits"
   ]
  },
  {
   "cell_type": "code",
   "execution_count": 6,
   "id": "c94dcdf9",
   "metadata": {},
   "outputs": [],
   "source": [
    "salary = 1000\n",
    "expenses = 500"
   ]
  },
  {
   "cell_type": "code",
   "execution_count": 7,
   "id": "55a41f1a",
   "metadata": {},
   "outputs": [
    {
     "data": {
      "text/plain": [
       "500"
      ]
     },
     "execution_count": 7,
     "metadata": {},
     "output_type": "execute_result"
    }
   ],
   "source": [
    "savings = salary - expenses\n",
    "savings"
   ]
  },
  {
   "cell_type": "code",
   "execution_count": 8,
   "id": "ec62c39b",
   "metadata": {},
   "outputs": [],
   "source": [
    "length = 10.5\n",
    "width = 20"
   ]
  },
  {
   "cell_type": "code",
   "execution_count": 9,
   "id": "99b35b7e",
   "metadata": {},
   "outputs": [
    {
     "data": {
      "text/plain": [
       "210.0"
      ]
     },
     "execution_count": 9,
     "metadata": {},
     "output_type": "execute_result"
    }
   ],
   "source": [
    "area = length * width\n",
    "area"
   ]
  },
  {
   "cell_type": "code",
   "execution_count": 10,
   "id": "9eca0cc0",
   "metadata": {},
   "outputs": [
    {
     "data": {
      "text/plain": [
       "61.0"
      ]
     },
     "execution_count": 10,
     "metadata": {},
     "output_type": "execute_result"
    }
   ],
   "source": [
    "perimeter = 2 * (length + width)\n",
    "perimeter"
   ]
  },
  {
   "cell_type": "code",
   "execution_count": 12,
   "id": "226263a4",
   "metadata": {},
   "outputs": [],
   "source": [
    "name = \"Suzie\"\n",
    "lastname = \"Derkins\""
   ]
  },
  {
   "cell_type": "code",
   "execution_count": 13,
   "id": "6d74c0da",
   "metadata": {},
   "outputs": [
    {
     "data": {
      "text/plain": [
       "'Suzie Derkins'"
      ]
     },
     "execution_count": 13,
     "metadata": {},
     "output_type": "execute_result"
    }
   ],
   "source": [
    "fullname = name + \" \" + lastname\n",
    "fullname"
   ]
  },
  {
   "cell_type": "code",
   "execution_count": 14,
   "id": "e29d74e9",
   "metadata": {},
   "outputs": [
    {
     "data": {
      "text/plain": [
       "1100"
      ]
     },
     "execution_count": 14,
     "metadata": {},
     "output_type": "execute_result"
    }
   ],
   "source": [
    "salary = salary + 100\n",
    "salary"
   ]
  },
  {
   "cell_type": "code",
   "execution_count": 15,
   "id": "e459d2ea",
   "metadata": {},
   "outputs": [
    {
     "data": {
      "text/plain": [
       "250.0"
      ]
     },
     "execution_count": 15,
     "metadata": {},
     "output_type": "execute_result"
    }
   ],
   "source": [
    "expenses = expenses / 2\n",
    "expenses"
   ]
  },
  {
   "cell_type": "code",
   "execution_count": 16,
   "id": "d8b338e0",
   "metadata": {},
   "outputs": [
    {
     "data": {
      "text/plain": [
       "850.0"
      ]
     },
     "execution_count": 16,
     "metadata": {},
     "output_type": "execute_result"
    }
   ],
   "source": [
    "savings = salary - expenses\n",
    "savings"
   ]
  },
  {
   "cell_type": "code",
   "execution_count": 17,
   "id": "012fa585",
   "metadata": {},
   "outputs": [
    {
     "data": {
      "text/plain": [
       "1020.0"
      ]
     },
     "execution_count": 17,
     "metadata": {},
     "output_type": "execute_result"
    }
   ],
   "source": [
    "savings *= 1.2\n",
    "savings"
   ]
  },
  {
   "cell_type": "code",
   "execution_count": 18,
   "id": "b872789b",
   "metadata": {},
   "outputs": [],
   "source": [
    "pencils = 15\n",
    "erasers = 7 "
   ]
  },
  {
   "cell_type": "code",
   "execution_count": 19,
   "id": "3bf2d882",
   "metadata": {},
   "outputs": [
    {
     "data": {
      "text/plain": [
       "22"
      ]
     },
     "execution_count": 19,
     "metadata": {},
     "output_type": "execute_result"
    }
   ],
   "source": [
    "writing_instruments = pencils + erasers\n",
    "writing_instruments"
   ]
  },
  {
   "cell_type": "code",
   "execution_count": 20,
   "id": "b9fbf12e",
   "metadata": {},
   "outputs": [
    {
     "data": {
      "text/plain": [
       "24"
      ]
     },
     "execution_count": 20,
     "metadata": {},
     "output_type": "execute_result"
    }
   ],
   "source": [
    "writing_instruments += 2\n",
    "writing_instruments"
   ]
  },
  {
   "cell_type": "code",
   "execution_count": 21,
   "id": "05deff56",
   "metadata": {},
   "outputs": [],
   "source": [
    "weekdays = 7\n",
    "weekend = 2"
   ]
  },
  {
   "cell_type": "code",
   "execution_count": 22,
   "id": "9b07259d",
   "metadata": {},
   "outputs": [
    {
     "data": {
      "text/plain": [
       "5"
      ]
     },
     "execution_count": 22,
     "metadata": {},
     "output_type": "execute_result"
    }
   ],
   "source": [
    "weekdays -= weekend\n",
    "weekdays"
   ]
  },
  {
   "cell_type": "code",
   "execution_count": 23,
   "id": "894c72bd",
   "metadata": {},
   "outputs": [],
   "source": [
    "string_1 = \"Hello\"\n",
    "string_2 = \"World\""
   ]
  },
  {
   "cell_type": "code",
   "execution_count": 24,
   "id": "d1f3d651",
   "metadata": {},
   "outputs": [],
   "source": [
    "string_1 += string_2"
   ]
  },
  {
   "cell_type": "code",
   "execution_count": 25,
   "id": "971049f6",
   "metadata": {},
   "outputs": [
    {
     "data": {
      "text/plain": [
       "'HelloWorld'"
      ]
     },
     "execution_count": 25,
     "metadata": {},
     "output_type": "execute_result"
    }
   ],
   "source": [
    "string_1"
   ]
  },
  {
   "cell_type": "code",
   "execution_count": null,
   "id": "e318dfa5",
   "metadata": {},
   "outputs": [],
   "source": []
  }
 ],
 "metadata": {
  "kernelspec": {
   "display_name": "Python 3 (ipykernel)",
   "language": "python",
   "name": "python3"
  },
  "language_info": {
   "codemirror_mode": {
    "name": "ipython",
    "version": 3
   },
   "file_extension": ".py",
   "mimetype": "text/x-python",
   "name": "python",
   "nbconvert_exporter": "python",
   "pygments_lexer": "ipython3",
   "version": "3.9.12"
  }
 },
 "nbformat": 4,
 "nbformat_minor": 5
}
