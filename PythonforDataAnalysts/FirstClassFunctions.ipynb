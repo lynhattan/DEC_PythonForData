{
 "cells": [
  {
   "cell_type": "code",
   "execution_count": 1,
   "id": "3a6decb9",
   "metadata": {},
   "outputs": [],
   "source": [
    "def my_car(car):\n",
    "    print(\"My car is a\", car)"
   ]
  },
  {
   "cell_type": "code",
   "execution_count": 2,
   "id": "29ec6760",
   "metadata": {},
   "outputs": [
    {
     "name": "stdout",
     "output_type": "stream",
     "text": [
      "My car is a Ford Endeavor\n"
     ]
    }
   ],
   "source": [
    "my_car(\"Ford Endeavor\")"
   ]
  },
  {
   "cell_type": "code",
   "execution_count": 3,
   "id": "ab618e1f",
   "metadata": {},
   "outputs": [
    {
     "data": {
      "text/plain": [
       "<function __main__.my_car(car)>"
      ]
     },
     "execution_count": 3,
     "metadata": {},
     "output_type": "execute_result"
    }
   ],
   "source": [
    "my_car"
   ]
  },
  {
   "cell_type": "code",
   "execution_count": 4,
   "id": "474048b7",
   "metadata": {},
   "outputs": [],
   "source": [
    "car_fn = my_car"
   ]
  },
  {
   "cell_type": "code",
   "execution_count": 5,
   "id": "edb6e9ae",
   "metadata": {},
   "outputs": [
    {
     "name": "stdout",
     "output_type": "stream",
     "text": [
      "My car is a Porsche Panamera\n"
     ]
    }
   ],
   "source": [
    "car_fn(\"Porsche Panamera\")"
   ]
  },
  {
   "cell_type": "code",
   "execution_count": 6,
   "id": "0f19d6c9",
   "metadata": {},
   "outputs": [],
   "source": [
    "maximum = max"
   ]
  },
  {
   "cell_type": "code",
   "execution_count": 7,
   "id": "a9594c3b",
   "metadata": {},
   "outputs": [
    {
     "data": {
      "text/plain": [
       "9678"
      ]
     },
     "execution_count": 7,
     "metadata": {},
     "output_type": "execute_result"
    }
   ],
   "source": [
    "num_list = [56, 54, 8, 9678, 987, 7]\n",
    "maximum(num_list)"
   ]
  },
  {
   "cell_type": "code",
   "execution_count": 8,
   "id": "94755529",
   "metadata": {},
   "outputs": [
    {
     "data": {
      "text/plain": [
       "True"
      ]
     },
     "execution_count": 8,
     "metadata": {},
     "output_type": "execute_result"
    }
   ],
   "source": [
    "maximum == max"
   ]
  },
  {
   "cell_type": "code",
   "execution_count": 9,
   "id": "f2f6b962",
   "metadata": {},
   "outputs": [],
   "source": [
    "def calculate_GST(price, type_of_item):\n",
    "    if type_of_item == \"Product\":\n",
    "        return price * 1.05\n",
    "    elif type_of_item == \"Service\":\n",
    "        return price * 1.18\n",
    "    return price * 1.35"
   ]
  },
  {
   "cell_type": "code",
   "execution_count": 10,
   "id": "2c8740d8",
   "metadata": {},
   "outputs": [],
   "source": [
    "def calculate_VAT(price, type_of_item):\n",
    "    return price * 1.2"
   ]
  },
  {
   "cell_type": "code",
   "execution_count": 11,
   "id": "c761f091",
   "metadata": {},
   "outputs": [],
   "source": [
    "type_of_tax = calculate_GST"
   ]
  },
  {
   "cell_type": "code",
   "execution_count": 12,
   "id": "b4fbaf26",
   "metadata": {},
   "outputs": [
    {
     "data": {
      "text/plain": [
       "1050.0"
      ]
     },
     "execution_count": 12,
     "metadata": {},
     "output_type": "execute_result"
    }
   ],
   "source": [
    "type_of_tax(1000, 'Product')"
   ]
  },
  {
   "cell_type": "code",
   "execution_count": 13,
   "id": "1abf5987",
   "metadata": {},
   "outputs": [
    {
     "data": {
      "text/plain": [
       "1180.0"
      ]
     },
     "execution_count": 13,
     "metadata": {},
     "output_type": "execute_result"
    }
   ],
   "source": [
    "type_of_tax(1000, \"Service\")"
   ]
  },
  {
   "cell_type": "code",
   "execution_count": 14,
   "id": "7223db35",
   "metadata": {},
   "outputs": [],
   "source": [
    "type_of_tax = calculate_VAT"
   ]
  },
  {
   "cell_type": "code",
   "execution_count": 15,
   "id": "f5f255da",
   "metadata": {},
   "outputs": [
    {
     "data": {
      "text/plain": [
       "1200.0"
      ]
     },
     "execution_count": 15,
     "metadata": {},
     "output_type": "execute_result"
    }
   ],
   "source": [
    "type_of_tax(1000, \"Product\")"
   ]
  },
  {
   "cell_type": "code",
   "execution_count": 16,
   "id": "91456b33",
   "metadata": {},
   "outputs": [
    {
     "data": {
      "text/plain": [
       "1200.0"
      ]
     },
     "execution_count": 16,
     "metadata": {},
     "output_type": "execute_result"
    }
   ],
   "source": [
    "type_of_tax(1000, \"Service\")"
   ]
  },
  {
   "cell_type": "code",
   "execution_count": 20,
   "id": "6758cd74",
   "metadata": {},
   "outputs": [],
   "source": [
    "def find_tax_calculator(type_of_tax):\n",
    "    if type_of_tax == \"GST\":\n",
    "        return calculate_GST\n",
    "    elif type_of_tax == \"VAT\":\n",
    "        return calculate_VAT"
   ]
  },
  {
   "cell_type": "code",
   "execution_count": 21,
   "id": "0f647542",
   "metadata": {},
   "outputs": [
    {
     "data": {
      "text/plain": [
       "<function __main__.calculate_GST(price, type_of_item)>"
      ]
     },
     "execution_count": 21,
     "metadata": {},
     "output_type": "execute_result"
    }
   ],
   "source": [
    "gst_fn = find_tax_calculator(\"GST\")\n",
    "gst_fn"
   ]
  },
  {
   "cell_type": "code",
   "execution_count": 22,
   "id": "342ad46c",
   "metadata": {},
   "outputs": [
    {
     "data": {
      "text/plain": [
       "<function __main__.calculate_VAT(price, type_of_item)>"
      ]
     },
     "execution_count": 22,
     "metadata": {},
     "output_type": "execute_result"
    }
   ],
   "source": [
    "vat_fn = find_tax_calculator(\"VAT\")\n",
    "vat_fn"
   ]
  },
  {
   "cell_type": "code",
   "execution_count": 23,
   "id": "81861710",
   "metadata": {},
   "outputs": [
    {
     "data": {
      "text/plain": [
       "1050.0"
      ]
     },
     "execution_count": 23,
     "metadata": {},
     "output_type": "execute_result"
    }
   ],
   "source": [
    "gst_fn(1000, \"Product\")"
   ]
  },
  {
   "cell_type": "code",
   "execution_count": 24,
   "id": "a35060fd",
   "metadata": {},
   "outputs": [
    {
     "data": {
      "text/plain": [
       "1200.0"
      ]
     },
     "execution_count": 24,
     "metadata": {},
     "output_type": "execute_result"
    }
   ],
   "source": [
    "vat_fn(1000, \"Product\")"
   ]
  },
  {
   "cell_type": "code",
   "execution_count": 25,
   "id": "06fdab9c",
   "metadata": {},
   "outputs": [],
   "source": [
    "def get_price_plus_taxes(price, type_of_item, tax_fn):\n",
    "    return tax_fn(price, type_of_item)"
   ]
  },
  {
   "cell_type": "code",
   "execution_count": 26,
   "id": "70060e0c",
   "metadata": {},
   "outputs": [
    {
     "data": {
      "text/plain": [
       "2100.0"
      ]
     },
     "execution_count": 26,
     "metadata": {},
     "output_type": "execute_result"
    }
   ],
   "source": [
    "get_price_plus_taxes(2000, \"Product\", tax_fn= calculate_GST)"
   ]
  },
  {
   "cell_type": "code",
   "execution_count": 27,
   "id": "293fddd6",
   "metadata": {},
   "outputs": [
    {
     "data": {
      "text/plain": [
       "2400.0"
      ]
     },
     "execution_count": 27,
     "metadata": {},
     "output_type": "execute_result"
    }
   ],
   "source": [
    "get_price_plus_taxes(2000, \"Product\", tax_fn= calculate_VAT)"
   ]
  },
  {
   "cell_type": "code",
   "execution_count": null,
   "id": "8f295819",
   "metadata": {},
   "outputs": [],
   "source": []
  }
 ],
 "metadata": {
  "kernelspec": {
   "display_name": "Python 3 (ipykernel)",
   "language": "python",
   "name": "python3"
  },
  "language_info": {
   "codemirror_mode": {
    "name": "ipython",
    "version": 3
   },
   "file_extension": ".py",
   "mimetype": "text/x-python",
   "name": "python",
   "nbconvert_exporter": "python",
   "pygments_lexer": "ipython3",
   "version": "3.9.12"
  }
 },
 "nbformat": 4,
 "nbformat_minor": 5
}
