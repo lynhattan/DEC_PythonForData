{
 "cells": [
  {
   "cell_type": "code",
   "execution_count": 1,
   "id": "d6614dbf",
   "metadata": {},
   "outputs": [],
   "source": [
    "import os"
   ]
  },
  {
   "cell_type": "code",
   "execution_count": 2,
   "id": "874fdf5b",
   "metadata": {},
   "outputs": [
    {
     "data": {
      "text/plain": [
       "environ{'SHELL': '/bin/bash',\n",
       "        'SESSION_MANAGER': 'local/ubuntu-TUF-GAMING-FX504GD-FX80GD:@/tmp/.ICE-unix/1371,unix/ubuntu-TUF-GAMING-FX504GD-FX80GD:/tmp/.ICE-unix/1371',\n",
       "        'QT_ACCESSIBILITY': '1',\n",
       "        'COLORTERM': 'truecolor',\n",
       "        'XDG_CONFIG_DIRS': '/etc/xdg/xdg-ubuntu:/etc/xdg',\n",
       "        'SSH_AGENT_LAUNCHER': 'gnome-keyring',\n",
       "        'XDG_MENU_PREFIX': 'gnome-',\n",
       "        'GNOME_DESKTOP_SESSION_ID': 'this-is-deprecated',\n",
       "        'CONDA_EXE': '/home/ubuntu/Downloads/ENTER/bin/conda',\n",
       "        '_CE_M': '',\n",
       "        'LC_ADDRESS': 'vi_VN',\n",
       "        'GNOME_SHELL_SESSION_MODE': 'ubuntu',\n",
       "        'LC_NAME': 'vi_VN',\n",
       "        'SSH_AUTH_SOCK': '/run/user/1000/keyring/ssh',\n",
       "        'XMODIFIERS': '@im=ibus',\n",
       "        'DESKTOP_SESSION': 'ubuntu',\n",
       "        'LC_MONETARY': 'vi_VN',\n",
       "        'GTK_MODULES': 'gail:atk-bridge',\n",
       "        'PWD': '/home/ubuntu/Projects/Pluralsight/PythonforDataAnalysts',\n",
       "        'LOGNAME': 'ubuntu',\n",
       "        'XDG_SESSION_DESKTOP': 'ubuntu',\n",
       "        'XDG_SESSION_TYPE': 'wayland',\n",
       "        'CONDA_PREFIX': '/home/ubuntu/Downloads/ENTER',\n",
       "        'SYSTEMD_EXEC_PID': '1472',\n",
       "        'XAUTHORITY': '/run/user/1000/.mutter-Xwaylandauth.LE2561',\n",
       "        'HOME': '/home/ubuntu',\n",
       "        'USERNAME': 'ubuntu',\n",
       "        'IM_CONFIG_PHASE': '1',\n",
       "        'LC_PAPER': 'vi_VN',\n",
       "        'LANG': 'en_US.UTF-8',\n",
       "        'LS_COLORS': 'rs=0:di=01;34:ln=01;36:mh=00:pi=40;33:so=01;35:do=01;35:bd=40;33;01:cd=40;33;01:or=40;31;01:mi=00:su=37;41:sg=30;43:ca=30;41:tw=30;42:ow=34;42:st=37;44:ex=01;32:*.tar=01;31:*.tgz=01;31:*.arc=01;31:*.arj=01;31:*.taz=01;31:*.lha=01;31:*.lz4=01;31:*.lzh=01;31:*.lzma=01;31:*.tlz=01;31:*.txz=01;31:*.tzo=01;31:*.t7z=01;31:*.zip=01;31:*.z=01;31:*.dz=01;31:*.gz=01;31:*.lrz=01;31:*.lz=01;31:*.lzo=01;31:*.xz=01;31:*.zst=01;31:*.tzst=01;31:*.bz2=01;31:*.bz=01;31:*.tbz=01;31:*.tbz2=01;31:*.tz=01;31:*.deb=01;31:*.rpm=01;31:*.jar=01;31:*.war=01;31:*.ear=01;31:*.sar=01;31:*.rar=01;31:*.alz=01;31:*.ace=01;31:*.zoo=01;31:*.cpio=01;31:*.7z=01;31:*.rz=01;31:*.cab=01;31:*.wim=01;31:*.swm=01;31:*.dwm=01;31:*.esd=01;31:*.jpg=01;35:*.jpeg=01;35:*.mjpg=01;35:*.mjpeg=01;35:*.gif=01;35:*.bmp=01;35:*.pbm=01;35:*.pgm=01;35:*.ppm=01;35:*.tga=01;35:*.xbm=01;35:*.xpm=01;35:*.tif=01;35:*.tiff=01;35:*.png=01;35:*.svg=01;35:*.svgz=01;35:*.mng=01;35:*.pcx=01;35:*.mov=01;35:*.mpg=01;35:*.mpeg=01;35:*.m2v=01;35:*.mkv=01;35:*.webm=01;35:*.webp=01;35:*.ogm=01;35:*.mp4=01;35:*.m4v=01;35:*.mp4v=01;35:*.vob=01;35:*.qt=01;35:*.nuv=01;35:*.wmv=01;35:*.asf=01;35:*.rm=01;35:*.rmvb=01;35:*.flc=01;35:*.avi=01;35:*.fli=01;35:*.flv=01;35:*.gl=01;35:*.dl=01;35:*.xcf=01;35:*.xwd=01;35:*.yuv=01;35:*.cgm=01;35:*.emf=01;35:*.ogv=01;35:*.ogx=01;35:*.aac=00;36:*.au=00;36:*.flac=00;36:*.m4a=00;36:*.mid=00;36:*.midi=00;36:*.mka=00;36:*.mp3=00;36:*.mpc=00;36:*.ogg=00;36:*.ra=00;36:*.wav=00;36:*.oga=00;36:*.opus=00;36:*.spx=00;36:*.xspf=00;36:',\n",
       "        'XDG_CURRENT_DESKTOP': 'ubuntu:GNOME',\n",
       "        'VTE_VERSION': '6800',\n",
       "        'WAYLAND_DISPLAY': 'wayland-0',\n",
       "        'CONDA_PROMPT_MODIFIER': '(base) ',\n",
       "        'GNOME_TERMINAL_SCREEN': '/org/gnome/Terminal/screen/b42c90e4_247e_432c_be4e_77cb29c18cad',\n",
       "        'GNOME_SETUP_DISPLAY': ':1',\n",
       "        'LESSCLOSE': '/usr/bin/lesspipe %s %s',\n",
       "        'XDG_SESSION_CLASS': 'user',\n",
       "        'TERM': 'xterm-color',\n",
       "        'LC_IDENTIFICATION': 'vi_VN',\n",
       "        '_CE_CONDA': '',\n",
       "        'LESSOPEN': '| /usr/bin/lesspipe %s',\n",
       "        'USER': 'ubuntu',\n",
       "        'GNOME_TERMINAL_SERVICE': ':1.126',\n",
       "        'CONDA_SHLVL': '1',\n",
       "        'DISPLAY': ':0',\n",
       "        'SHLVL': '1',\n",
       "        'LC_TELEPHONE': 'vi_VN',\n",
       "        'QT_IM_MODULE': 'ibus',\n",
       "        'LC_MEASUREMENT': 'vi_VN',\n",
       "        'CONDA_PYTHON_EXE': '/home/ubuntu/Downloads/ENTER/bin/python',\n",
       "        'XDG_RUNTIME_DIR': '/run/user/1000',\n",
       "        'CONDA_DEFAULT_ENV': 'base',\n",
       "        'LC_TIME': 'vi_VN',\n",
       "        'XDG_DATA_DIRS': '/usr/share/ubuntu:/usr/local/share/:/usr/share/:/var/lib/snapd/desktop',\n",
       "        'PATH': '/home/ubuntu/Downloads/ENTER/bin:/home/ubuntu/Downloads/ENTER/condabin:/usr/local/sbin:/usr/local/bin:/usr/sbin:/usr/bin:/sbin:/bin:/usr/games:/usr/local/games:/snap/bin:/snap/bin',\n",
       "        'GDMSESSION': 'ubuntu',\n",
       "        'DBUS_SESSION_BUS_ADDRESS': 'unix:path=/run/user/1000/bus',\n",
       "        'LC_NUMERIC': 'vi_VN',\n",
       "        'OLDPWD': '/home/ubuntu',\n",
       "        '_': '/home/ubuntu/Downloads/ENTER/bin/jupyter',\n",
       "        'PYDEVD_USE_FRAME_EVAL': 'NO',\n",
       "        'JPY_PARENT_PID': '5558',\n",
       "        'CLICOLOR': '1',\n",
       "        'PAGER': 'cat',\n",
       "        'GIT_PAGER': 'cat',\n",
       "        'MPLBACKEND': 'module://matplotlib_inline.backend_inline'}"
      ]
     },
     "execution_count": 2,
     "metadata": {},
     "output_type": "execute_result"
    }
   ],
   "source": [
    "os.environ"
   ]
  },
  {
   "cell_type": "code",
   "execution_count": 3,
   "id": "36d1cb21",
   "metadata": {},
   "outputs": [
    {
     "data": {
      "text/plain": [
       "'ubuntu'"
      ]
     },
     "execution_count": 3,
     "metadata": {},
     "output_type": "execute_result"
    }
   ],
   "source": [
    "os.environ['USER']"
   ]
  },
  {
   "cell_type": "code",
   "execution_count": 4,
   "id": "5da43896",
   "metadata": {},
   "outputs": [],
   "source": [
    "os.environ['DATASETS'] = os.getcwd() + \"/datasets\""
   ]
  },
  {
   "cell_type": "code",
   "execution_count": 6,
   "id": "304a9a4f",
   "metadata": {},
   "outputs": [
    {
     "data": {
      "text/plain": [
       "'/home/ubuntu/Projects/Pluralsight/PythonforDataAnalysts/datasets'"
      ]
     },
     "execution_count": 6,
     "metadata": {},
     "output_type": "execute_result"
    }
   ],
   "source": [
    "os.environ['DATASETS']"
   ]
  },
  {
   "cell_type": "code",
   "execution_count": 7,
   "id": "2f6abe93",
   "metadata": {},
   "outputs": [
    {
     "data": {
      "text/plain": [
       "environ{'SHELL': '/bin/bash',\n",
       "        'SESSION_MANAGER': 'local/ubuntu-TUF-GAMING-FX504GD-FX80GD:@/tmp/.ICE-unix/1371,unix/ubuntu-TUF-GAMING-FX504GD-FX80GD:/tmp/.ICE-unix/1371',\n",
       "        'QT_ACCESSIBILITY': '1',\n",
       "        'COLORTERM': 'truecolor',\n",
       "        'XDG_CONFIG_DIRS': '/etc/xdg/xdg-ubuntu:/etc/xdg',\n",
       "        'SSH_AGENT_LAUNCHER': 'gnome-keyring',\n",
       "        'XDG_MENU_PREFIX': 'gnome-',\n",
       "        'GNOME_DESKTOP_SESSION_ID': 'this-is-deprecated',\n",
       "        'CONDA_EXE': '/home/ubuntu/Downloads/ENTER/bin/conda',\n",
       "        '_CE_M': '',\n",
       "        'LC_ADDRESS': 'vi_VN',\n",
       "        'GNOME_SHELL_SESSION_MODE': 'ubuntu',\n",
       "        'LC_NAME': 'vi_VN',\n",
       "        'SSH_AUTH_SOCK': '/run/user/1000/keyring/ssh',\n",
       "        'XMODIFIERS': '@im=ibus',\n",
       "        'DESKTOP_SESSION': 'ubuntu',\n",
       "        'LC_MONETARY': 'vi_VN',\n",
       "        'GTK_MODULES': 'gail:atk-bridge',\n",
       "        'PWD': '/home/ubuntu/Projects/Pluralsight/PythonforDataAnalysts',\n",
       "        'LOGNAME': 'ubuntu',\n",
       "        'XDG_SESSION_DESKTOP': 'ubuntu',\n",
       "        'XDG_SESSION_TYPE': 'wayland',\n",
       "        'CONDA_PREFIX': '/home/ubuntu/Downloads/ENTER',\n",
       "        'SYSTEMD_EXEC_PID': '1472',\n",
       "        'XAUTHORITY': '/run/user/1000/.mutter-Xwaylandauth.LE2561',\n",
       "        'HOME': '/home/ubuntu',\n",
       "        'USERNAME': 'ubuntu',\n",
       "        'IM_CONFIG_PHASE': '1',\n",
       "        'LC_PAPER': 'vi_VN',\n",
       "        'LANG': 'en_US.UTF-8',\n",
       "        'LS_COLORS': 'rs=0:di=01;34:ln=01;36:mh=00:pi=40;33:so=01;35:do=01;35:bd=40;33;01:cd=40;33;01:or=40;31;01:mi=00:su=37;41:sg=30;43:ca=30;41:tw=30;42:ow=34;42:st=37;44:ex=01;32:*.tar=01;31:*.tgz=01;31:*.arc=01;31:*.arj=01;31:*.taz=01;31:*.lha=01;31:*.lz4=01;31:*.lzh=01;31:*.lzma=01;31:*.tlz=01;31:*.txz=01;31:*.tzo=01;31:*.t7z=01;31:*.zip=01;31:*.z=01;31:*.dz=01;31:*.gz=01;31:*.lrz=01;31:*.lz=01;31:*.lzo=01;31:*.xz=01;31:*.zst=01;31:*.tzst=01;31:*.bz2=01;31:*.bz=01;31:*.tbz=01;31:*.tbz2=01;31:*.tz=01;31:*.deb=01;31:*.rpm=01;31:*.jar=01;31:*.war=01;31:*.ear=01;31:*.sar=01;31:*.rar=01;31:*.alz=01;31:*.ace=01;31:*.zoo=01;31:*.cpio=01;31:*.7z=01;31:*.rz=01;31:*.cab=01;31:*.wim=01;31:*.swm=01;31:*.dwm=01;31:*.esd=01;31:*.jpg=01;35:*.jpeg=01;35:*.mjpg=01;35:*.mjpeg=01;35:*.gif=01;35:*.bmp=01;35:*.pbm=01;35:*.pgm=01;35:*.ppm=01;35:*.tga=01;35:*.xbm=01;35:*.xpm=01;35:*.tif=01;35:*.tiff=01;35:*.png=01;35:*.svg=01;35:*.svgz=01;35:*.mng=01;35:*.pcx=01;35:*.mov=01;35:*.mpg=01;35:*.mpeg=01;35:*.m2v=01;35:*.mkv=01;35:*.webm=01;35:*.webp=01;35:*.ogm=01;35:*.mp4=01;35:*.m4v=01;35:*.mp4v=01;35:*.vob=01;35:*.qt=01;35:*.nuv=01;35:*.wmv=01;35:*.asf=01;35:*.rm=01;35:*.rmvb=01;35:*.flc=01;35:*.avi=01;35:*.fli=01;35:*.flv=01;35:*.gl=01;35:*.dl=01;35:*.xcf=01;35:*.xwd=01;35:*.yuv=01;35:*.cgm=01;35:*.emf=01;35:*.ogv=01;35:*.ogx=01;35:*.aac=00;36:*.au=00;36:*.flac=00;36:*.m4a=00;36:*.mid=00;36:*.midi=00;36:*.mka=00;36:*.mp3=00;36:*.mpc=00;36:*.ogg=00;36:*.ra=00;36:*.wav=00;36:*.oga=00;36:*.opus=00;36:*.spx=00;36:*.xspf=00;36:',\n",
       "        'XDG_CURRENT_DESKTOP': 'ubuntu:GNOME',\n",
       "        'VTE_VERSION': '6800',\n",
       "        'WAYLAND_DISPLAY': 'wayland-0',\n",
       "        'CONDA_PROMPT_MODIFIER': '(base) ',\n",
       "        'GNOME_TERMINAL_SCREEN': '/org/gnome/Terminal/screen/b42c90e4_247e_432c_be4e_77cb29c18cad',\n",
       "        'GNOME_SETUP_DISPLAY': ':1',\n",
       "        'LESSCLOSE': '/usr/bin/lesspipe %s %s',\n",
       "        'XDG_SESSION_CLASS': 'user',\n",
       "        'TERM': 'xterm-color',\n",
       "        'LC_IDENTIFICATION': 'vi_VN',\n",
       "        '_CE_CONDA': '',\n",
       "        'LESSOPEN': '| /usr/bin/lesspipe %s',\n",
       "        'USER': 'ubuntu',\n",
       "        'GNOME_TERMINAL_SERVICE': ':1.126',\n",
       "        'CONDA_SHLVL': '1',\n",
       "        'DISPLAY': ':0',\n",
       "        'SHLVL': '1',\n",
       "        'LC_TELEPHONE': 'vi_VN',\n",
       "        'QT_IM_MODULE': 'ibus',\n",
       "        'LC_MEASUREMENT': 'vi_VN',\n",
       "        'CONDA_PYTHON_EXE': '/home/ubuntu/Downloads/ENTER/bin/python',\n",
       "        'XDG_RUNTIME_DIR': '/run/user/1000',\n",
       "        'CONDA_DEFAULT_ENV': 'base',\n",
       "        'LC_TIME': 'vi_VN',\n",
       "        'XDG_DATA_DIRS': '/usr/share/ubuntu:/usr/local/share/:/usr/share/:/var/lib/snapd/desktop',\n",
       "        'PATH': '/home/ubuntu/Downloads/ENTER/bin:/home/ubuntu/Downloads/ENTER/condabin:/usr/local/sbin:/usr/local/bin:/usr/sbin:/usr/bin:/sbin:/bin:/usr/games:/usr/local/games:/snap/bin:/snap/bin',\n",
       "        'GDMSESSION': 'ubuntu',\n",
       "        'DBUS_SESSION_BUS_ADDRESS': 'unix:path=/run/user/1000/bus',\n",
       "        'LC_NUMERIC': 'vi_VN',\n",
       "        'OLDPWD': '/home/ubuntu',\n",
       "        '_': '/home/ubuntu/Downloads/ENTER/bin/jupyter',\n",
       "        'PYDEVD_USE_FRAME_EVAL': 'NO',\n",
       "        'JPY_PARENT_PID': '5558',\n",
       "        'CLICOLOR': '1',\n",
       "        'PAGER': 'cat',\n",
       "        'GIT_PAGER': 'cat',\n",
       "        'MPLBACKEND': 'module://matplotlib_inline.backend_inline',\n",
       "        'DATASETS': '/home/ubuntu/Projects/Pluralsight/PythonforDataAnalysts/datasets'}"
      ]
     },
     "execution_count": 7,
     "metadata": {},
     "output_type": "execute_result"
    }
   ],
   "source": [
    "os.environ"
   ]
  },
  {
   "cell_type": "code",
   "execution_count": 8,
   "id": "0d2efa74",
   "metadata": {},
   "outputs": [
    {
     "name": "stdout",
     "output_type": "stream",
     "text": [
      "ArgumentReassignmentVsModification.ipynb\r\n",
      "BasicTypesInPython.ipynb\r\n",
      "BreakContinueAndPass.ipynb\r\n",
      "BuiltInFunction.ipynb\r\n",
      "CommandLineProcessesAndEnvironmentVariables.ipynb\r\n",
      "Dictionaries.ipynb\r\n",
      "FirstClassFunctions.ipynb\r\n",
      "ForLoops.ipynb\r\n",
      "FunctionsInputArgumentsAndReturnValues.ipynb\r\n",
      "IfElseAndElifStatements.ipynb\r\n",
      "ImportingModules.ipynb\r\n",
      "KeywordArgumentsDefaultValues.ipynb\r\n",
      "Lists.ipynb\r\n",
      "LogicalExpressions.ipynb\r\n",
      "MyFirstPythonNotebook.ipynb\r\n",
      "SimpleExpression.ipynb\r\n",
      "Strings.ipynb\r\n",
      "Tuples.ipynb\r\n",
      "Variables.ipynb\r\n",
      "WhileLoops.ipynb\r\n"
     ]
    }
   ],
   "source": [
    "!ls"
   ]
  },
  {
   "cell_type": "code",
   "execution_count": 9,
   "id": "6151cb9a",
   "metadata": {},
   "outputs": [
    {
     "name": "stdout",
     "output_type": "stream",
     "text": [
      "total 196\r\n",
      "-rw-rw-r-- 1 ubuntu ubuntu  7614 Thg 6  20 10:53 ArgumentReassignmentVsModification.ipynb\r\n",
      "-rw-rw-r-- 1 ubuntu ubuntu  5810 Thg 6  19 11:50 BasicTypesInPython.ipynb\r\n",
      "-rw-rw-r-- 1 ubuntu ubuntu  4563 Thg 6  19 16:50 BreakContinueAndPass.ipynb\r\n",
      "-rw-rw-r-- 1 ubuntu ubuntu 13585 Thg 6  19 13:54 BuiltInFunction.ipynb\r\n",
      "-rw-rw-r-- 1 ubuntu ubuntu  7336 Thg 6  20 14:30 CommandLineProcessesAndEnvironmentVariables.ipynb\r\n",
      "-rw-rw-r-- 1 ubuntu ubuntu  7442 Thg 6  19 14:52 Dictionaries.ipynb\r\n",
      "-rw-rw-r-- 1 ubuntu ubuntu  7909 Thg 6  20 11:48 FirstClassFunctions.ipynb\r\n",
      "-rw-rw-r-- 1 ubuntu ubuntu  6521 Thg 6  19 16:23 ForLoops.ipynb\r\n",
      "-rw-rw-r-- 1 ubuntu ubuntu 12693 Thg 6  20 10:17 FunctionsInputArgumentsAndReturnValues.ipynb\r\n",
      "-rw-rw-r-- 1 ubuntu ubuntu  6903 Thg 6  19 16:04 IfElseAndElifStatements.ipynb\r\n",
      "-rw-rw-r-- 1 ubuntu ubuntu 17074 Thg 6  20 14:26 ImportingModules.ipynb\r\n",
      "-rw-rw-r-- 1 ubuntu ubuntu  2935 Thg 6  20 11:16 KeywordArgumentsDefaultValues.ipynb\r\n",
      "-rw-rw-r-- 1 ubuntu ubuntu 17871 Thg 6  19 14:25 Lists.ipynb\r\n",
      "-rw-rw-r-- 1 ubuntu ubuntu  9808 Thg 6  19 11:15 LogicalExpressions.ipynb\r\n",
      "-rw-rw-r-- 1 ubuntu ubuntu   589 Thg 6  19 11:15 MyFirstPythonNotebook.ipynb\r\n",
      "-rw-rw-r-- 1 ubuntu ubuntu 11140 Thg 6  19 11:15 SimpleExpression.ipynb\r\n",
      "-rw-rw-r-- 1 ubuntu ubuntu  4565 Thg 6  19 11:58 Strings.ipynb\r\n",
      "-rw-rw-r-- 1 ubuntu ubuntu  7485 Thg 6  19 14:38 Tuples.ipynb\r\n",
      "-rw-rw-r-- 1 ubuntu ubuntu  7276 Thg 6  19 11:34 Variables.ipynb\r\n",
      "-rw-rw-r-- 1 ubuntu ubuntu  3433 Thg 6  19 16:35 WhileLoops.ipynb\r\n"
     ]
    }
   ],
   "source": [
    "!ls -l"
   ]
  },
  {
   "cell_type": "code",
   "execution_count": 10,
   "id": "f7a74239",
   "metadata": {},
   "outputs": [
    {
     "data": {
      "text/plain": [
       "['MyFirstPythonNotebook.ipynb',\n",
       " 'ArgumentReassignmentVsModification.ipynb',\n",
       " '.ipynb_checkpoints',\n",
       " 'FirstClassFunctions.ipynb',\n",
       " 'ImportingModules.ipynb',\n",
       " 'BuiltInFunction.ipynb',\n",
       " 'CommandLineProcessesAndEnvironmentVariables.ipynb',\n",
       " 'Strings.ipynb',\n",
       " 'ForLoops.ipynb',\n",
       " 'FunctionsInputArgumentsAndReturnValues.ipynb',\n",
       " 'Dictionaries.ipynb',\n",
       " 'Variables.ipynb',\n",
       " 'SimpleExpression.ipynb',\n",
       " 'LogicalExpressions.ipynb',\n",
       " 'WhileLoops.ipynb',\n",
       " 'Lists.ipynb',\n",
       " 'BreakContinueAndPass.ipynb',\n",
       " 'IfElseAndElifStatements.ipynb',\n",
       " 'KeywordArgumentsDefaultValues.ipynb',\n",
       " 'Tuples.ipynb',\n",
       " 'BasicTypesInPython.ipynb']"
      ]
     },
     "execution_count": 10,
     "metadata": {},
     "output_type": "execute_result"
    }
   ],
   "source": [
    "os.listdir()"
   ]
  },
  {
   "cell_type": "code",
   "execution_count": 11,
   "id": "5e6c6495",
   "metadata": {},
   "outputs": [
    {
     "name": "stdout",
     "output_type": "stream",
     "text": [
      "CommandLineProcessesAndEnvironmentVariables.ipynb:      \"ImportingModules.ipynb\\r\\n\",\r\n",
      "CommandLineProcessesAndEnvironmentVariables.ipynb:      \"-rw-rw-r-- 1 ubuntu ubuntu 17074 Thg 6  20 14:26 ImportingModules.ipynb\\r\\n\",\r\n",
      "CommandLineProcessesAndEnvironmentVariables.ipynb:       \" 'ImportingModules.ipynb',\\n\",\r\n"
     ]
    }
   ],
   "source": [
    "!grep -e \"Modules\" *"
   ]
  },
  {
   "cell_type": "code",
   "execution_count": 12,
   "id": "bda7c8fa",
   "metadata": {},
   "outputs": [],
   "source": [
    "!grep -e \"Modules\" * > modules.txt"
   ]
  },
  {
   "cell_type": "code",
   "execution_count": 13,
   "id": "311482d8",
   "metadata": {},
   "outputs": [
    {
     "name": "stdout",
     "output_type": "stream",
     "text": [
      "ArgumentReassignmentVsModification.ipynb\r\n",
      "BasicTypesInPython.ipynb\r\n",
      "BreakContinueAndPass.ipynb\r\n",
      "BuiltInFunction.ipynb\r\n",
      "CommandLineProcessesAndEnvironmentVariables.ipynb\r\n",
      "Dictionaries.ipynb\r\n",
      "FirstClassFunctions.ipynb\r\n",
      "ForLoops.ipynb\r\n",
      "FunctionsInputArgumentsAndReturnValues.ipynb\r\n",
      "IfElseAndElifStatements.ipynb\r\n",
      "ImportingModules.ipynb\r\n",
      "KeywordArgumentsDefaultValues.ipynb\r\n",
      "Lists.ipynb\r\n",
      "LogicalExpressions.ipynb\r\n",
      "modules.txt\r\n",
      "MyFirstPythonNotebook.ipynb\r\n",
      "SimpleExpression.ipynb\r\n",
      "Strings.ipynb\r\n",
      "Tuples.ipynb\r\n",
      "Variables.ipynb\r\n",
      "WhileLoops.ipynb\r\n"
     ]
    }
   ],
   "source": [
    "!ls"
   ]
  },
  {
   "cell_type": "code",
   "execution_count": 14,
   "id": "35f1d898",
   "metadata": {},
   "outputs": [
    {
     "name": "stdout",
     "output_type": "stream",
     "text": [
      "CommandLineProcessesAndEnvironmentVariables.ipynb:      \"ImportingModules.ipynb\\r\\n\",\r\n",
      "CommandLineProcessesAndEnvironmentVariables.ipynb:      \"-rw-rw-r-- 1 ubuntu ubuntu 17074 Thg 6  20 14:26 ImportingModules.ipynb\\r\\n\",\r\n",
      "CommandLineProcessesAndEnvironmentVariables.ipynb:       \" 'ImportingModules.ipynb',\\n\",\r\n",
      "CommandLineProcessesAndEnvironmentVariables.ipynb:      \"CommandLineProcessesAndEnvironmentVariables.ipynb:      \\\"ImportingModules.ipynb\\\\r\\\\n\\\",\\r\\n\",\r\n",
      "CommandLineProcessesAndEnvironmentVariables.ipynb:      \"CommandLineProcessesAndEnvironmentVariables.ipynb:      \\\"-rw-rw-r-- 1 ubuntu ubuntu 17074 Thg 6  20 14:26 ImportingModules.ipynb\\\\r\\\\n\\\",\\r\\n\",\r\n",
      "CommandLineProcessesAndEnvironmentVariables.ipynb:      \"CommandLineProcessesAndEnvironmentVariables.ipynb:       \\\" 'ImportingModules.ipynb',\\\\n\\\",\\r\\n\"\r\n",
      "CommandLineProcessesAndEnvironmentVariables.ipynb:    \"!grep -e \\\"Modules\\\" *\"\r\n"
     ]
    }
   ],
   "source": [
    "!cat modules.txt"
   ]
  },
  {
   "cell_type": "code",
   "execution_count": 15,
   "id": "01b6753c",
   "metadata": {},
   "outputs": [],
   "source": [
    "import subprocess"
   ]
  },
  {
   "cell_type": "code",
   "execution_count": 18,
   "id": "39c9cf07",
   "metadata": {},
   "outputs": [
    {
     "name": "stdout",
     "output_type": "stream",
     "text": [
      "b'total 216\\n-rw-rw-r-- 1 ubuntu ubuntu  7614 Thg 6  20 10:53 ArgumentReassignmentVsModification.ipynb\\n-rw-rw-r-- 1 ubuntu ubuntu  5810 Thg 6  19 11:50 BasicTypesInPython.ipynb\\n-rw-rw-r-- 1 ubuntu ubuntu  4563 Thg 6  19 16:50 BreakContinueAndPass.ipynb\\n-rw-rw-r-- 1 ubuntu ubuntu 13585 Thg 6  19 13:54 BuiltInFunction.ipynb\\n-rw-rw-r-- 1 ubuntu ubuntu 24195 Thg 6  20 14:38 CommandLineProcessesAndEnvironmentVariables.ipynb\\n-rw-rw-r-- 1 ubuntu ubuntu  7442 Thg 6  19 14:52 Dictionaries.ipynb\\n-rw-rw-r-- 1 ubuntu ubuntu  7909 Thg 6  20 11:48 FirstClassFunctions.ipynb\\n-rw-rw-r-- 1 ubuntu ubuntu  6521 Thg 6  19 16:23 ForLoops.ipynb\\n-rw-rw-r-- 1 ubuntu ubuntu 12693 Thg 6  20 10:17 FunctionsInputArgumentsAndReturnValues.ipynb\\n-rw-rw-r-- 1 ubuntu ubuntu  6903 Thg 6  19 16:04 IfElseAndElifStatements.ipynb\\n-rw-rw-r-- 1 ubuntu ubuntu 17074 Thg 6  20 14:26 ImportingModules.ipynb\\n-rw-rw-r-- 1 ubuntu ubuntu  2935 Thg 6  20 11:16 KeywordArgumentsDefaultValues.ipynb\\n-rw-rw-r-- 1 ubuntu ubuntu 17871 Thg 6  19 14:25 Lists.ipynb\\n-rw-rw-r-- 1 ubuntu ubuntu  9808 Thg 6  19 11:15 LogicalExpressions.ipynb\\n-rw-rw-r-- 1 ubuntu ubuntu   898 Thg 6  20 14:35 modules.txt\\n-rw-rw-r-- 1 ubuntu ubuntu   589 Thg 6  19 11:15 MyFirstPythonNotebook.ipynb\\n-rw-rw-r-- 1 ubuntu ubuntu 11140 Thg 6  19 11:15 SimpleExpression.ipynb\\n-rw-rw-r-- 1 ubuntu ubuntu  4565 Thg 6  19 11:58 Strings.ipynb\\n-rw-rw-r-- 1 ubuntu ubuntu  7485 Thg 6  19 14:38 Tuples.ipynb\\n-rw-rw-r-- 1 ubuntu ubuntu  7276 Thg 6  19 11:34 Variables.ipynb\\n-rw-rw-r-- 1 ubuntu ubuntu  3433 Thg 6  19 16:35 WhileLoops.ipynb\\n'\n"
     ]
    }
   ],
   "source": [
    "output = subprocess.check_output(['ls','-l'])\n",
    "print(output)"
   ]
  },
  {
   "cell_type": "code",
   "execution_count": 19,
   "id": "2f31a6a3",
   "metadata": {},
   "outputs": [],
   "source": [
    "from subprocess import Popen, PIPE"
   ]
  },
  {
   "cell_type": "code",
   "execution_count": 23,
   "id": "713455a2",
   "metadata": {},
   "outputs": [],
   "source": [
    "process = Popen(['cat','modules.txt'], stdout=PIPE, stderr=PIPE)"
   ]
  },
  {
   "cell_type": "code",
   "execution_count": 24,
   "id": "e61ed5dc",
   "metadata": {},
   "outputs": [],
   "source": [
    "stdout, stderr = process.communicate()"
   ]
  },
  {
   "cell_type": "code",
   "execution_count": 25,
   "id": "a1a7aebb",
   "metadata": {},
   "outputs": [
    {
     "data": {
      "text/plain": [
       "b'CommandLineProcessesAndEnvironmentVariables.ipynb:      \"ImportingModules.ipynb\\\\r\\\\n\",\\nCommandLineProcessesAndEnvironmentVariables.ipynb:      \"-rw-rw-r-- 1 ubuntu ubuntu 17074 Thg 6  20 14:26 ImportingModules.ipynb\\\\r\\\\n\",\\nCommandLineProcessesAndEnvironmentVariables.ipynb:       \" \\'ImportingModules.ipynb\\',\\\\n\",\\nCommandLineProcessesAndEnvironmentVariables.ipynb:      \"CommandLineProcessesAndEnvironmentVariables.ipynb:      \\\\\"ImportingModules.ipynb\\\\\\\\r\\\\\\\\n\\\\\",\\\\r\\\\n\",\\nCommandLineProcessesAndEnvironmentVariables.ipynb:      \"CommandLineProcessesAndEnvironmentVariables.ipynb:      \\\\\"-rw-rw-r-- 1 ubuntu ubuntu 17074 Thg 6  20 14:26 ImportingModules.ipynb\\\\\\\\r\\\\\\\\n\\\\\",\\\\r\\\\n\",\\nCommandLineProcessesAndEnvironmentVariables.ipynb:      \"CommandLineProcessesAndEnvironmentVariables.ipynb:       \\\\\" \\'ImportingModules.ipynb\\',\\\\\\\\n\\\\\",\\\\r\\\\n\"\\nCommandLineProcessesAndEnvironmentVariables.ipynb:    \"!grep -e \\\\\"Modules\\\\\" *\"\\n'"
      ]
     },
     "execution_count": 25,
     "metadata": {},
     "output_type": "execute_result"
    }
   ],
   "source": [
    "stdout"
   ]
  },
  {
   "cell_type": "code",
   "execution_count": 26,
   "id": "601fc731",
   "metadata": {},
   "outputs": [
    {
     "data": {
      "text/plain": [
       "b''"
      ]
     },
     "execution_count": 26,
     "metadata": {},
     "output_type": "execute_result"
    }
   ],
   "source": [
    "stderr"
   ]
  },
  {
   "cell_type": "code",
   "execution_count": null,
   "id": "42596888",
   "metadata": {},
   "outputs": [],
   "source": []
  }
 ],
 "metadata": {
  "kernelspec": {
   "display_name": "Python 3 (ipykernel)",
   "language": "python",
   "name": "python3"
  },
  "language_info": {
   "codemirror_mode": {
    "name": "ipython",
    "version": 3
   },
   "file_extension": ".py",
   "mimetype": "text/x-python",
   "name": "python",
   "nbconvert_exporter": "python",
   "pygments_lexer": "ipython3",
   "version": "3.9.12"
  }
 },
 "nbformat": 4,
 "nbformat_minor": 5
}
