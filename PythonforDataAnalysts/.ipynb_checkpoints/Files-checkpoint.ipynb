{
 "cells": [
  {
   "cell_type": "code",
   "execution_count": 1,
   "id": "451928ab",
   "metadata": {},
   "outputs": [],
   "source": [
    "import os"
   ]
  },
  {
   "cell_type": "code",
   "execution_count": 2,
   "id": "7ea97b2e",
   "metadata": {},
   "outputs": [
    {
     "data": {
      "text/plain": [
       "'/home/ubuntu/Projects/Pluralsight/PythonforDataAnalysts'"
      ]
     },
     "execution_count": 2,
     "metadata": {},
     "output_type": "execute_result"
    }
   ],
   "source": [
    "os.getcwd()"
   ]
  },
  {
   "cell_type": "code",
   "execution_count": 6,
   "id": "ab75e791",
   "metadata": {},
   "outputs": [
    {
     "name": "stdout",
     "output_type": "stream",
     "text": [
      "carsandhp.txt\r\n"
     ]
    }
   ],
   "source": [
    "!ls ./Files"
   ]
  },
  {
   "cell_type": "code",
   "execution_count": 7,
   "id": "8513bbeb",
   "metadata": {},
   "outputs": [
    {
     "name": "stdout",
     "output_type": "stream",
     "text": [
      "Mustang,295\r\n",
      "Phantom,465\r\n",
      "Wraith,450\r\n"
     ]
    }
   ],
   "source": [
    "!cat ./Files/carsandhp.txt"
   ]
  },
  {
   "cell_type": "code",
   "execution_count": 8,
   "id": "16c5bebf",
   "metadata": {},
   "outputs": [
    {
     "data": {
      "text/plain": [
       "<_io.TextIOWrapper name='./Files/carsandhp.txt' mode='r' encoding='UTF-8'>"
      ]
     },
     "execution_count": 8,
     "metadata": {},
     "output_type": "execute_result"
    }
   ],
   "source": [
    "file = open(\"./Files/carsandhp.txt\")\n",
    "file"
   ]
  },
  {
   "cell_type": "code",
   "execution_count": 9,
   "id": "ea596e24",
   "metadata": {},
   "outputs": [
    {
     "data": {
      "text/plain": [
       "<_io.TextIOWrapper name='./Files/carsandhp.txt' mode='r' encoding='UTF-8'>"
      ]
     },
     "execution_count": 9,
     "metadata": {},
     "output_type": "execute_result"
    }
   ],
   "source": [
    "file = open(\"./Files/carsandhp.txt\", mode='r')\n",
    "file"
   ]
  },
  {
   "cell_type": "code",
   "execution_count": 10,
   "id": "edd6cf0b",
   "metadata": {},
   "outputs": [
    {
     "data": {
      "text/plain": [
       "'Mustang,295\\nPhantom,465\\nWraith,450\\n'"
      ]
     },
     "execution_count": 10,
     "metadata": {},
     "output_type": "execute_result"
    }
   ],
   "source": [
    "file.read()"
   ]
  },
  {
   "cell_type": "code",
   "execution_count": 11,
   "id": "12a630ae",
   "metadata": {},
   "outputs": [
    {
     "data": {
      "text/plain": [
       "''"
      ]
     },
     "execution_count": 11,
     "metadata": {},
     "output_type": "execute_result"
    }
   ],
   "source": [
    "file.read()"
   ]
  },
  {
   "cell_type": "code",
   "execution_count": 12,
   "id": "96a754d8",
   "metadata": {},
   "outputs": [
    {
     "data": {
      "text/plain": [
       "0"
      ]
     },
     "execution_count": 12,
     "metadata": {},
     "output_type": "execute_result"
    }
   ],
   "source": [
    "file.seek(0)"
   ]
  },
  {
   "cell_type": "code",
   "execution_count": 13,
   "id": "af6be344",
   "metadata": {},
   "outputs": [
    {
     "data": {
      "text/plain": [
       "'Musta'"
      ]
     },
     "execution_count": 13,
     "metadata": {},
     "output_type": "execute_result"
    }
   ],
   "source": [
    "file.read(5)"
   ]
  },
  {
   "cell_type": "code",
   "execution_count": 14,
   "id": "16dd0051",
   "metadata": {},
   "outputs": [
    {
     "data": {
      "text/plain": [
       "'ng,295'"
      ]
     },
     "execution_count": 14,
     "metadata": {},
     "output_type": "execute_result"
    }
   ],
   "source": [
    "file.read(6)"
   ]
  },
  {
   "cell_type": "code",
   "execution_count": 15,
   "id": "52facdde",
   "metadata": {},
   "outputs": [
    {
     "data": {
      "text/plain": [
       "11"
      ]
     },
     "execution_count": 15,
     "metadata": {},
     "output_type": "execute_result"
    }
   ],
   "source": [
    "file.tell()"
   ]
  },
  {
   "cell_type": "code",
   "execution_count": 16,
   "id": "f079b4d3",
   "metadata": {},
   "outputs": [
    {
     "data": {
      "text/plain": [
       "'\\nPhantom,465\\nWraith,450\\n'"
      ]
     },
     "execution_count": 16,
     "metadata": {},
     "output_type": "execute_result"
    }
   ],
   "source": [
    "file.read()"
   ]
  },
  {
   "cell_type": "code",
   "execution_count": 17,
   "id": "b93ee0a4",
   "metadata": {},
   "outputs": [],
   "source": [
    "file.close()"
   ]
  },
  {
   "cell_type": "code",
   "execution_count": 18,
   "id": "47242b70",
   "metadata": {},
   "outputs": [
    {
     "ename": "ValueError",
     "evalue": "I/O operation on closed file.",
     "output_type": "error",
     "traceback": [
      "\u001b[0;31m---------------------------------------------------------------------------\u001b[0m",
      "\u001b[0;31mValueError\u001b[0m                                Traceback (most recent call last)",
      "Input \u001b[0;32mIn [18]\u001b[0m, in \u001b[0;36m<cell line: 1>\u001b[0;34m()\u001b[0m\n\u001b[0;32m----> 1\u001b[0m \u001b[43mfile\u001b[49m\u001b[38;5;241;43m.\u001b[39;49m\u001b[43mread\u001b[49m\u001b[43m(\u001b[49m\u001b[43m)\u001b[49m\n",
      "\u001b[0;31mValueError\u001b[0m: I/O operation on closed file."
     ]
    }
   ],
   "source": [
    "file.read()"
   ]
  },
  {
   "cell_type": "code",
   "execution_count": 19,
   "id": "386a6e12",
   "metadata": {},
   "outputs": [
    {
     "data": {
      "text/plain": [
       "<_io.TextIOWrapper name='./Files/carsandhp.txt' mode='r' encoding='UTF-8'>"
      ]
     },
     "execution_count": 19,
     "metadata": {},
     "output_type": "execute_result"
    }
   ],
   "source": [
    "file = open(\"./Files/carsandhp.txt\", mode='r')\n",
    "file"
   ]
  },
  {
   "cell_type": "code",
   "execution_count": 20,
   "id": "84f6fd37",
   "metadata": {},
   "outputs": [
    {
     "data": {
      "text/plain": [
       "'Mustang,295\\n'"
      ]
     },
     "execution_count": 20,
     "metadata": {},
     "output_type": "execute_result"
    }
   ],
   "source": [
    "file.readline()"
   ]
  },
  {
   "cell_type": "code",
   "execution_count": 21,
   "id": "e97903e3",
   "metadata": {},
   "outputs": [
    {
     "data": {
      "text/plain": [
       "'Phantom,465\\n'"
      ]
     },
     "execution_count": 21,
     "metadata": {},
     "output_type": "execute_result"
    }
   ],
   "source": [
    "file.readline()"
   ]
  },
  {
   "cell_type": "code",
   "execution_count": 22,
   "id": "71f4c1c7",
   "metadata": {},
   "outputs": [
    {
     "data": {
      "text/plain": [
       "0"
      ]
     },
     "execution_count": 22,
     "metadata": {},
     "output_type": "execute_result"
    }
   ],
   "source": [
    "file.seek(0)"
   ]
  },
  {
   "cell_type": "code",
   "execution_count": 23,
   "id": "53ccb13f",
   "metadata": {},
   "outputs": [
    {
     "data": {
      "text/plain": [
       "['Mustang,295\\n', 'Phantom,465\\n', 'Wraith,450\\n']"
      ]
     },
     "execution_count": 23,
     "metadata": {},
     "output_type": "execute_result"
    }
   ],
   "source": [
    "file.readlines()"
   ]
  },
  {
   "cell_type": "code",
   "execution_count": 24,
   "id": "2a0c61c0",
   "metadata": {},
   "outputs": [],
   "source": [
    "car_specs = []\n",
    "\n",
    "with open(\"./Files/carsandhp.txt\", mode='r') as file_again:\n",
    "    for car in file_again:\n",
    "        car_specs.append(car.rstrip(\"\\n\"))"
   ]
  },
  {
   "cell_type": "code",
   "execution_count": 25,
   "id": "4bbf2cc3",
   "metadata": {},
   "outputs": [
    {
     "name": "stdout",
     "output_type": "stream",
     "text": [
      "['Mustang,295', 'Phantom,465', 'Wraith,450']\n"
     ]
    }
   ],
   "source": [
    "print(car_specs)"
   ]
  },
  {
   "cell_type": "code",
   "execution_count": 26,
   "id": "59f61f27",
   "metadata": {},
   "outputs": [
    {
     "ename": "ValueError",
     "evalue": "I/O operation on closed file.",
     "output_type": "error",
     "traceback": [
      "\u001b[0;31m---------------------------------------------------------------------------\u001b[0m",
      "\u001b[0;31mValueError\u001b[0m                                Traceback (most recent call last)",
      "Input \u001b[0;32mIn [26]\u001b[0m, in \u001b[0;36m<cell line: 1>\u001b[0;34m()\u001b[0m\n\u001b[0;32m----> 1\u001b[0m \u001b[43mfile_again\u001b[49m\u001b[38;5;241;43m.\u001b[39;49m\u001b[43mseek\u001b[49m\u001b[43m(\u001b[49m\u001b[38;5;241;43m0\u001b[39;49m\u001b[43m)\u001b[49m\n",
      "\u001b[0;31mValueError\u001b[0m: I/O operation on closed file."
     ]
    }
   ],
   "source": [
    "file_again.seek(0)"
   ]
  },
  {
   "cell_type": "code",
   "execution_count": 27,
   "id": "503ae73c",
   "metadata": {},
   "outputs": [
    {
     "name": "stdout",
     "output_type": "stream",
     "text": [
      "Pierce Arrow\r\n",
      "Oldsmobile\r\n",
      "Mustang\r\n",
      "Corvette\r\n",
      "Alfa Romeo Spider"
     ]
    }
   ],
   "source": [
    "!cat ./Files/classiccars.txt"
   ]
  },
  {
   "cell_type": "code",
   "execution_count": 28,
   "id": "ebb3147e",
   "metadata": {},
   "outputs": [
    {
     "name": "stdout",
     "output_type": "stream",
     "text": [
      "Number of characters:  5\n"
     ]
    }
   ],
   "source": [
    "with open(\"./Files/classiccars.txt\", mode='a') as f:\n",
    "    more_cars = f.write(\"Buick\")\n",
    "    print(\"Number of characters: \", more_cars)"
   ]
  },
  {
   "cell_type": "code",
   "execution_count": 29,
   "id": "c30f2e2f",
   "metadata": {},
   "outputs": [
    {
     "name": "stdout",
     "output_type": "stream",
     "text": [
      "Pierce Arrow\r\n",
      "Oldsmobile\r\n",
      "Mustang\r\n",
      "Corvette\r\n",
      "Alfa Romeo SpiderBuick"
     ]
    }
   ],
   "source": [
    "!cat ./Files/classiccars.txt"
   ]
  },
  {
   "cell_type": "code",
   "execution_count": 30,
   "id": "2dca179a",
   "metadata": {},
   "outputs": [],
   "source": [
    "sports_cars = [\"Mustang\",\"Agera\",\"Regera\",\"Chiron\",\"Veyron\"]"
   ]
  },
  {
   "cell_type": "code",
   "execution_count": 31,
   "id": "a3becdf3",
   "metadata": {},
   "outputs": [],
   "source": [
    "with open(\"./Files/sportscars.txt\", mode= \"w\") as f:\n",
    "    for car in sports_cars:\n",
    "        f.write(car)"
   ]
  },
  {
   "cell_type": "code",
   "execution_count": 32,
   "id": "107d68df",
   "metadata": {},
   "outputs": [
    {
     "name": "stdout",
     "output_type": "stream",
     "text": [
      "MustangAgeraRegeraChironVeyron"
     ]
    }
   ],
   "source": [
    "!cat ./Files/sportscars.txt"
   ]
  },
  {
   "cell_type": "code",
   "execution_count": 33,
   "id": "a5c1053e",
   "metadata": {},
   "outputs": [],
   "source": [
    "with open(\"./Files/sportscars.txt\", mode= \"w\") as f:\n",
    "    for car in sports_cars:\n",
    "        f.write(car + \"\\n\")"
   ]
  },
  {
   "cell_type": "code",
   "execution_count": 34,
   "id": "7854ca78",
   "metadata": {},
   "outputs": [
    {
     "name": "stdout",
     "output_type": "stream",
     "text": [
      "Mustang\r\n",
      "Agera\r\n",
      "Regera\r\n",
      "Chiron\r\n",
      "Veyron\r\n"
     ]
    }
   ],
   "source": [
    "!cat ./Files/sportscars.txt"
   ]
  },
  {
   "cell_type": "code",
   "execution_count": 35,
   "id": "31697970",
   "metadata": {},
   "outputs": [
    {
     "name": "stdout",
     "output_type": "stream",
     "text": [
      "Elliptical, 1300\r\n",
      "Yoga Mat, 30\r\n",
      "Punching Bag, 75\r\n",
      "Treadmill, 1200\r\n",
      "Sports Shoes, 80"
     ]
    }
   ],
   "source": [
    "!cat ./Files/gym_equipment.csv"
   ]
  },
  {
   "cell_type": "code",
   "execution_count": 36,
   "id": "f0090210",
   "metadata": {},
   "outputs": [
    {
     "name": "stdout",
     "output_type": "stream",
     "text": [
      "['Elliptical', ' 1300']\n",
      "['Yoga Mat', ' 30']\n",
      "['Punching Bag', ' 75']\n",
      "['Treadmill', ' 1200']\n",
      "['Sports Shoes', ' 80']\n"
     ]
    }
   ],
   "source": [
    "import csv\n",
    "\n",
    "with open(\"./Files/gym_equipment.csv\", \"r\") as f:\n",
    "    csv_reader = csv.reader(f)\n",
    "    for equipment in csv_reader:\n",
    "        print(equipment)"
   ]
  },
  {
   "cell_type": "code",
   "execution_count": 39,
   "id": "6a1ef042",
   "metadata": {},
   "outputs": [
    {
     "data": {
      "text/html": [
       "<div>\n",
       "<style scoped>\n",
       "    .dataframe tbody tr th:only-of-type {\n",
       "        vertical-align: middle;\n",
       "    }\n",
       "\n",
       "    .dataframe tbody tr th {\n",
       "        vertical-align: top;\n",
       "    }\n",
       "\n",
       "    .dataframe thead th {\n",
       "        text-align: right;\n",
       "    }\n",
       "</style>\n",
       "<table border=\"1\" class=\"dataframe\">\n",
       "  <thead>\n",
       "    <tr style=\"text-align: right;\">\n",
       "      <th></th>\n",
       "      <th>Product</th>\n",
       "      <th>Price</th>\n",
       "    </tr>\n",
       "  </thead>\n",
       "  <tbody>\n",
       "    <tr>\n",
       "      <th>0</th>\n",
       "      <td>Elliptical</td>\n",
       "      <td>1300</td>\n",
       "    </tr>\n",
       "    <tr>\n",
       "      <th>1</th>\n",
       "      <td>Yoga Mat</td>\n",
       "      <td>30</td>\n",
       "    </tr>\n",
       "    <tr>\n",
       "      <th>2</th>\n",
       "      <td>Punching Bag</td>\n",
       "      <td>75</td>\n",
       "    </tr>\n",
       "    <tr>\n",
       "      <th>3</th>\n",
       "      <td>Treadmill</td>\n",
       "      <td>1200</td>\n",
       "    </tr>\n",
       "    <tr>\n",
       "      <th>4</th>\n",
       "      <td>Sports Shoes</td>\n",
       "      <td>80</td>\n",
       "    </tr>\n",
       "  </tbody>\n",
       "</table>\n",
       "</div>"
      ],
      "text/plain": [
       "        Product   Price\n",
       "0    Elliptical    1300\n",
       "1      Yoga Mat      30\n",
       "2  Punching Bag      75\n",
       "3     Treadmill    1200\n",
       "4  Sports Shoes      80"
      ]
     },
     "execution_count": 39,
     "metadata": {},
     "output_type": "execute_result"
    }
   ],
   "source": [
    "import pandas as pd\n",
    "\n",
    "df = pd.read_csv(\"./Files/gym_equipment_headings.csv\")\n",
    "df"
   ]
  },
  {
   "cell_type": "code",
   "execution_count": 40,
   "id": "0115f775",
   "metadata": {},
   "outputs": [],
   "source": [
    "import json"
   ]
  },
  {
   "cell_type": "code",
   "execution_count": 41,
   "id": "ffeda620",
   "metadata": {},
   "outputs": [],
   "source": [
    "dogs_and_ages = {\"Oba\": 8.9,\n",
    "                 \"Moje\": 4.5,\n",
    "                 \"Nemo\": 1.25}"
   ]
  },
  {
   "cell_type": "code",
   "execution_count": 42,
   "id": "5b7dd9dd",
   "metadata": {},
   "outputs": [
    {
     "data": {
      "text/plain": [
       "'{\"Oba\": 8.9, \"Moje\": 4.5, \"Nemo\": 1.25}'"
      ]
     },
     "execution_count": 42,
     "metadata": {},
     "output_type": "execute_result"
    }
   ],
   "source": [
    "json_string = json.dumps(dogs_and_ages)\n",
    "json_string"
   ]
  },
  {
   "cell_type": "code",
   "execution_count": 44,
   "id": "4679405f",
   "metadata": {},
   "outputs": [
    {
     "data": {
      "text/plain": [
       "str"
      ]
     },
     "execution_count": 44,
     "metadata": {},
     "output_type": "execute_result"
    }
   ],
   "source": [
    "type(json_string)"
   ]
  },
  {
   "cell_type": "code",
   "execution_count": 45,
   "id": "4464e46f",
   "metadata": {},
   "outputs": [],
   "source": [
    "dogs_and_ages_string = \"\"\"\n",
    "    {\"Oba\": 8.9, \"Moje\": 4.5, \"Nemo\": 1.25}\n",
    "\"\"\""
   ]
  },
  {
   "cell_type": "code",
   "execution_count": 46,
   "id": "fba57228",
   "metadata": {},
   "outputs": [
    {
     "data": {
      "text/plain": [
       "{'Oba': 8.9, 'Moje': 4.5, 'Nemo': 1.25}"
      ]
     },
     "execution_count": 46,
     "metadata": {},
     "output_type": "execute_result"
    }
   ],
   "source": [
    "dogs_ang_ages_dict = json.loads(dogs_and_ages_string)\n",
    "dogs_ang_ages_dict"
   ]
  },
  {
   "cell_type": "code",
   "execution_count": 47,
   "id": "0c86513a",
   "metadata": {},
   "outputs": [
    {
     "data": {
      "text/plain": [
       "dict"
      ]
     },
     "execution_count": 47,
     "metadata": {},
     "output_type": "execute_result"
    }
   ],
   "source": [
    "type(dogs_ang_ages_dict)"
   ]
  },
  {
   "cell_type": "code",
   "execution_count": 49,
   "id": "7623b070",
   "metadata": {},
   "outputs": [],
   "source": [
    "with open(\"./Files/dogs_and_ages.json\", \"w\") as dog_file:\n",
    "    json.dump(dogs_ang_ages_dict, dog_file)"
   ]
  },
  {
   "cell_type": "code",
   "execution_count": 50,
   "id": "9b5865f8",
   "metadata": {},
   "outputs": [
    {
     "name": "stdout",
     "output_type": "stream",
     "text": [
      "{\"Oba\": 8.9, \"Moje\": 4.5, \"Nemo\": 1.25}"
     ]
    }
   ],
   "source": [
    "!cat Files/dogs_and_ages.json"
   ]
  },
  {
   "cell_type": "code",
   "execution_count": 51,
   "id": "da2b085f",
   "metadata": {},
   "outputs": [],
   "source": [
    "with open(\"./Files/dogs_and_ages.json\", \"r\") as dog_file:\n",
    "    file_json = json.load(dog_file)"
   ]
  },
  {
   "cell_type": "code",
   "execution_count": 52,
   "id": "ca68296c",
   "metadata": {},
   "outputs": [
    {
     "data": {
      "text/plain": [
       "{'Oba': 8.9, 'Moje': 4.5, 'Nemo': 1.25}"
      ]
     },
     "execution_count": 52,
     "metadata": {},
     "output_type": "execute_result"
    }
   ],
   "source": [
    "file_json"
   ]
  },
  {
   "cell_type": "code",
   "execution_count": 53,
   "id": "ef0f9fce",
   "metadata": {},
   "outputs": [
    {
     "data": {
      "text/plain": [
       "dict"
      ]
     },
     "execution_count": 53,
     "metadata": {},
     "output_type": "execute_result"
    }
   ],
   "source": [
    "type(file_json)"
   ]
  },
  {
   "cell_type": "code",
   "execution_count": null,
   "id": "a45a05ed",
   "metadata": {},
   "outputs": [],
   "source": []
  }
 ],
 "metadata": {
  "kernelspec": {
   "display_name": "Python 3 (ipykernel)",
   "language": "python",
   "name": "python3"
  },
  "language_info": {
   "codemirror_mode": {
    "name": "ipython",
    "version": 3
   },
   "file_extension": ".py",
   "mimetype": "text/x-python",
   "name": "python",
   "nbconvert_exporter": "python",
   "pygments_lexer": "ipython3",
   "version": "3.9.12"
  }
 },
 "nbformat": 4,
 "nbformat_minor": 5
}
