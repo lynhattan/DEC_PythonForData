{
 "cells": [
  {
   "cell_type": "code",
   "execution_count": 1,
   "id": "739c3390",
   "metadata": {},
   "outputs": [
    {
     "name": "stdout",
     "output_type": "stream",
     "text": [
      "Hello John, How are you?\n"
     ]
    }
   ],
   "source": [
    "print(\"Hello John, How are you?\")"
   ]
  },
  {
   "cell_type": "code",
   "execution_count": 2,
   "id": "87667626",
   "metadata": {},
   "outputs": [
    {
     "name": "stdout",
     "output_type": "stream",
     "text": [
      "2345\n"
     ]
    }
   ],
   "source": [
    "print(2345)"
   ]
  },
  {
   "cell_type": "code",
   "execution_count": 3,
   "id": "191615d3",
   "metadata": {},
   "outputs": [
    {
     "name": "stdout",
     "output_type": "stream",
     "text": [
      "Hello John\n",
      "How are you\n"
     ]
    }
   ],
   "source": [
    "print(\"Hello John\", \"How are you\", sep = '\\n')"
   ]
  },
  {
   "cell_type": "code",
   "execution_count": 4,
   "id": "fbbc51d7",
   "metadata": {},
   "outputs": [
    {
     "name": "stdout",
     "output_type": "stream",
     "text": [
      "Hello John|How are you\n"
     ]
    }
   ],
   "source": [
    "print(\"Hello John\", \"How are you\", sep = '|')"
   ]
  },
  {
   "cell_type": "code",
   "execution_count": 5,
   "id": "afb9aab3",
   "metadata": {},
   "outputs": [
    {
     "name": "stdout",
     "output_type": "stream",
     "text": [
      "Hello John How are you**"
     ]
    }
   ],
   "source": [
    "print(\"Hello John\", \"How are you\", end = '**')"
   ]
  },
  {
   "cell_type": "code",
   "execution_count": 6,
   "id": "da1a57f2",
   "metadata": {},
   "outputs": [
    {
     "data": {
      "text/plain": [
       "16"
      ]
     },
     "execution_count": 6,
     "metadata": {},
     "output_type": "execute_result"
    }
   ],
   "source": [
    "len(\"asdaksjdaljdlsad\")"
   ]
  },
  {
   "cell_type": "code",
   "execution_count": 7,
   "id": "4f6650b9",
   "metadata": {},
   "outputs": [
    {
     "ename": "TypeError",
     "evalue": "object of type 'int' has no len()",
     "output_type": "error",
     "traceback": [
      "\u001b[0;31m---------------------------------------------------------------------------\u001b[0m",
      "\u001b[0;31mTypeError\u001b[0m                                 Traceback (most recent call last)",
      "Input \u001b[0;32mIn [7]\u001b[0m, in \u001b[0;36m<cell line: 1>\u001b[0;34m()\u001b[0m\n\u001b[0;32m----> 1\u001b[0m \u001b[38;5;28;43mlen\u001b[39;49m\u001b[43m(\u001b[49m\u001b[38;5;241;43m123234566777\u001b[39;49m\u001b[43m)\u001b[49m\n",
      "\u001b[0;31mTypeError\u001b[0m: object of type 'int' has no len()"
     ]
    }
   ],
   "source": [
    "len(123234566777)"
   ]
  },
  {
   "cell_type": "code",
   "execution_count": 8,
   "id": "37fd02f7",
   "metadata": {},
   "outputs": [
    {
     "data": {
      "text/plain": [
       "-5"
      ]
     },
     "execution_count": 8,
     "metadata": {},
     "output_type": "execute_result"
    }
   ],
   "source": [
    "min(1,3,2.4,5,3,6.54,85,-5)"
   ]
  },
  {
   "cell_type": "code",
   "execution_count": 9,
   "id": "8d5ce85c",
   "metadata": {},
   "outputs": [
    {
     "data": {
      "text/plain": [
       "51752.55"
      ]
     },
     "execution_count": 9,
     "metadata": {},
     "output_type": "execute_result"
    }
   ],
   "source": [
    "max(1,5,1,23,51752.55,17,1,5,15,2,-54,2,-155)"
   ]
  },
  {
   "cell_type": "code",
   "execution_count": 10,
   "id": "db5bb48f",
   "metadata": {},
   "outputs": [
    {
     "data": {
      "text/plain": [
       "65"
      ]
     },
     "execution_count": 10,
     "metadata": {},
     "output_type": "execute_result"
    }
   ],
   "source": [
    "abs(65)"
   ]
  },
  {
   "cell_type": "code",
   "execution_count": 11,
   "id": "55b0cc62",
   "metadata": {},
   "outputs": [
    {
     "data": {
      "text/plain": [
       "100"
      ]
     },
     "execution_count": 11,
     "metadata": {},
     "output_type": "execute_result"
    }
   ],
   "source": [
    "abs(-100)"
   ]
  },
  {
   "cell_type": "code",
   "execution_count": 12,
   "id": "88a0d2c5",
   "metadata": {},
   "outputs": [
    {
     "data": {
      "text/plain": [
       "3"
      ]
     },
     "execution_count": 12,
     "metadata": {},
     "output_type": "execute_result"
    }
   ],
   "source": [
    "round(3,14546576)"
   ]
  },
  {
   "cell_type": "code",
   "execution_count": 13,
   "id": "43212caf",
   "metadata": {},
   "outputs": [
    {
     "data": {
      "text/plain": [
       "101"
      ]
     },
     "execution_count": 13,
     "metadata": {},
     "output_type": "execute_result"
    }
   ],
   "source": [
    "round(100.8)"
   ]
  },
  {
   "cell_type": "code",
   "execution_count": 14,
   "id": "cbe2381e",
   "metadata": {},
   "outputs": [
    {
     "data": {
      "text/plain": [
       "-16"
      ]
     },
     "execution_count": 14,
     "metadata": {},
     "output_type": "execute_result"
    }
   ],
   "source": [
    "round(-15.769)"
   ]
  },
  {
   "cell_type": "code",
   "execution_count": 15,
   "id": "bd9e06b4",
   "metadata": {},
   "outputs": [
    {
     "data": {
      "text/plain": [
       "['e', 'h', 'l', 'l', 'o']"
      ]
     },
     "execution_count": 15,
     "metadata": {},
     "output_type": "execute_result"
    }
   ],
   "source": [
    "sorted(\"hello\")"
   ]
  },
  {
   "cell_type": "code",
   "execution_count": 16,
   "id": "3d93ed61",
   "metadata": {},
   "outputs": [
    {
     "data": {
      "text/plain": [
       "['h', 'n', 'o', 'p', 't', 'y']"
      ]
     },
     "execution_count": 16,
     "metadata": {},
     "output_type": "execute_result"
    }
   ],
   "source": [
    "sorted(\"python\")"
   ]
  },
  {
   "cell_type": "code",
   "execution_count": 17,
   "id": "54fdfdde",
   "metadata": {},
   "outputs": [
    {
     "data": {
      "text/plain": [
       "['P', 'h', 'n', 'o', 't', 'y']"
      ]
     },
     "execution_count": 17,
     "metadata": {},
     "output_type": "execute_result"
    }
   ],
   "source": [
    "sorted(\"Python\")"
   ]
  },
  {
   "cell_type": "code",
   "execution_count": 18,
   "id": "e139bc05",
   "metadata": {},
   "outputs": [
    {
     "data": {
      "text/plain": [
       "['a', 'b', 'c', 'd', 'e', 'f']"
      ]
     },
     "execution_count": 18,
     "metadata": {},
     "output_type": "execute_result"
    }
   ],
   "source": [
    "sorted('abcdef', reverse= False)"
   ]
  },
  {
   "cell_type": "code",
   "execution_count": 19,
   "id": "9dd238c9",
   "metadata": {},
   "outputs": [
    {
     "data": {
      "text/plain": [
       "['f', 'e', 'd', 'c', 'b', 'a']"
      ]
     },
     "execution_count": 19,
     "metadata": {},
     "output_type": "execute_result"
    }
   ],
   "source": [
    "sorted('abcdef', reverse= True)"
   ]
  },
  {
   "cell_type": "code",
   "execution_count": 20,
   "id": "82455148",
   "metadata": {},
   "outputs": [],
   "source": [
    "string_var = \"HELLO JOHN, HOW ARE YOU?\""
   ]
  },
  {
   "cell_type": "code",
   "execution_count": 21,
   "id": "e32e4994",
   "metadata": {},
   "outputs": [
    {
     "data": {
      "text/plain": [
       "'hello john, how are you?'"
      ]
     },
     "execution_count": 21,
     "metadata": {},
     "output_type": "execute_result"
    }
   ],
   "source": [
    "string_var.lower()"
   ]
  },
  {
   "cell_type": "code",
   "execution_count": 22,
   "id": "b882770e",
   "metadata": {},
   "outputs": [
    {
     "data": {
      "text/plain": [
       "'HELLO JOHN, HOW ARE YOU?'"
      ]
     },
     "execution_count": 22,
     "metadata": {},
     "output_type": "execute_result"
    }
   ],
   "source": [
    "string_var"
   ]
  },
  {
   "cell_type": "code",
   "execution_count": 23,
   "id": "22713d14",
   "metadata": {},
   "outputs": [],
   "source": [
    "lowercase_var = string_var.lower()"
   ]
  },
  {
   "cell_type": "code",
   "execution_count": 24,
   "id": "1bd2bddf",
   "metadata": {},
   "outputs": [
    {
     "data": {
      "text/plain": [
       "'HELLO JOHN, HOW ARE YOU?'"
      ]
     },
     "execution_count": 24,
     "metadata": {},
     "output_type": "execute_result"
    }
   ],
   "source": [
    "lowercase_var.upper()"
   ]
  },
  {
   "cell_type": "code",
   "execution_count": 26,
   "id": "266d924d",
   "metadata": {},
   "outputs": [
    {
     "data": {
      "text/plain": [
       "'Hello john, how are you?'"
      ]
     },
     "execution_count": 26,
     "metadata": {},
     "output_type": "execute_result"
    }
   ],
   "source": [
    "capitalized_string = lowercase_var.capitalize()\n",
    "capitalized_string"
   ]
  },
  {
   "cell_type": "code",
   "execution_count": 27,
   "id": "29934be1",
   "metadata": {},
   "outputs": [
    {
     "name": "stdout",
     "output_type": "stream",
     "text": [
      "Hello John, How are you?\n"
     ]
    }
   ],
   "source": [
    "my_print = print(\"Hello John, How are you?\")"
   ]
  },
  {
   "cell_type": "code",
   "execution_count": 28,
   "id": "b9ded9fa",
   "metadata": {},
   "outputs": [
    {
     "name": "stdout",
     "output_type": "stream",
     "text": [
      "None\n"
     ]
    }
   ],
   "source": [
    "print(my_print)"
   ]
  },
  {
   "cell_type": "code",
   "execution_count": 29,
   "id": "b4bfeb16",
   "metadata": {},
   "outputs": [
    {
     "data": {
      "text/plain": [
       "NoneType"
      ]
     },
     "execution_count": 29,
     "metadata": {},
     "output_type": "execute_result"
    }
   ],
   "source": [
    "type(my_print)"
   ]
  },
  {
   "cell_type": "code",
   "execution_count": 30,
   "id": "fb755a1c",
   "metadata": {},
   "outputs": [
    {
     "name": "stdout",
     "output_type": "stream",
     "text": [
      "5\n"
     ]
    }
   ],
   "source": [
    "length = len(\"hello\")\n",
    "print(length)"
   ]
  },
  {
   "cell_type": "code",
   "execution_count": 31,
   "id": "1a301cbd",
   "metadata": {},
   "outputs": [
    {
     "data": {
      "text/plain": [
       "int"
      ]
     },
     "execution_count": 31,
     "metadata": {},
     "output_type": "execute_result"
    }
   ],
   "source": [
    "type(length)"
   ]
  },
  {
   "cell_type": "code",
   "execution_count": 32,
   "id": "86c3edf6",
   "metadata": {},
   "outputs": [
    {
     "name": "stdout",
     "output_type": "stream",
     "text": [
      "12345\n"
     ]
    }
   ],
   "source": [
    "result = abs(-12345)\n",
    "print(result)"
   ]
  },
  {
   "cell_type": "code",
   "execution_count": 33,
   "id": "61a2e631",
   "metadata": {},
   "outputs": [
    {
     "data": {
      "text/plain": [
       "int"
      ]
     },
     "execution_count": 33,
     "metadata": {},
     "output_type": "execute_result"
    }
   ],
   "source": [
    "type(result)"
   ]
  },
  {
   "cell_type": "code",
   "execution_count": 34,
   "id": "47d9c4f3",
   "metadata": {},
   "outputs": [
    {
     "name": "stdout",
     "output_type": "stream",
     "text": [
      "5948661\n"
     ]
    }
   ],
   "source": [
    "max_value = max(1,2,55364,43,2,5,5948661,78644,44)\n",
    "print(max_value)"
   ]
  },
  {
   "cell_type": "code",
   "execution_count": 35,
   "id": "6bf68b90",
   "metadata": {},
   "outputs": [
    {
     "data": {
      "text/plain": [
       "int"
      ]
     },
     "execution_count": 35,
     "metadata": {},
     "output_type": "execute_result"
    }
   ],
   "source": [
    "type(max_value)"
   ]
  },
  {
   "cell_type": "code",
   "execution_count": 36,
   "id": "2ba0c1f4",
   "metadata": {},
   "outputs": [
    {
     "name": "stdout",
     "output_type": "stream",
     "text": [
      "['a', 'f', 'g', 'r', 't']\n"
     ]
    }
   ],
   "source": [
    "sorted_characters = sorted(\"gafrt\")\n",
    "print(sorted_characters)"
   ]
  },
  {
   "cell_type": "code",
   "execution_count": 37,
   "id": "5c794467",
   "metadata": {},
   "outputs": [
    {
     "data": {
      "text/plain": [
       "list"
      ]
     },
     "execution_count": 37,
     "metadata": {},
     "output_type": "execute_result"
    }
   ],
   "source": [
    "type(sorted_characters)"
   ]
  },
  {
   "cell_type": "code",
   "execution_count": 38,
   "id": "31d40cf4",
   "metadata": {},
   "outputs": [
    {
     "data": {
      "text/plain": [
       "1"
      ]
     },
     "execution_count": 38,
     "metadata": {},
     "output_type": "execute_result"
    }
   ],
   "source": [
    "abs(max(-1,-2,-4,-7))"
   ]
  },
  {
   "cell_type": "code",
   "execution_count": 39,
   "id": "0fc8fe90",
   "metadata": {},
   "outputs": [
    {
     "name": "stdout",
     "output_type": "stream",
     "text": [
      "5\n"
     ]
    }
   ],
   "source": [
    "print(len(\"Hello\"))"
   ]
  },
  {
   "cell_type": "code",
   "execution_count": 40,
   "id": "4fecf145",
   "metadata": {},
   "outputs": [
    {
     "name": "stdout",
     "output_type": "stream",
     "text": [
      "6\n"
     ]
    }
   ],
   "source": [
    "print(round(5.7))"
   ]
  },
  {
   "cell_type": "code",
   "execution_count": null,
   "id": "ed31a65b",
   "metadata": {},
   "outputs": [],
   "source": []
  }
 ],
 "metadata": {
  "kernelspec": {
   "display_name": "Python 3 (ipykernel)",
   "language": "python",
   "name": "python3"
  },
  "language_info": {
   "codemirror_mode": {
    "name": "ipython",
    "version": 3
   },
   "file_extension": ".py",
   "mimetype": "text/x-python",
   "name": "python",
   "nbconvert_exporter": "python",
   "pygments_lexer": "ipython3",
   "version": "3.9.12"
  }
 },
 "nbformat": 4,
 "nbformat_minor": 5
}
