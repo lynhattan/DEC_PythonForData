{
 "cells": [
  {
   "cell_type": "code",
   "execution_count": 1,
   "id": "4e30817a",
   "metadata": {},
   "outputs": [],
   "source": [
    "empty_dict = {}"
   ]
  },
  {
   "cell_type": "code",
   "execution_count": 2,
   "id": "cc25925b",
   "metadata": {},
   "outputs": [
    {
     "name": "stdout",
     "output_type": "stream",
     "text": [
      "{}\n"
     ]
    }
   ],
   "source": [
    "print(empty_dict)"
   ]
  },
  {
   "cell_type": "code",
   "execution_count": 3,
   "id": "87e5e9c8",
   "metadata": {},
   "outputs": [
    {
     "data": {
      "text/plain": [
       "dict"
      ]
     },
     "execution_count": 3,
     "metadata": {},
     "output_type": "execute_result"
    }
   ],
   "source": [
    "type(empty_dict)"
   ]
  },
  {
   "cell_type": "code",
   "execution_count": 4,
   "id": "e22314c6",
   "metadata": {},
   "outputs": [],
   "source": [
    "names_and_ages = {\"Suzie\" : 6, \n",
    "                  \"Calvin\": 5,\n",
    "                  \"Hobbes\": 4}"
   ]
  },
  {
   "cell_type": "code",
   "execution_count": 5,
   "id": "d9292589",
   "metadata": {},
   "outputs": [
    {
     "data": {
      "text/plain": [
       "{'Suzie': 6, 'Calvin': 5, 'Hobbes': 4}"
      ]
     },
     "execution_count": 5,
     "metadata": {},
     "output_type": "execute_result"
    }
   ],
   "source": [
    "names_and_ages"
   ]
  },
  {
   "cell_type": "code",
   "execution_count": 6,
   "id": "bfc278bc",
   "metadata": {},
   "outputs": [
    {
     "data": {
      "text/plain": [
       "5"
      ]
     },
     "execution_count": 6,
     "metadata": {},
     "output_type": "execute_result"
    }
   ],
   "source": [
    "names_and_ages['Calvin']"
   ]
  },
  {
   "cell_type": "code",
   "execution_count": 7,
   "id": "9f9ab1ab",
   "metadata": {},
   "outputs": [
    {
     "data": {
      "text/plain": [
       "4"
      ]
     },
     "execution_count": 7,
     "metadata": {},
     "output_type": "execute_result"
    }
   ],
   "source": [
    "names_and_ages['Hobbes']"
   ]
  },
  {
   "cell_type": "code",
   "execution_count": 8,
   "id": "a024705c",
   "metadata": {},
   "outputs": [
    {
     "data": {
      "text/plain": [
       "6"
      ]
     },
     "execution_count": 8,
     "metadata": {},
     "output_type": "execute_result"
    }
   ],
   "source": [
    "names_and_ages['Suzie']"
   ]
  },
  {
   "cell_type": "code",
   "execution_count": 9,
   "id": "f6ff9c5e",
   "metadata": {},
   "outputs": [
    {
     "data": {
      "text/plain": [
       "dict_keys(['Suzie', 'Calvin', 'Hobbes'])"
      ]
     },
     "execution_count": 9,
     "metadata": {},
     "output_type": "execute_result"
    }
   ],
   "source": [
    "names_and_ages.keys()"
   ]
  },
  {
   "cell_type": "code",
   "execution_count": 10,
   "id": "509e6b29",
   "metadata": {},
   "outputs": [
    {
     "data": {
      "text/plain": [
       "dict_values([6, 5, 4])"
      ]
     },
     "execution_count": 10,
     "metadata": {},
     "output_type": "execute_result"
    }
   ],
   "source": [
    "names_and_ages.values()"
   ]
  },
  {
   "cell_type": "code",
   "execution_count": 11,
   "id": "ea2649f0",
   "metadata": {},
   "outputs": [
    {
     "data": {
      "text/plain": [
       "dict_items([('Suzie', 6), ('Calvin', 5), ('Hobbes', 4)])"
      ]
     },
     "execution_count": 11,
     "metadata": {},
     "output_type": "execute_result"
    }
   ],
   "source": [
    "names_and_ages.items()"
   ]
  },
  {
   "cell_type": "code",
   "execution_count": 12,
   "id": "3b3f6230",
   "metadata": {},
   "outputs": [
    {
     "data": {
      "text/plain": [
       "{'Suzie': 6, 'Calvin': 5, 'Hobbes': 4, 'Rowley': 15}"
      ]
     },
     "execution_count": 12,
     "metadata": {},
     "output_type": "execute_result"
    }
   ],
   "source": [
    "names_and_ages['Rowley'] = 15\n",
    "names_and_ages"
   ]
  },
  {
   "cell_type": "code",
   "execution_count": 13,
   "id": "eb34c02d",
   "metadata": {},
   "outputs": [
    {
     "data": {
      "text/plain": [
       "{'Suzie': 6, 'Calvin': 5, 'Hobbes': 25, 'Rowley': 15}"
      ]
     },
     "execution_count": 13,
     "metadata": {},
     "output_type": "execute_result"
    }
   ],
   "source": [
    "names_and_ages['Hobbes'] = 25\n",
    "names_and_ages"
   ]
  },
  {
   "cell_type": "code",
   "execution_count": 14,
   "id": "0629ddd3",
   "metadata": {},
   "outputs": [
    {
     "data": {
      "text/plain": [
       "{'Suzie': 6, 'Hobbes': 25, 'Rowley': 15}"
      ]
     },
     "execution_count": 14,
     "metadata": {},
     "output_type": "execute_result"
    }
   ],
   "source": [
    "names_and_ages.pop('Calvin')\n",
    "names_and_ages"
   ]
  },
  {
   "cell_type": "code",
   "execution_count": 15,
   "id": "bee6b26f",
   "metadata": {},
   "outputs": [
    {
     "data": {
      "text/plain": [
       "{'Suzie': 6, 'Hobbes': 25}"
      ]
     },
     "execution_count": 15,
     "metadata": {},
     "output_type": "execute_result"
    }
   ],
   "source": [
    "del names_and_ages['Rowley']\n",
    "names_and_ages"
   ]
  },
  {
   "cell_type": "code",
   "execution_count": 16,
   "id": "8b62b461",
   "metadata": {},
   "outputs": [],
   "source": [
    "occupations_and_names = {\"Doctors\": ['John','Nina','Steve'], \n",
    "                         \"Engineers\": ['Bill','Emily','Jane'],\n",
    "                         \"Pilots\": ['Sally','Richard','Bob']}"
   ]
  },
  {
   "cell_type": "code",
   "execution_count": 17,
   "id": "c7e2587a",
   "metadata": {},
   "outputs": [
    {
     "data": {
      "text/plain": [
       "{'Doctors': ['John', 'Nina', 'Steve'],\n",
       " 'Engineers': ['Bill', 'Emily', 'Jane'],\n",
       " 'Pilots': ['Sally', 'Richard', 'Bob']}"
      ]
     },
     "execution_count": 17,
     "metadata": {},
     "output_type": "execute_result"
    }
   ],
   "source": [
    "occupations_and_names"
   ]
  },
  {
   "cell_type": "code",
   "execution_count": 18,
   "id": "2b765f80",
   "metadata": {},
   "outputs": [
    {
     "data": {
      "text/plain": [
       "'Bill'"
      ]
     },
     "execution_count": 18,
     "metadata": {},
     "output_type": "execute_result"
    }
   ],
   "source": [
    "occupations_and_names['Engineers'][0]"
   ]
  },
  {
   "cell_type": "code",
   "execution_count": 19,
   "id": "92ce65b1",
   "metadata": {},
   "outputs": [],
   "source": [
    "int_key_dict = {1: \"Susie\", \n",
    "                2: \"Calvin\",\n",
    "                3: \"Hobbes\"}"
   ]
  },
  {
   "cell_type": "code",
   "execution_count": 20,
   "id": "e8dddcef",
   "metadata": {},
   "outputs": [
    {
     "data": {
      "text/plain": [
       "'Susie'"
      ]
     },
     "execution_count": 20,
     "metadata": {},
     "output_type": "execute_result"
    }
   ],
   "source": [
    "int_key_dict[1]"
   ]
  },
  {
   "cell_type": "code",
   "execution_count": null,
   "id": "e0707bf9",
   "metadata": {},
   "outputs": [],
   "source": []
  }
 ],
 "metadata": {
  "kernelspec": {
   "display_name": "Python 3 (ipykernel)",
   "language": "python",
   "name": "python3"
  },
  "language_info": {
   "codemirror_mode": {
    "name": "ipython",
    "version": 3
   },
   "file_extension": ".py",
   "mimetype": "text/x-python",
   "name": "python",
   "nbconvert_exporter": "python",
   "pygments_lexer": "ipython3",
   "version": "3.9.12"
  }
 },
 "nbformat": 4,
 "nbformat_minor": 5
}
