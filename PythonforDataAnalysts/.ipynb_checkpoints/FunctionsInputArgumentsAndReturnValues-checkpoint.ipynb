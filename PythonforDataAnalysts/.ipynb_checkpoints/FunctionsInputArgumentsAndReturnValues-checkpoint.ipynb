{
 "cells": [
  {
   "cell_type": "code",
   "execution_count": 1,
   "id": "094fda63",
   "metadata": {},
   "outputs": [
    {
     "name": "stdout",
     "output_type": "stream",
     "text": [
      "Hello!\n"
     ]
    }
   ],
   "source": [
    "print('Hello!')"
   ]
  },
  {
   "cell_type": "code",
   "execution_count": 2,
   "id": "d6b3c69d",
   "metadata": {},
   "outputs": [
    {
     "data": {
      "text/plain": [
       "5"
      ]
     },
     "execution_count": 2,
     "metadata": {},
     "output_type": "execute_result"
    }
   ],
   "source": [
    "len('Hello')"
   ]
  },
  {
   "cell_type": "code",
   "execution_count": 3,
   "id": "0726f47d",
   "metadata": {},
   "outputs": [
    {
     "data": {
      "text/plain": [
       "20"
      ]
     },
     "execution_count": 3,
     "metadata": {},
     "output_type": "execute_result"
    }
   ],
   "source": [
    "num_list = [2, 4, 6, 8]\n",
    "sum(num_list)"
   ]
  },
  {
   "cell_type": "code",
   "execution_count": 4,
   "id": "b7763e86",
   "metadata": {},
   "outputs": [
    {
     "data": {
      "text/plain": [
       "10"
      ]
     },
     "execution_count": 4,
     "metadata": {},
     "output_type": "execute_result"
    }
   ],
   "source": [
    "abs(-10)"
   ]
  },
  {
   "cell_type": "code",
   "execution_count": 5,
   "id": "d4af8c6e",
   "metadata": {},
   "outputs": [],
   "source": [
    "def do_something():\n",
    "    pass"
   ]
  },
  {
   "cell_type": "code",
   "execution_count": 6,
   "id": "5e293c87",
   "metadata": {},
   "outputs": [],
   "source": [
    "do_something()"
   ]
  },
  {
   "cell_type": "code",
   "execution_count": 7,
   "id": "3bb90567",
   "metadata": {},
   "outputs": [],
   "source": [
    "def greet():\n",
    "    print('Good morning to you!')"
   ]
  },
  {
   "cell_type": "code",
   "execution_count": 8,
   "id": "c284a39d",
   "metadata": {},
   "outputs": [
    {
     "name": "stdout",
     "output_type": "stream",
     "text": [
      "Good morning to you!\n"
     ]
    }
   ],
   "source": [
    "greet()"
   ]
  },
  {
   "cell_type": "code",
   "execution_count": 9,
   "id": "d68e590e",
   "metadata": {},
   "outputs": [
    {
     "ename": "NameError",
     "evalue": "name 'say_hello' is not defined",
     "output_type": "error",
     "traceback": [
      "\u001b[0;31m---------------------------------------------------------------------------\u001b[0m",
      "\u001b[0;31mNameError\u001b[0m                                 Traceback (most recent call last)",
      "Input \u001b[0;32mIn [9]\u001b[0m, in \u001b[0;36m<cell line: 1>\u001b[0;34m()\u001b[0m\n\u001b[0;32m----> 1\u001b[0m \u001b[43msay_hello\u001b[49m()\n",
      "\u001b[0;31mNameError\u001b[0m: name 'say_hello' is not defined"
     ]
    }
   ],
   "source": [
    "say_hello()"
   ]
  },
  {
   "cell_type": "code",
   "execution_count": 10,
   "id": "b98d2d79",
   "metadata": {},
   "outputs": [],
   "source": [
    "def say_hello():\n",
    "    print(\"Hello there\")"
   ]
  },
  {
   "cell_type": "code",
   "execution_count": 11,
   "id": "4e665d97",
   "metadata": {},
   "outputs": [
    {
     "name": "stdout",
     "output_type": "stream",
     "text": [
      "Hello there\n"
     ]
    }
   ],
   "source": [
    "say_hello()"
   ]
  },
  {
   "cell_type": "code",
   "execution_count": 12,
   "id": "7db17153",
   "metadata": {},
   "outputs": [],
   "source": [
    "def causes_error():\n",
    "    print(some_var)"
   ]
  },
  {
   "cell_type": "code",
   "execution_count": 13,
   "id": "c5073637",
   "metadata": {},
   "outputs": [
    {
     "ename": "NameError",
     "evalue": "name 'some_var' is not defined",
     "output_type": "error",
     "traceback": [
      "\u001b[0;31m---------------------------------------------------------------------------\u001b[0m",
      "\u001b[0;31mNameError\u001b[0m                                 Traceback (most recent call last)",
      "Input \u001b[0;32mIn [13]\u001b[0m, in \u001b[0;36m<cell line: 1>\u001b[0;34m()\u001b[0m\n\u001b[0;32m----> 1\u001b[0m \u001b[43mcauses_error\u001b[49m\u001b[43m(\u001b[49m\u001b[43m)\u001b[49m\n",
      "Input \u001b[0;32mIn [12]\u001b[0m, in \u001b[0;36mcauses_error\u001b[0;34m()\u001b[0m\n\u001b[1;32m      1\u001b[0m \u001b[38;5;28;01mdef\u001b[39;00m \u001b[38;5;21mcauses_error\u001b[39m():\n\u001b[0;32m----> 2\u001b[0m     \u001b[38;5;28mprint\u001b[39m(\u001b[43msome_var\u001b[49m)\n",
      "\u001b[0;31mNameError\u001b[0m: name 'some_var' is not defined"
     ]
    }
   ],
   "source": [
    "causes_error()"
   ]
  },
  {
   "cell_type": "code",
   "execution_count": 14,
   "id": "7e43a1f7",
   "metadata": {},
   "outputs": [
    {
     "name": "stdout",
     "output_type": "stream",
     "text": [
      "Some stuff here\n"
     ]
    }
   ],
   "source": [
    "some_var = 'Some stuff here'\n",
    "causes_error()"
   ]
  },
  {
   "cell_type": "code",
   "execution_count": 17,
   "id": "d2e8111c",
   "metadata": {},
   "outputs": [],
   "source": [
    "a = 2\n",
    "b = 3\n",
    "c = 4\n",
    "\n",
    "def calculate_sum():\n",
    "    result = a + b + c\n",
    "    print(\"Sum of a, b, c is \", result)\n",
    "    if result < 10:\n",
    "        print(\"The sum is less than 10!\")"
   ]
  },
  {
   "cell_type": "code",
   "execution_count": 18,
   "id": "478196f8",
   "metadata": {},
   "outputs": [
    {
     "name": "stdout",
     "output_type": "stream",
     "text": [
      "Sum of a, b, c is  9\n",
      "The sum is less than 10!\n"
     ]
    }
   ],
   "source": [
    "calculate_sum()"
   ]
  },
  {
   "cell_type": "code",
   "execution_count": 19,
   "id": "3095a6fa",
   "metadata": {},
   "outputs": [
    {
     "name": "stdout",
     "output_type": "stream",
     "text": [
      "Sum of a, b, c is  8\n",
      "The sum is less than 10!\n"
     ]
    }
   ],
   "source": [
    "a = 1\n",
    "calculate_sum()"
   ]
  },
  {
   "cell_type": "code",
   "execution_count": 20,
   "id": "4fc58751",
   "metadata": {},
   "outputs": [
    {
     "name": "stdout",
     "output_type": "stream",
     "text": [
      "Sum of a, b, c is  105\n"
     ]
    }
   ],
   "source": [
    "b = 100\n",
    "calculate_sum()"
   ]
  },
  {
   "cell_type": "code",
   "execution_count": 21,
   "id": "462f2540",
   "metadata": {},
   "outputs": [],
   "source": [
    "def calculate_sum(a, b, c):\n",
    "    result = a + b + c\n",
    "    print(\"Sum of a, b, c is \", result)\n",
    "    if result < 10:\n",
    "        print(\"The sum is less than 10\")\n",
    "    else:\n",
    "        print(\"The sum is greater than 10\")"
   ]
  },
  {
   "cell_type": "code",
   "execution_count": 22,
   "id": "e3d32e88",
   "metadata": {},
   "outputs": [
    {
     "name": "stdout",
     "output_type": "stream",
     "text": [
      "Sum of a, b, c is  9\n",
      "The sum is less than 10\n"
     ]
    }
   ],
   "source": [
    "calculate_sum(2,3,4)"
   ]
  },
  {
   "cell_type": "code",
   "execution_count": 23,
   "id": "fe7c25c6",
   "metadata": {},
   "outputs": [
    {
     "name": "stdout",
     "output_type": "stream",
     "text": [
      "Sum of a, b, c is  90\n",
      "The sum is greater than 10\n"
     ]
    }
   ],
   "source": [
    "x = 20\n",
    "y = 30\n",
    "z = 40\n",
    "calculate_sum(x,y,z)"
   ]
  },
  {
   "cell_type": "code",
   "execution_count": 24,
   "id": "5163c013",
   "metadata": {},
   "outputs": [],
   "source": [
    "def raise_to_the_power(num, exponent):\n",
    "    power = num ** exponent\n",
    "    print(power)"
   ]
  },
  {
   "cell_type": "code",
   "execution_count": 25,
   "id": "993795fe",
   "metadata": {},
   "outputs": [
    {
     "name": "stdout",
     "output_type": "stream",
     "text": [
      "16\n"
     ]
    }
   ],
   "source": [
    "raise_to_the_power(4,2)"
   ]
  },
  {
   "cell_type": "code",
   "execution_count": 26,
   "id": "f6f6ff11",
   "metadata": {},
   "outputs": [
    {
     "name": "stdout",
     "output_type": "stream",
     "text": [
      "16\n"
     ]
    }
   ],
   "source": [
    "result = raise_to_the_power(4,2)"
   ]
  },
  {
   "cell_type": "code",
   "execution_count": 27,
   "id": "b8b69855",
   "metadata": {},
   "outputs": [
    {
     "name": "stdout",
     "output_type": "stream",
     "text": [
      "None\n"
     ]
    }
   ],
   "source": [
    "print(result)"
   ]
  },
  {
   "cell_type": "code",
   "execution_count": 28,
   "id": "5d5bbd2b",
   "metadata": {},
   "outputs": [
    {
     "data": {
      "text/plain": [
       "NoneType"
      ]
     },
     "execution_count": 28,
     "metadata": {},
     "output_type": "execute_result"
    }
   ],
   "source": [
    "type(result)"
   ]
  },
  {
   "cell_type": "code",
   "execution_count": 29,
   "id": "8f0ba47c",
   "metadata": {},
   "outputs": [],
   "source": [
    "def raise_to_the_power(num, exponent):\n",
    "    power = num ** exponent\n",
    "    return power"
   ]
  },
  {
   "cell_type": "code",
   "execution_count": 30,
   "id": "96369a0d",
   "metadata": {},
   "outputs": [
    {
     "data": {
      "text/plain": [
       "25"
      ]
     },
     "execution_count": 30,
     "metadata": {},
     "output_type": "execute_result"
    }
   ],
   "source": [
    "raise_to_the_power(5,2)"
   ]
  },
  {
   "cell_type": "code",
   "execution_count": 32,
   "id": "9336280e",
   "metadata": {},
   "outputs": [
    {
     "data": {
      "text/plain": [
       "25"
      ]
     },
     "execution_count": 32,
     "metadata": {},
     "output_type": "execute_result"
    }
   ],
   "source": [
    "result = raise_to_the_power(5,2)\n",
    "result"
   ]
  },
  {
   "cell_type": "code",
   "execution_count": 33,
   "id": "58bcfce6",
   "metadata": {},
   "outputs": [],
   "source": [
    "def square_and_cube(num):\n",
    "    square = num ** 2\n",
    "    cube = num ** 3\n",
    "    return square, cube"
   ]
  },
  {
   "cell_type": "code",
   "execution_count": 34,
   "id": "011ffa2e",
   "metadata": {},
   "outputs": [
    {
     "data": {
      "text/plain": [
       "(144, 1728)"
      ]
     },
     "execution_count": 34,
     "metadata": {},
     "output_type": "execute_result"
    }
   ],
   "source": [
    "square_and_cube(12)"
   ]
  },
  {
   "cell_type": "code",
   "execution_count": 35,
   "id": "fbcffcda",
   "metadata": {},
   "outputs": [],
   "source": [
    "square, cube = square_and_cube(4)"
   ]
  },
  {
   "cell_type": "code",
   "execution_count": 36,
   "id": "d3c69db0",
   "metadata": {},
   "outputs": [
    {
     "data": {
      "text/plain": [
       "16"
      ]
     },
     "execution_count": 36,
     "metadata": {},
     "output_type": "execute_result"
    }
   ],
   "source": [
    "square"
   ]
  },
  {
   "cell_type": "code",
   "execution_count": 37,
   "id": "b95e6abc",
   "metadata": {},
   "outputs": [
    {
     "data": {
      "text/plain": [
       "64"
      ]
     },
     "execution_count": 37,
     "metadata": {},
     "output_type": "execute_result"
    }
   ],
   "source": [
    "cube"
   ]
  },
  {
   "cell_type": "code",
   "execution_count": 38,
   "id": "6b0cf234",
   "metadata": {},
   "outputs": [],
   "source": [
    "def divisible_by_5(num):\n",
    "    if num % 5 == 0:\n",
    "        return \"This number is divisible by 5\"\n",
    "    else:\n",
    "        return \"This number is not divisible by 5\""
   ]
  },
  {
   "cell_type": "code",
   "execution_count": 39,
   "id": "5edb2aa1",
   "metadata": {},
   "outputs": [
    {
     "data": {
      "text/plain": [
       "'This number is not divisible by 5'"
      ]
     },
     "execution_count": 39,
     "metadata": {},
     "output_type": "execute_result"
    }
   ],
   "source": [
    "divisible_by_5(56)"
   ]
  },
  {
   "cell_type": "code",
   "execution_count": 40,
   "id": "70c65fc7",
   "metadata": {},
   "outputs": [
    {
     "data": {
      "text/plain": [
       "'This number is divisible by 5'"
      ]
     },
     "execution_count": 40,
     "metadata": {},
     "output_type": "execute_result"
    }
   ],
   "source": [
    "divisible_by_5(55)"
   ]
  },
  {
   "cell_type": "code",
   "execution_count": null,
   "id": "348c9f0a",
   "metadata": {},
   "outputs": [],
   "source": []
  }
 ],
 "metadata": {
  "kernelspec": {
   "display_name": "Python 3 (ipykernel)",
   "language": "python",
   "name": "python3"
  },
  "language_info": {
   "codemirror_mode": {
    "name": "ipython",
    "version": 3
   },
   "file_extension": ".py",
   "mimetype": "text/x-python",
   "name": "python",
   "nbconvert_exporter": "python",
   "pygments_lexer": "ipython3",
   "version": "3.9.12"
  }
 },
 "nbformat": 4,
 "nbformat_minor": 5
}
