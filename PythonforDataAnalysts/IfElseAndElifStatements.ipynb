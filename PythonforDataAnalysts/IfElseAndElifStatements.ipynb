{
 "cells": [
  {
   "cell_type": "code",
   "execution_count": 2,
   "id": "0302c985",
   "metadata": {},
   "outputs": [
    {
     "name": "stdout",
     "output_type": "stream",
     "text": [
      "25 is less than 30\n"
     ]
    }
   ],
   "source": [
    "if 25 < 30:\n",
    "    print(\"25 is less than 30\")"
   ]
  },
  {
   "cell_type": "code",
   "execution_count": 3,
   "id": "8a7c8364",
   "metadata": {},
   "outputs": [],
   "source": [
    "if 25 > 30:\n",
    "    print(\"Really? Is 25 greater than 30?\")"
   ]
  },
  {
   "cell_type": "code",
   "execution_count": 4,
   "id": "17b195a5",
   "metadata": {},
   "outputs": [],
   "source": [
    "if 35 == 25:\n",
    "    print(\"35 and 25 are exactly the same value\")"
   ]
  },
  {
   "cell_type": "code",
   "execution_count": 5,
   "id": "c8a669b3",
   "metadata": {},
   "outputs": [
    {
     "name": "stdout",
     "output_type": "stream",
     "text": [
      "35 and 25 are NOT exactly the same value\n"
     ]
    }
   ],
   "source": [
    "if not 35 == 25:\n",
    "    print(\"35 and 25 are NOT exactly the same value\")"
   ]
  },
  {
   "cell_type": "code",
   "execution_count": 6,
   "id": "1a9b5483",
   "metadata": {},
   "outputs": [
    {
     "name": "stdout",
     "output_type": "stream",
     "text": [
      "The number is greater than zero:  225\n"
     ]
    }
   ],
   "source": [
    "num = 225\n",
    "if num > 0: \n",
    "    print(\"The number is greater than zero: \", num)"
   ]
  },
  {
   "cell_type": "code",
   "execution_count": 7,
   "id": "831956c9",
   "metadata": {},
   "outputs": [
    {
     "name": "stdout",
     "output_type": "stream",
     "text": [
      "The number is greater than zero:  225\n"
     ]
    }
   ],
   "source": [
    "if num:\n",
    "     print(\"The number is greater than zero: \", num)"
   ]
  },
  {
   "cell_type": "code",
   "execution_count": 8,
   "id": "191a2fed",
   "metadata": {},
   "outputs": [],
   "source": [
    "salary = 1000\n",
    "expenses = 770"
   ]
  },
  {
   "cell_type": "code",
   "execution_count": 9,
   "id": "94dbe265",
   "metadata": {},
   "outputs": [],
   "source": [
    "living_within_means = False\n",
    "\n",
    "if salary - expenses > 0:\n",
    "    living_within_means = True"
   ]
  },
  {
   "cell_type": "code",
   "execution_count": 11,
   "id": "310730ad",
   "metadata": {},
   "outputs": [
    {
     "name": "stdout",
     "output_type": "stream",
     "text": [
      "Am I living within my means? True\n"
     ]
    }
   ],
   "source": [
    "print('Am I living within my means?', living_within_means)"
   ]
  },
  {
   "cell_type": "code",
   "execution_count": 12,
   "id": "3bee68f4",
   "metadata": {},
   "outputs": [
    {
     "name": "stdout",
     "output_type": "stream",
     "text": [
      "I'm glad you're saving but perhaps your expenses could be lower?\n"
     ]
    }
   ],
   "source": [
    "living_within_means = salary - expenses > 0\n",
    "\n",
    "if living_within_means and expenses > 500:\n",
    "    print(\"I'm glad you're saving but perhaps your expenses could be lower?\")"
   ]
  },
  {
   "cell_type": "code",
   "execution_count": 13,
   "id": "24b96faf",
   "metadata": {},
   "outputs": [
    {
     "name": "stdout",
     "output_type": "stream",
     "text": [
      "Savings for the month:  230\n"
     ]
    }
   ],
   "source": [
    "savings = 0\n",
    "\n",
    "if salary > expenses:\n",
    "    savings = salary - expenses\n",
    "    print(\"Savings for the month: \", savings)"
   ]
  },
  {
   "cell_type": "code",
   "execution_count": 14,
   "id": "15bd5aeb",
   "metadata": {},
   "outputs": [
    {
     "name": "stdout",
     "output_type": "stream",
     "text": [
      "Savings for the month:  230\n"
     ]
    }
   ],
   "source": [
    "if salary > expenses:\n",
    "    print(\"Savings for the month: \", salary - expenses)\n",
    "else:\n",
    "    print('Loans to tide you over: ', expenses - salary)"
   ]
  },
  {
   "cell_type": "code",
   "execution_count": 15,
   "id": "e92ea0d4",
   "metadata": {},
   "outputs": [
    {
     "name": "stdout",
     "output_type": "stream",
     "text": [
      "Loans to tide you over:  100\n"
     ]
    }
   ],
   "source": [
    "salary = 1000\n",
    "expenses = 1100\n",
    "if salary > expenses:\n",
    "    print(\"Savings for the month: \", salary - expenses)\n",
    "else:\n",
    "    print('Loans to tide you over: ', expenses - salary)"
   ]
  },
  {
   "cell_type": "code",
   "execution_count": 16,
   "id": "ae4607dc",
   "metadata": {},
   "outputs": [],
   "source": [
    "classic_cars = ['Pierce Arrow', 'Oldsmobile','Mustang']\n",
    "sports_cars = [\"Agera\", 'Regera', 'Chiron', 'Veyron']\n",
    "planes = ['A380','747','A370']"
   ]
  },
  {
   "cell_type": "code",
   "execution_count": 17,
   "id": "c03631a3",
   "metadata": {},
   "outputs": [
    {
     "name": "stdout",
     "output_type": "stream",
     "text": [
      "That isn't a very long list of classic cars\n"
     ]
    }
   ],
   "source": [
    "if len(classic_cars) < 5:\n",
    "    print(\"That isn't a very long list of classic cars\")"
   ]
  },
  {
   "cell_type": "code",
   "execution_count": 19,
   "id": "1ce72bdf",
   "metadata": {},
   "outputs": [
    {
     "name": "stdout",
     "output_type": "stream",
     "text": [
      "Your type of transportation is a sports car\n"
     ]
    }
   ],
   "source": [
    "transportation = \"Chiron\"\n",
    "if transportation in sports_cars:\n",
    "    print(\"Your type of transportation is a sports car\")"
   ]
  },
  {
   "cell_type": "code",
   "execution_count": 20,
   "id": "7271b790",
   "metadata": {},
   "outputs": [
    {
     "name": "stdout",
     "output_type": "stream",
     "text": [
      "Oh you can definitely do better than this 20\n"
     ]
    }
   ],
   "source": [
    "math_score = 20\n",
    "\n",
    "if math_score < 20: \n",
    "    print(\"I'm afraid that is not a great score\", math_score)\n",
    "elif math_score < 50:\n",
    "    print(\"Oh you can definitely do better than this\", math_score)\n",
    "elif math_score < 80: \n",
    "    print(\"Ahh you're close to highest grade you can get\", math_score)\n",
    "elif math_score < 100:\n",
    "    print(\"You did great at math!\", math_score)"
   ]
  },
  {
   "cell_type": "code",
   "execution_count": null,
   "id": "5f2345cc",
   "metadata": {},
   "outputs": [],
   "source": []
  }
 ],
 "metadata": {
  "kernelspec": {
   "display_name": "Python 3 (ipykernel)",
   "language": "python",
   "name": "python3"
  },
  "language_info": {
   "codemirror_mode": {
    "name": "ipython",
    "version": 3
   },
   "file_extension": ".py",
   "mimetype": "text/x-python",
   "name": "python",
   "nbconvert_exporter": "python",
   "pygments_lexer": "ipython3",
   "version": "3.9.12"
  }
 },
 "nbformat": 4,
 "nbformat_minor": 5
}
