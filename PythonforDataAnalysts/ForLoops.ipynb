{
 "cells": [
  {
   "cell_type": "code",
   "execution_count": 1,
   "id": "8fbeca9f",
   "metadata": {},
   "outputs": [],
   "source": [
    "classic_cars = ['Pierce Arrow', 'Oldsmobile', 'Mustang']"
   ]
  },
  {
   "cell_type": "code",
   "execution_count": 2,
   "id": "aaaa83dd",
   "metadata": {},
   "outputs": [
    {
     "name": "stdout",
     "output_type": "stream",
     "text": [
      "Pierce Arrow\n",
      "Oldsmobile\n",
      "Mustang\n"
     ]
    }
   ],
   "source": [
    "for car in classic_cars:\n",
    "    print(car)"
   ]
  },
  {
   "cell_type": "code",
   "execution_count": 3,
   "id": "78a72fad",
   "metadata": {},
   "outputs": [
    {
     "data": {
      "text/plain": [
       "'Mustang'"
      ]
     },
     "execution_count": 3,
     "metadata": {},
     "output_type": "execute_result"
    }
   ],
   "source": [
    "car"
   ]
  },
  {
   "cell_type": "code",
   "execution_count": 4,
   "id": "7eabb39c",
   "metadata": {},
   "outputs": [
    {
     "name": "stdout",
     "output_type": "stream",
     "text": [
      "P\n",
      "h\n",
      "a\n",
      "n\n",
      "t\n",
      "o\n",
      "m\n"
     ]
    }
   ],
   "source": [
    "for character in \"Phantom\":\n",
    "    print(character)"
   ]
  },
  {
   "cell_type": "code",
   "execution_count": 5,
   "id": "00d08329",
   "metadata": {},
   "outputs": [],
   "source": [
    "num_list = [100, 800, 330, 220, 400, 900, 1100]"
   ]
  },
  {
   "cell_type": "code",
   "execution_count": 6,
   "id": "905b7564",
   "metadata": {},
   "outputs": [
    {
     "name": "stdout",
     "output_type": "stream",
     "text": [
      "<500: 100\n",
      ">=500: 800\n",
      "<500: 330\n",
      "<500: 220\n",
      "<500: 400\n",
      ">=500: 900\n",
      ">=500: 1100\n"
     ]
    }
   ],
   "source": [
    "for num in num_list:\n",
    "    if num < 500:\n",
    "        print(\"<500:\", num)\n",
    "    else:\n",
    "        print(\">=500:\", num)"
   ]
  },
  {
   "cell_type": "code",
   "execution_count": 7,
   "id": "229c0cba",
   "metadata": {},
   "outputs": [
    {
     "data": {
      "text/plain": [
       "range(0, 10)"
      ]
     },
     "execution_count": 7,
     "metadata": {},
     "output_type": "execute_result"
    }
   ],
   "source": [
    "r = range(10)\n",
    "r"
   ]
  },
  {
   "cell_type": "code",
   "execution_count": 8,
   "id": "a28e0bad",
   "metadata": {},
   "outputs": [
    {
     "data": {
      "text/plain": [
       "(0, 1, 2, 3, 4, 5, 6, 7, 8, 9)"
      ]
     },
     "execution_count": 8,
     "metadata": {},
     "output_type": "execute_result"
    }
   ],
   "source": [
    "tuple(r)"
   ]
  },
  {
   "cell_type": "code",
   "execution_count": 9,
   "id": "023a5a9f",
   "metadata": {},
   "outputs": [
    {
     "data": {
      "text/plain": [
       "[0, 1, 2, 3, 4, 5, 6, 7, 8, 9]"
      ]
     },
     "execution_count": 9,
     "metadata": {},
     "output_type": "execute_result"
    }
   ],
   "source": [
    "list(r)"
   ]
  },
  {
   "cell_type": "code",
   "execution_count": 10,
   "id": "983df551",
   "metadata": {},
   "outputs": [
    {
     "data": {
      "text/plain": [
       "[2, 3, 4, 5, 6, 7, 8, 9]"
      ]
     },
     "execution_count": 10,
     "metadata": {},
     "output_type": "execute_result"
    }
   ],
   "source": [
    "list(range(2,10))"
   ]
  },
  {
   "cell_type": "code",
   "execution_count": 11,
   "id": "59033637",
   "metadata": {},
   "outputs": [
    {
     "name": "stdout",
     "output_type": "stream",
     "text": [
      "0\n",
      "1\n",
      "2\n",
      "3\n",
      "4\n",
      "5\n"
     ]
    }
   ],
   "source": [
    "for i in range(6):\n",
    "    print(i)"
   ]
  },
  {
   "cell_type": "code",
   "execution_count": 12,
   "id": "2128a4f6",
   "metadata": {},
   "outputs": [
    {
     "name": "stdout",
     "output_type": "stream",
     "text": [
      "2\n",
      "4\n",
      "6\n",
      "8\n",
      "10\n"
     ]
    }
   ],
   "source": [
    "for i in range(2,11,2):\n",
    "    print(i)"
   ]
  },
  {
   "cell_type": "code",
   "execution_count": 13,
   "id": "4ac2e99d",
   "metadata": {},
   "outputs": [
    {
     "name": "stdout",
     "output_type": "stream",
     "text": [
      "Python is a great!\n",
      "Python is a great!\n",
      "Python is a great!\n",
      "Python is a great!\n",
      "Python is a great!\n",
      "Python is a great!\n",
      "Python is a great!\n"
     ]
    }
   ],
   "source": [
    "for _ in range(7):\n",
    "    print(\"Python is a great!\")"
   ]
  },
  {
   "cell_type": "code",
   "execution_count": 14,
   "id": "133a727f",
   "metadata": {},
   "outputs": [],
   "source": [
    "names_and_ages = {\"John\": 53,\n",
    "                  \"Alice\": 57,\n",
    "                  \"Bill\": 14,\n",
    "                  \"Dave\": 25}"
   ]
  },
  {
   "cell_type": "code",
   "execution_count": 15,
   "id": "3f4b7884",
   "metadata": {},
   "outputs": [
    {
     "name": "stdout",
     "output_type": "stream",
     "text": [
      "John\n",
      "Alice\n",
      "Bill\n",
      "Dave\n"
     ]
    }
   ],
   "source": [
    "for key in names_and_ages:\n",
    "    print(key)"
   ]
  },
  {
   "cell_type": "code",
   "execution_count": 17,
   "id": "9fca598b",
   "metadata": {},
   "outputs": [
    {
     "name": "stdout",
     "output_type": "stream",
     "text": [
      "John\n",
      "Alice\n",
      "Bill\n",
      "Dave\n"
     ]
    }
   ],
   "source": [
    "for key in names_and_ages.keys():\n",
    "    print(key)"
   ]
  },
  {
   "cell_type": "code",
   "execution_count": 18,
   "id": "a1e710c1",
   "metadata": {},
   "outputs": [
    {
     "name": "stdout",
     "output_type": "stream",
     "text": [
      "John 53\n",
      "Alice 57\n",
      "Bill 14\n",
      "Dave 25\n"
     ]
    }
   ],
   "source": [
    "for key,val in names_and_ages.items():\n",
    "    print(key, val)"
   ]
  },
  {
   "cell_type": "code",
   "execution_count": null,
   "id": "5dca8e42",
   "metadata": {},
   "outputs": [],
   "source": []
  }
 ],
 "metadata": {
  "kernelspec": {
   "display_name": "Python 3 (ipykernel)",
   "language": "python",
   "name": "python3"
  },
  "language_info": {
   "codemirror_mode": {
    "name": "ipython",
    "version": 3
   },
   "file_extension": ".py",
   "mimetype": "text/x-python",
   "name": "python",
   "nbconvert_exporter": "python",
   "pygments_lexer": "ipython3",
   "version": "3.9.12"
  }
 },
 "nbformat": 4,
 "nbformat_minor": 5
}
