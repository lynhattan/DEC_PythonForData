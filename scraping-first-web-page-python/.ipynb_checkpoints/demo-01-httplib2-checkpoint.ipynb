{
 "cells": [
  {
   "cell_type": "markdown",
   "metadata": {},
   "source": [
    "## httplib2"
   ]
  },
  {
   "cell_type": "markdown",
   "metadata": {},
   "source": [
    "##### httplib is renamed as httplib.client in python3,  httplib2 is comprehensive to httplib.client so we are using httplib2 here."
   ]
  },
  {
   "cell_type": "markdown",
   "metadata": {},
   "source": [
    "### Installing and importing httplib2"
   ]
  },
  {
   "cell_type": "code",
   "execution_count": 1,
   "metadata": {},
   "outputs": [
    {
     "name": "stdout",
     "output_type": "stream",
     "text": [
      "Requirement already satisfied: httplib2 in /home/ubuntu/Downloads/ENTER/lib/python3.9/site-packages (0.22.0)\r\n",
      "Requirement already satisfied: pyparsing!=3.0.0,!=3.0.1,!=3.0.2,!=3.0.3,<4,>=2.4.2 in /home/ubuntu/Downloads/ENTER/lib/python3.9/site-packages (from httplib2) (2.4.7)\r\n"
     ]
    }
   ],
   "source": [
    "!pip install httplib2"
   ]
  },
  {
   "cell_type": "code",
   "execution_count": 2,
   "metadata": {},
   "outputs": [],
   "source": [
    "import httplib2\n",
    "from pprint import pprint"
   ]
  },
  {
   "cell_type": "markdown",
   "metadata": {},
   "source": [
    "¬These are the different statuses will get while sending request to the websites. \n",
    "if:                         \n",
    "* status : 200 --> success                                  \n",
    "* status : 404 --> server not available                          \n",
    "* status : 405 --> method not allowed"
   ]
  },
  {
   "cell_type": "markdown",
   "metadata": {},
   "source": [
    "#### https://httpbin.org this website is designed for testing (HTTP Request & Response Service) the methods like \"get( )\", \"post( )\", \"put( )\" ."
   ]
  },
  {
   "cell_type": "code",
   "execution_count": 3,
   "metadata": {},
   "outputs": [],
   "source": [
    "bin_url = 'https://httpbin.org/'"
   ]
  },
  {
   "cell_type": "code",
   "execution_count": 4,
   "metadata": {},
   "outputs": [],
   "source": [
    "http = httplib2.Http()"
   ]
  },
  {
   "cell_type": "markdown",
   "metadata": {},
   "source": [
    "http.request return 2 responses:           \n",
    "* first response with header (meta data) information \n",
    "* second response with actual data (HTML formate)"
   ]
  },
  {
   "cell_type": "code",
   "execution_count": 5,
   "metadata": {},
   "outputs": [],
   "source": [
    "resp, data = http.request(bin_url)"
   ]
  },
  {
   "cell_type": "markdown",
   "metadata": {},
   "source": [
    "#### http.request  returning the response with header details"
   ]
  },
  {
   "cell_type": "code",
   "execution_count": 6,
   "metadata": {},
   "outputs": [
    {
     "name": "stdout",
     "output_type": "stream",
     "text": [
      "{'access-control-allow-credentials': 'true',\n",
      " 'access-control-allow-origin': '*',\n",
      " 'connection': 'keep-alive',\n",
      " 'content-length': '9593',\n",
      " 'content-location': 'https://httpbin.org/',\n",
      " 'content-type': 'text/html; charset=utf-8',\n",
      " 'date': 'Mon, 03 Jul 2023 03:45:06 GMT',\n",
      " 'server': 'gunicorn/19.9.0',\n",
      " 'status': '200'}\n"
     ]
    }
   ],
   "source": [
    "pprint(resp)"
   ]
  },
  {
   "cell_type": "code",
   "execution_count": 7,
   "metadata": {},
   "outputs": [
    {
     "data": {
      "text/plain": [
       "(httplib2.Response, 9)"
      ]
     },
     "execution_count": 7,
     "metadata": {},
     "output_type": "execute_result"
    }
   ],
   "source": [
    "type(resp), len(resp)"
   ]
  },
  {
   "cell_type": "code",
   "execution_count": 8,
   "metadata": {},
   "outputs": [
    {
     "data": {
      "text/plain": [
       "(200, 'OK', 11)"
      ]
     },
     "execution_count": 8,
     "metadata": {},
     "output_type": "execute_result"
    }
   ],
   "source": [
    "resp.status, resp.reason, resp.version"
   ]
  },
  {
   "cell_type": "code",
   "execution_count": 9,
   "metadata": {},
   "outputs": [],
   "source": [
    "resp.previous"
   ]
  },
  {
   "cell_type": "markdown",
   "metadata": {},
   "source": [
    "#### http.request is returning the data in byte formate, we can observe below it is representing by b"
   ]
  },
  {
   "cell_type": "code",
   "execution_count": 10,
   "metadata": {},
   "outputs": [
    {
     "name": "stdout",
     "output_type": "stream",
     "text": [
      "(b'<!DOCTYPE html>\\n<html lang=\"en\">\\n\\n<head>\\n    <meta charset=\"UTF-8\">\\n'\n",
      " b'    <title>httpbin.org</title>\\n    <link href=\"https://fonts.googleapis.'\n",
      " b'com/css?family=Open+Sans:400,700|Source+Code+Pro:300,600|Titillium+Web:400,6'\n",
      " b'00,700\"\\n        rel=\"stylesheet\">\\n    <link rel=\"stylesheet\" type=\"text/'\n",
      " b'css\" href=\"/flasgger_static/swagger-ui.css\">\\n    <link rel=\"icon\" type=\"'\n",
      " b'image/png\" href=\"/static/favicon.ico\" sizes=\"64x64 32x32 16x16\" />\\n    <'\n",
      " b'style>\\n        html {\\n            box-sizing: border-box;\\n            ov'\n",
      " b'erflow: -moz-scrollbars-vertical;\\n            overflow-y: scroll;\\n      '\n",
      " b'  }\\n\\n        *,\\n        *:before,\\n        *:after {\\n            box-'\n",
      " b'sizing: inherit;\\n        }\\n\\n        body {\\n            margin: 0;\\n  '\n",
      " b'          background: #fafafa;\\n        }\\n    </style>\\n</head>\\n\\n<body'\n",
      " b'>\\n    <a href=\"https://github.com/requests/httpbin\" class=\"github-corner'\n",
      " b'\" aria-label=\"View source on Github\">\\n        <svg width=\"80\" height=\"80'\n",
      " b'\" viewBox=\"0 0 250 250\" style=\"fill:#151513; color:#fff; position: absolute;'\n",
      " b' top: 0; border: 0; right: 0;\"\\n            aria-hidden=\"true\">\\n         '\n",
      " b'   <path d=\"M0,0 L115,115 L130,115 L142,142 L250,250 L250,0 Z\"></path>\\n '\n",
      " b'           <path d=\"M128.3,109.0 C113.8,99.7 119.0,89.6 119.0,89.6 C122.0,82'\n",
      " b'.7 120.5,78.6 120.5,78.6 C119.2,72.0 123.4,76.3 123.4,76.3 C127.3,80.9 125.5'\n",
      " b',87.3 125.5,87.3 C122.9,97.6 130.6,101.9 134.4,103.2\"\\n                fi'\n",
      " b'll=\"currentColor\" style=\"transform-origin: 130px 106px;\" class=\"octo-arm\"></'\n",
      " b'path>\\n            <path d=\"M115.0,115.0 C114.9,115.1 118.7,116.5 119.8,1'\n",
      " b'15.4 L133.7,101.6 C136.9,99.2 139.9,98.4 142.2,98.6 C133.8,88.0 127.5,74.4 1'\n",
      " b'43.8,58.0 C148.5,53.4 154.0,51.2 159.7,51.0 C160.3,49.4 163.2,43.6 171.4,40.'\n",
      " b'1 C171.4,40.1 176.1,42.5 178.8,56.2 C183.1,58.6 187.2,61.8 190.9,65.4 C194.5'\n",
      " b',69.0 197.7,73.2 200.1,77.6 C213.8,80.2 216.3,84.9 216.3,84.9 C212.7,93.1 20'\n",
      " b'6.9,96.0 205.4,96.6 C205.1,102.4 203.0,107.8 198.3,112.5 C181.9,128.9 168.3,'\n",
      " b'122.5 157.7,114.1 C157.9,116.9 156.7,120.9 152.7,124.9 L141.0,136.5 C139.8,1'\n",
      " b'37.7 141.6,141.9 141.8,141.8 Z\"\\n                fill=\"currentColor\" clas'\n",
      " b's=\"octo-body\"></path>\\n        </svg>\\n    </a>\\n    <svg xmlns=\"http://www'\n",
      " b'.w3.org/2000/svg\" xmlns:xlink=\"http://www.w3.org/1999/xlink\" style=\"position'\n",
      " b':absolute;width:0;height:0\">\\n        <defs>\\n            <symbol viewBox='\n",
      " b'\"0 0 20 20\" id=\"unlocked\">\\n                <path d=\"M15.8 8H14V5.6C14 2.'\n",
      " b'703 12.665 1 10 1 7.334 1 6 2.703 6 5.6V6h2v-.801C8 3.754 8.797 3 10 3c1.203'\n",
      " b' 0 2 .754 2 2.199V8H4c-.553 0-1 .646-1 1.199V17c0 .549.428 1.139.951 1.307l1'\n",
      " b'.197.387C5.672 18.861 6.55 19 7.1 19h5.8c.549 0 1.428-.139 1.951-.307l1.196-'\n",
      " b'.387c.524-.167.953-.757.953-1.306V9.199C17 8.646 16.352 8 15.8 8z\"></pat'\n",
      " b'h>\\n            </symbol>\\n\\n            <symbol viewBox=\"0 0 20 20\" id=\"lo'\n",
      " b'cked\">\\n                <path d=\"M15.8 8H14V5.6C14 2.703 12.665 1 10 1 7.'\n",
      " b'334 1 6 2.703 6 5.6V8H4c-.553 0-1 .646-1 1.199V17c0 .549.428 1.139.951 1.307'\n",
      " b'l1.197.387C5.672 18.861 6.55 19 7.1 19h5.8c.549 0 1.428-.139 1.951-.307l1.19'\n",
      " b'6-.387c.524-.167.953-.757.953-1.306V9.199C17 8.646 16.352 8 15.8 8zM12 8H8V5'\n",
      " b'.199C8 3.754 8.797 3 10 3c1.203 0 2 .754 2 2.199V8z\"\\n                />\\n'\n",
      " b'            </symbol>\\n\\n            <symbol viewBox=\"0 0 20 20\" id=\"close'\n",
      " b'\">\\n                <path d=\"M14.348 14.849c-.469.469-1.229.469-1.697 0L1'\n",
      " b'0 11.819l-2.651 3.029c-.469.469-1.229.469-1.697 0-.469-.469-.469-1.229 0-1.6'\n",
      " b'97l2.758-3.15-2.759-3.152c-.469-.469-.469-1.228 0-1.697.469-.469 1.228-.469 '\n",
      " b'1.697 0L10 8.183l2.651-3.031c.469-.469 1.228-.469 1.697 0 .469.469.469 1.229'\n",
      " b' 0 1.697l-2.758 3.152 2.758 3.15c.469.469.469 1.229 0 1.698z\"\\n          '\n",
      " b'      />\\n            </symbol>\\n\\n            <symbol viewBox=\"0 0 20 20\" '\n",
      " b'id=\"large-arrow\">\\n                <path d=\"M13.25 10L6.109 2.58c-.268-.2'\n",
      " b'7-.268-.707 0-.979.268-.27.701-.27.969 0l7.83 7.908c.268.271.268.709 0 .979l'\n",
      " b'-7.83 7.908c-.268.271-.701.27-.969 0-.268-.269-.268-.707 0-.979L13.25 10'\n",
      " b'z\"\\n                />\\n            </symbol>\\n\\n            <symbol viewBox'\n",
      " b'=\"0 0 20 20\" id=\"large-arrow-down\">\\n                <path d=\"M17.418 6.1'\n",
      " b'09c.272-.268.709-.268.979 0s.271.701 0 .969l-7.908 7.83c-.27.268-.707.268-.9'\n",
      " b'79 0l-7.908-7.83c-.27-.268-.27-.701 0-.969.271-.268.709-.268.979 0L10 13.25l'\n",
      " b'7.418-7.141z\"\\n                />\\n            </symbol>\\n\\n\\n           '\n",
      " b' <symbol viewBox=\"0 0 24 24\" id=\"jump-to\">\\n                <path d=\"M19 '\n",
      " b'7v4H5.83l3.58-3.59L8 6l-6 6 6 6 1.41-1.41L5.83 13H21V7z\" />\\n            '\n",
      " b'</symbol>\\n\\n            <symbol viewBox=\"0 0 24 24\" id=\"expand\">\\n        '\n",
      " b'        <path d=\"M10 18h4v-2h-4v2zM3 6v2h18V6H3zm3 7h12v-2H6v2z\" />\\n    '\n",
      " b'        </symbol>\\n\\n        </defs>\\n    </svg>\\n\\n\\n    <div id=\"swagger'\n",
      " b'-ui\">\\n        <div data-reactroot=\"\" class=\"swagger-ui\">\\n            <di'\n",
      " b'v>\\n                <div class=\"information-container wrapper\">\\n         '\n",
      " b'           <section class=\"block col-12\">\\n                        <div c'\n",
      " b'lass=\"info\">\\n                            <hgroup class=\"main\">\\n         '\n",
      " b'                       <h2 class=\"title\">httpbin.org\\n                   '\n",
      " b'                 <small>\\n                                        <pre cl'\n",
      " b'ass=\"version\">0.9.2</pre>\\n                                    </small>\\n '\n",
      " b'                               </h2>\\n                                <pr'\n",
      " b'e class=\"base-url\">[ Base URL: httpbin.org/ ]</pre>\\n                    '\n",
      " b'        </hgroup>\\n                            <div class=\"description\">\\n'\n",
      " b'                                <div class=\"markdown\">\\n                 '\n",
      " b'                   <p>A simple HTTP Request &amp; Response Service.\\n    '\n",
      " b'                                    <br>\\n                               '\n",
      " b'         <br>\\n                                        <b>Run locally: </'\n",
      " b'b>\\n                                        <code>$ docker run -p 80:80 k'\n",
      " b'ennethreitz/httpbin</code>\\n                                    </p>\\n    '\n",
      " b'                            </div>\\n                            </div>\\n  '\n",
      " b'                          <div>\\n                                <div>\\n  '\n",
      " b'                                  <a href=\"https://kennethreitz.org\" target='\n",
      " b'\"_blank\">the developer - Website</a>\\n                                </d'\n",
      " b'iv>\\n                                <a href=\"mailto:me@kennethreitz.org\"'\n",
      " b'>Send email to the developer</a>\\n                            </div>\\n    '\n",
      " b'                    </div>\\n                        <!-- ADDS THE LOADER '\n",
      " b'SPINNER -->\\n                        <div class=\"loading-container\">\\n    '\n",
      " b'                        <div class=\"loading\"></div>\\n                    '\n",
      " b'    </div>\\n\\n                    </section>\\n                </div>\\n      '\n",
      " b\"      </div>\\n        </div>\\n    </div>\\n\\n\\n    <div class='swagger-ui'\"\n",
      " b'>\\n        <div class=\"wrapper\">\\n            <section class=\"clear\">\\n    '\n",
      " b'            <span style=\"float: right;\">\\n                    [Powered by'\n",
      " b'\\n                    <a target=\"_blank\" href=\"https://github.com/rochacb'\n",
      " b'runo/flasgger\">Flasgger</a>]\\n                    <br>\\n                </'\n",
      " b'span>\\n            </section>\\n        </div>\\n    </div>\\n\\n\\n\\n    <scrip'\n",
      " b't src=\"/flasgger_static/swagger-ui-bundle.js\"> </script>\\n    <script src'\n",
      " b'=\"/flasgger_static/swagger-ui-standalone-preset.js\"> </script>\\n    <scri'\n",
      " b\"pt src='/flasgger_static/lib/jquery.min.js' type='text/javascript'></script>\"\n",
      " b'\\n    <script>\\n\\n        window.onload = function () {\\n            \\n\\n '\n",
      " b'           fetch(\"/spec.json\")\\n                .then(function (response)'\n",
      " b' {\\n                    response.json()\\n                        .then(fun'\n",
      " b'ction (json) {\\n                            var current_protocol = window'\n",
      " b'.location.protocol.slice(0, -1);\\n                            if (json.sc'\n",
      " b'hemes[0] != current_protocol) {\\n                                // Switc'\n",
      " b'hes scheme to the current in use\\n                                var oth'\n",
      " b'er_protocol = json.schemes[0];\\n                                json.sche'\n",
      " b'mes[0] = current_protocol;\\n                                json.schemes['\n",
      " b'1] = other_protocol;\\n\\n                            }\\n                    '\n",
      " b'        json.host = window.location.host;  // sets the current host\\n\\n   '\n",
      " b'                         const ui = SwaggerUIBundle({\\n                  '\n",
      " b'              spec: json,\\n                                validatorUrl: '\n",
      " b\"null,\\n                                dom_id: '#swagger-ui',\\n           \"\n",
      " b'                     deepLinking: true,\\n                                '\n",
      " b'jsonEditor: true,\\n                                docExpansion: \"none\",\\n'\n",
      " b'                                apisSorter: \"alpha\",\\n                   '\n",
      " b'             //operationsSorter: \"alpha\",\\n                              '\n",
      " b'  presets: [\\n                                    SwaggerUIBundle.presets'\n",
      " b'.apis,\\n                                    // yay ES6 modules \\xe2\\x86'\n",
      " b'\\x98\\n                                    Array.isArray(SwaggerUIStandaloneP'\n",
      " b'reset) ? SwaggerUIStandalonePreset : SwaggerUIStandalonePreset.default\\n '\n",
      " b'                               ],\\n                                plugin'\n",
      " b's: [\\n                                    SwaggerUIBundle.plugins.Downloa'\n",
      " b'dUrl\\n                                ],\\n            \\n            // layo'\n",
      " b'ut: \"StandaloneLayout\"  // uncomment to enable the green top header\\n    '\n",
      " b'    })\\n\\n        window.ui = ui\\n\\n        // uncomment to rename the top b'\n",
      " b'rand if layout is enabled\\n        // $(\".topbar-wrapper .link span\").rep'\n",
      " b'laceWith(\"<span>httpbin</span>\");\\n        })\\n    })\\n}\\n    </script>  <di'\n",
      " b'v class=\\'swagger-ui\\'>\\n    <div class=\"wrapper\">\\n        <section class=\"'\n",
      " b'block col-12 block-desktop col-12-desktop\">\\n            <div>\\n\\n         '\n",
      " b'       <h2>Other Utilities</h2>\\n\\n                <ul>\\n                  '\n",
      " b'  <li>\\n                        <a href=\"/forms/post\">HTML form</a> that '\n",
      " b'posts to /post /forms/post</li>\\n                </ul>\\n\\n                <'\n",
      " b'br />\\n                <br />\\n            </div>\\n        </section>\\n    <'\n",
      " b'/div>\\n</div>\\n</body>\\n\\n</html>')\n"
     ]
    }
   ],
   "source": [
    "pprint(data)"
   ]
  },
  {
   "cell_type": "code",
   "execution_count": 11,
   "metadata": {},
   "outputs": [
    {
     "data": {
      "text/plain": [
       "(bytes, 9593)"
      ]
     },
     "execution_count": 11,
     "metadata": {},
     "output_type": "execute_result"
    }
   ],
   "source": [
    "type(data), len(data)"
   ]
  },
  {
   "cell_type": "markdown",
   "metadata": {},
   "source": [
    "#### From above http response we can observe it is encoded in \"UTF-8\" , so we are trying to decode this reponse."
   ]
  },
  {
   "cell_type": "code",
   "execution_count": 12,
   "metadata": {},
   "outputs": [
    {
     "data": {
      "text/plain": [
       "str"
      ]
     },
     "execution_count": 12,
     "metadata": {},
     "output_type": "execute_result"
    }
   ],
   "source": [
    "html = data.decode(\"UTF-8\")\n",
    "\n",
    "type(html)"
   ]
  },
  {
   "cell_type": "markdown",
   "metadata": {},
   "source": [
    "#### Here we are displaying the decoded data which is in the form of str and in the starting 'b' is not there"
   ]
  },
  {
   "cell_type": "code",
   "execution_count": 13,
   "metadata": {},
   "outputs": [
    {
     "name": "stdout",
     "output_type": "stream",
     "text": [
      "('<!DOCTYPE html>\\n'\n",
      " '<html lang=\"en\">\\n'\n",
      " '\\n'\n",
      " '<head>\\n'\n",
      " '    <meta charset=\"UTF-8\">\\n'\n",
      " '    <title>httpbin.org</title>\\n'\n",
      " '    <link '\n",
      " 'href=\"https://fonts.googleapis.com/css?family=Open+Sans:400,700|Source+Code+Pro:300,600|Titillium+Web:400,600,700\"\\n'\n",
      " '        rel=\"stylesheet\">\\n'\n",
      " '    <link rel=\"stylesheet\" type=\"text/css\" '\n",
      " 'href=\"/flasgger_static/swagger-ui.css\">\\n'\n",
      " '    <link rel=\"icon\" type=\"image/png\" href=\"/static/favicon.ico\" '\n",
      " 'sizes=\"64x64 32x32 16x16\" />\\n'\n",
      " '    <style>\\n'\n",
      " '        html {\\n'\n",
      " '            box-sizing: border-box;\\n'\n",
      " '            overflow: -moz-scrollbars-vertical;\\n'\n",
      " '            overflow-y: scroll;\\n'\n",
      " '        }\\n'\n",
      " '\\n'\n",
      " '        *,\\n'\n",
      " '        *:before,\\n'\n",
      " '        *:after {\\n'\n",
      " '            box-sizing: inherit;\\n'\n",
      " '        }\\n'\n",
      " '\\n'\n",
      " '        body {\\n'\n",
      " '            margin: 0;\\n'\n",
      " '            background: #fafafa;\\n'\n",
      " '        }\\n'\n",
      " '    </style>\\n'\n",
      " '</head>\\n'\n",
      " '\\n'\n",
      " '<body>\\n'\n",
      " '    <a href=\"https://github.com/requests/httpbin\" class=\"github-corner\" '\n",
      " 'aria-label=\"View source on Github\">\\n'\n",
      " '        <svg width=\"80\" height=\"80\" viewBox=\"0 0 250 250\" '\n",
      " 'style=\"fill:#151513; color:#fff; position: absolute; top: 0; border: 0; '\n",
      " 'right: 0;\"\\n'\n",
      " '            aria-hidden=\"true\">\\n'\n",
      " '            <path d=\"M0,0 L115,115 L130,115 L142,142 L250,250 L250,0 '\n",
      " 'Z\"></path>\\n'\n",
      " '            <path d=\"M128.3,109.0 C113.8,99.7 119.0,89.6 119.0,89.6 '\n",
      " 'C122.0,82.7 120.5,78.6 120.5,78.6 C119.2,72.0 123.4,76.3 123.4,76.3 '\n",
      " 'C127.3,80.9 125.5,87.3 125.5,87.3 C122.9,97.6 130.6,101.9 134.4,103.2\"\\n'\n",
      " '                fill=\"currentColor\" style=\"transform-origin: 130px 106px;\" '\n",
      " 'class=\"octo-arm\"></path>\\n'\n",
      " '            <path d=\"M115.0,115.0 C114.9,115.1 118.7,116.5 119.8,115.4 '\n",
      " 'L133.7,101.6 C136.9,99.2 139.9,98.4 142.2,98.6 C133.8,88.0 127.5,74.4 '\n",
      " '143.8,58.0 C148.5,53.4 154.0,51.2 159.7,51.0 C160.3,49.4 163.2,43.6 '\n",
      " '171.4,40.1 C171.4,40.1 176.1,42.5 178.8,56.2 C183.1,58.6 187.2,61.8 '\n",
      " '190.9,65.4 C194.5,69.0 197.7,73.2 200.1,77.6 C213.8,80.2 216.3,84.9 '\n",
      " '216.3,84.9 C212.7,93.1 206.9,96.0 205.4,96.6 C205.1,102.4 203.0,107.8 '\n",
      " '198.3,112.5 C181.9,128.9 168.3,122.5 157.7,114.1 C157.9,116.9 156.7,120.9 '\n",
      " '152.7,124.9 L141.0,136.5 C139.8,137.7 141.6,141.9 141.8,141.8 Z\"\\n'\n",
      " '                fill=\"currentColor\" class=\"octo-body\"></path>\\n'\n",
      " '        </svg>\\n'\n",
      " '    </a>\\n'\n",
      " '    <svg xmlns=\"http://www.w3.org/2000/svg\" '\n",
      " 'xmlns:xlink=\"http://www.w3.org/1999/xlink\" '\n",
      " 'style=\"position:absolute;width:0;height:0\">\\n'\n",
      " '        <defs>\\n'\n",
      " '            <symbol viewBox=\"0 0 20 20\" id=\"unlocked\">\\n'\n",
      " '                <path d=\"M15.8 8H14V5.6C14 2.703 12.665 1 10 1 7.334 1 6 '\n",
      " '2.703 6 5.6V6h2v-.801C8 3.754 8.797 3 10 3c1.203 0 2 .754 2 2.199V8H4c-.553 '\n",
      " '0-1 .646-1 1.199V17c0 .549.428 1.139.951 1.307l1.197.387C5.672 18.861 6.55 '\n",
      " '19 7.1 19h5.8c.549 0 1.428-.139 '\n",
      " '1.951-.307l1.196-.387c.524-.167.953-.757.953-1.306V9.199C17 8.646 16.352 8 '\n",
      " '15.8 8z\"></path>\\n'\n",
      " '            </symbol>\\n'\n",
      " '\\n'\n",
      " '            <symbol viewBox=\"0 0 20 20\" id=\"locked\">\\n'\n",
      " '                <path d=\"M15.8 8H14V5.6C14 2.703 12.665 1 10 1 7.334 1 6 '\n",
      " '2.703 6 5.6V8H4c-.553 0-1 .646-1 1.199V17c0 .549.428 1.139.951 '\n",
      " '1.307l1.197.387C5.672 18.861 6.55 19 7.1 19h5.8c.549 0 1.428-.139 '\n",
      " '1.951-.307l1.196-.387c.524-.167.953-.757.953-1.306V9.199C17 8.646 16.352 8 '\n",
      " '15.8 8zM12 8H8V5.199C8 3.754 8.797 3 10 3c1.203 0 2 .754 2 2.199V8z\"\\n'\n",
      " '                />\\n'\n",
      " '            </symbol>\\n'\n",
      " '\\n'\n",
      " '            <symbol viewBox=\"0 0 20 20\" id=\"close\">\\n'\n",
      " '                <path d=\"M14.348 14.849c-.469.469-1.229.469-1.697 0L10 '\n",
      " '11.819l-2.651 3.029c-.469.469-1.229.469-1.697 0-.469-.469-.469-1.229 '\n",
      " '0-1.697l2.758-3.15-2.759-3.152c-.469-.469-.469-1.228 0-1.697.469-.469 '\n",
      " '1.228-.469 1.697 0L10 8.183l2.651-3.031c.469-.469 1.228-.469 1.697 0 '\n",
      " '.469.469.469 1.229 0 1.697l-2.758 3.152 2.758 3.15c.469.469.469 1.229 0 '\n",
      " '1.698z\"\\n'\n",
      " '                />\\n'\n",
      " '            </symbol>\\n'\n",
      " '\\n'\n",
      " '            <symbol viewBox=\"0 0 20 20\" id=\"large-arrow\">\\n'\n",
      " '                <path d=\"M13.25 10L6.109 2.58c-.268-.27-.268-.707 '\n",
      " '0-.979.268-.27.701-.27.969 0l7.83 7.908c.268.271.268.709 0 .979l-7.83 '\n",
      " '7.908c-.268.271-.701.27-.969 0-.268-.269-.268-.707 0-.979L13.25 10z\"\\n'\n",
      " '                />\\n'\n",
      " '            </symbol>\\n'\n",
      " '\\n'\n",
      " '            <symbol viewBox=\"0 0 20 20\" id=\"large-arrow-down\">\\n'\n",
      " '                <path d=\"M17.418 6.109c.272-.268.709-.268.979 0s.271.701 0 '\n",
      " '.969l-7.908 7.83c-.27.268-.707.268-.979 0l-7.908-7.83c-.27-.268-.27-.701 '\n",
      " '0-.969.271-.268.709-.268.979 0L10 13.25l7.418-7.141z\"\\n'\n",
      " '                />\\n'\n",
      " '            </symbol>\\n'\n",
      " '\\n'\n",
      " '\\n'\n",
      " '            <symbol viewBox=\"0 0 24 24\" id=\"jump-to\">\\n'\n",
      " '                <path d=\"M19 7v4H5.83l3.58-3.59L8 6l-6 6 6 6 1.41-1.41L5.83 '\n",
      " '13H21V7z\" />\\n'\n",
      " '            </symbol>\\n'\n",
      " '\\n'\n",
      " '            <symbol viewBox=\"0 0 24 24\" id=\"expand\">\\n'\n",
      " '                <path d=\"M10 18h4v-2h-4v2zM3 6v2h18V6H3zm3 7h12v-2H6v2z\" />\\n'\n",
      " '            </symbol>\\n'\n",
      " '\\n'\n",
      " '        </defs>\\n'\n",
      " '    </svg>\\n'\n",
      " '\\n'\n",
      " '\\n'\n",
      " '    <div id=\"swagger-ui\">\\n'\n",
      " '        <div data-reactroot=\"\" class=\"swagger-ui\">\\n'\n",
      " '            <div>\\n'\n",
      " '                <div class=\"information-container wrapper\">\\n'\n",
      " '                    <section class=\"block col-12\">\\n'\n",
      " '                        <div class=\"info\">\\n'\n",
      " '                            <hgroup class=\"main\">\\n'\n",
      " '                                <h2 class=\"title\">httpbin.org\\n'\n",
      " '                                    <small>\\n'\n",
      " '                                        <pre class=\"version\">0.9.2</pre>\\n'\n",
      " '                                    </small>\\n'\n",
      " '                                </h2>\\n'\n",
      " '                                <pre class=\"base-url\">[ Base URL: '\n",
      " 'httpbin.org/ ]</pre>\\n'\n",
      " '                            </hgroup>\\n'\n",
      " '                            <div class=\"description\">\\n'\n",
      " '                                <div class=\"markdown\">\\n'\n",
      " '                                    <p>A simple HTTP Request &amp; Response '\n",
      " 'Service.\\n'\n",
      " '                                        <br>\\n'\n",
      " '                                        <br>\\n'\n",
      " '                                        <b>Run locally: </b>\\n'\n",
      " '                                        <code>$ docker run -p 80:80 '\n",
      " 'kennethreitz/httpbin</code>\\n'\n",
      " '                                    </p>\\n'\n",
      " '                                </div>\\n'\n",
      " '                            </div>\\n'\n",
      " '                            <div>\\n'\n",
      " '                                <div>\\n'\n",
      " '                                    <a href=\"https://kennethreitz.org\" '\n",
      " 'target=\"_blank\">the developer - Website</a>\\n'\n",
      " '                                </div>\\n'\n",
      " '                                <a href=\"mailto:me@kennethreitz.org\">Send '\n",
      " 'email to the developer</a>\\n'\n",
      " '                            </div>\\n'\n",
      " '                        </div>\\n'\n",
      " '                        <!-- ADDS THE LOADER SPINNER -->\\n'\n",
      " '                        <div class=\"loading-container\">\\n'\n",
      " '                            <div class=\"loading\"></div>\\n'\n",
      " '                        </div>\\n'\n",
      " '\\n'\n",
      " '                    </section>\\n'\n",
      " '                </div>\\n'\n",
      " '            </div>\\n'\n",
      " '        </div>\\n'\n",
      " '    </div>\\n'\n",
      " '\\n'\n",
      " '\\n'\n",
      " \"    <div class='swagger-ui'>\\n\"\n",
      " '        <div class=\"wrapper\">\\n'\n",
      " '            <section class=\"clear\">\\n'\n",
      " '                <span style=\"float: right;\">\\n'\n",
      " '                    [Powered by\\n'\n",
      " '                    <a target=\"_blank\" '\n",
      " 'href=\"https://github.com/rochacbruno/flasgger\">Flasgger</a>]\\n'\n",
      " '                    <br>\\n'\n",
      " '                </span>\\n'\n",
      " '            </section>\\n'\n",
      " '        </div>\\n'\n",
      " '    </div>\\n'\n",
      " '\\n'\n",
      " '\\n'\n",
      " '\\n'\n",
      " '    <script src=\"/flasgger_static/swagger-ui-bundle.js\"> </script>\\n'\n",
      " '    <script src=\"/flasgger_static/swagger-ui-standalone-preset.js\"> '\n",
      " '</script>\\n'\n",
      " \"    <script src='/flasgger_static/lib/jquery.min.js' \"\n",
      " \"type='text/javascript'></script>\\n\"\n",
      " '    <script>\\n'\n",
      " '\\n'\n",
      " '        window.onload = function () {\\n'\n",
      " '            \\n'\n",
      " '\\n'\n",
      " '            fetch(\"/spec.json\")\\n'\n",
      " '                .then(function (response) {\\n'\n",
      " '                    response.json()\\n'\n",
      " '                        .then(function (json) {\\n'\n",
      " '                            var current_protocol = '\n",
      " 'window.location.protocol.slice(0, -1);\\n'\n",
      " '                            if (json.schemes[0] != current_protocol) {\\n'\n",
      " '                                // Switches scheme to the current in use\\n'\n",
      " '                                var other_protocol = json.schemes[0];\\n'\n",
      " '                                json.schemes[0] = current_protocol;\\n'\n",
      " '                                json.schemes[1] = other_protocol;\\n'\n",
      " '\\n'\n",
      " '                            }\\n'\n",
      " '                            json.host = window.location.host;  // sets the '\n",
      " 'current host\\n'\n",
      " '\\n'\n",
      " '                            const ui = SwaggerUIBundle({\\n'\n",
      " '                                spec: json,\\n'\n",
      " '                                validatorUrl: null,\\n'\n",
      " \"                                dom_id: '#swagger-ui',\\n\"\n",
      " '                                deepLinking: true,\\n'\n",
      " '                                jsonEditor: true,\\n'\n",
      " '                                docExpansion: \"none\",\\n'\n",
      " '                                apisSorter: \"alpha\",\\n'\n",
      " '                                //operationsSorter: \"alpha\",\\n'\n",
      " '                                presets: [\\n'\n",
      " '                                    SwaggerUIBundle.presets.apis,\\n'\n",
      " '                                    // yay ES6 modules ↘\\n'\n",
      " '                                    Array.isArray(SwaggerUIStandalonePreset) '\n",
      " '? SwaggerUIStandalonePreset : SwaggerUIStandalonePreset.default\\n'\n",
      " '                                ],\\n'\n",
      " '                                plugins: [\\n'\n",
      " '                                    SwaggerUIBundle.plugins.DownloadUrl\\n'\n",
      " '                                ],\\n'\n",
      " '            \\n'\n",
      " '            // layout: \"StandaloneLayout\"  // uncomment to enable the green '\n",
      " 'top header\\n'\n",
      " '        })\\n'\n",
      " '\\n'\n",
      " '        window.ui = ui\\n'\n",
      " '\\n'\n",
      " '        // uncomment to rename the top brand if layout is enabled\\n'\n",
      " '        // $(\".topbar-wrapper .link '\n",
      " 'span\").replaceWith(\"<span>httpbin</span>\");\\n'\n",
      " '        })\\n'\n",
      " '    })\\n'\n",
      " '}\\n'\n",
      " \"    </script>  <div class='swagger-ui'>\\n\"\n",
      " '    <div class=\"wrapper\">\\n'\n",
      " '        <section class=\"block col-12 block-desktop col-12-desktop\">\\n'\n",
      " '            <div>\\n'\n",
      " '\\n'\n",
      " '                <h2>Other Utilities</h2>\\n'\n",
      " '\\n'\n",
      " '                <ul>\\n'\n",
      " '                    <li>\\n'\n",
      " '                        <a href=\"/forms/post\">HTML form</a> that posts to '\n",
      " '/post /forms/post</li>\\n'\n",
      " '                </ul>\\n'\n",
      " '\\n'\n",
      " '                <br />\\n'\n",
      " '                <br />\\n'\n",
      " '            </div>\\n'\n",
      " '        </section>\\n'\n",
      " '    </div>\\n'\n",
      " '</div>\\n'\n",
      " '</body>\\n'\n",
      " '\\n'\n",
      " '</html>')\n"
     ]
    }
   ],
   "source": [
    "pprint(html)"
   ]
  },
  {
   "cell_type": "code",
   "execution_count": 14,
   "metadata": {},
   "outputs": [
    {
     "name": "stdout",
     "output_type": "stream",
     "text": [
      "{'-content-encoding': 'gzip',\n",
      " 'cache-control': 'private, max-age=0',\n",
      " 'content-length': '19501',\n",
      " 'content-location': 'http://www.google.com/',\n",
      " 'content-security-policy-report-only': \"object-src 'none';base-uri \"\n",
      "                                        \"'self';script-src \"\n",
      "                                        \"'nonce-h3cflB83h9b0YPy8EhYjcg' \"\n",
      "                                        \"'strict-dynamic' 'report-sample' \"\n",
      "                                        \"'unsafe-eval' 'unsafe-inline' https: \"\n",
      "                                        'http:;report-uri '\n",
      "                                        'https://csp.withgoogle.com/csp/gws/other-hp',\n",
      " 'content-type': 'text/html; charset=ISO-8859-1',\n",
      " 'date': 'Mon, 03 Jul 2023 03:45:07 GMT',\n",
      " 'expires': '-1',\n",
      " 'p3p': 'CP=\"This is not a P3P policy! See g.co/p3phelp for more info.\"',\n",
      " 'server': 'gws',\n",
      " 'set-cookie': '1P_JAR=2023-07-03-03; expires=Wed, 02-Aug-2023 03:45:07 GMT; '\n",
      "               'path=/; domain=.google.com; Secure, '\n",
      "               'AEC=Ad49MVFuQHZZbB-sxom_Dt_6cZHWBXNEiMbbDTpSPHsv--Qyc780qq2bXD0; '\n",
      "               'expires=Sat, 30-Dec-2023 03:45:07 GMT; path=/; '\n",
      "               'domain=.google.com; Secure; HttpOnly; SameSite=lax, '\n",
      "               'NID=511=u2TmCSSJ-o3vHJyeBqG8UxN0aKwWOXtX5RAdJ56Wx7TJRuMsPycW2cInrYR1B91YHYNIlpG6PBMLdOSkq7VsJbrOGSOLV897wA3KwW4FTpU4byl_U5fjc6pdFp7RXB09nG5hu6-8-1KtHbzNRoo03DxnXIkft0r5ymcrJ0yKcIQ; '\n",
      "               'expires=Tue, 02-Jan-2024 03:45:07 GMT; path=/; '\n",
      "               'domain=.google.com; HttpOnly',\n",
      " 'status': '200',\n",
      " 'x-frame-options': 'SAMEORIGIN',\n",
      " 'x-xss-protection': '0'}\n"
     ]
    }
   ],
   "source": [
    "resp, data = http.request('http://google.com')\n",
    "\n",
    "pprint(resp)"
   ]
  },
  {
   "cell_type": "code",
   "execution_count": 15,
   "metadata": {},
   "outputs": [
    {
     "data": {
      "text/plain": [
       "bytes"
      ]
     },
     "execution_count": 15,
     "metadata": {},
     "output_type": "execute_result"
    }
   ],
   "source": [
    "type(data)"
   ]
  },
  {
   "cell_type": "code",
   "execution_count": 16,
   "metadata": {},
   "outputs": [
    {
     "name": "stdout",
     "output_type": "stream",
     "text": [
      "('<!doctype html><html itemscope=\"\" itemtype=\"http://schema.org/WebPage\" '\n",
      " 'lang=\"vi\"><head><meta content=\"text/html; charset=UTF-8\" '\n",
      " 'http-equiv=\"Content-Type\"><meta '\n",
      " 'content=\"/images/branding/googleg/1x/googleg_standard_color_128dp.png\" '\n",
      " 'itemprop=\"image\"><title>Google</title><script '\n",
      " 'nonce=\"h3cflB83h9b0YPy8EhYjcg\">(function(){var '\n",
      " \"_g={kEI:'Q0SiZK6tJZCY-Abbp6uACg',kEXPI:'0,1359409,6058,207,4804,2316,383,246,5,1129120,1197742,380748,16115,19397,9285,22432,1362,12320,17579,4998,17075,38444,2872,2891,4140,4208,3406,606,30668,27619,2402,2615,13721,20583,4,1528,2304,42126,13659,4437,22598,6639,7596,1,42154,2,39761,5679,1021,14865,16257,4567,6253,23425,1251,5835,19300,24,7460,445,2,2,1,24626,2006,8155,7381,15970,872,6578,13056,7,1922,9779,20640,2262,19557,20199,927,4869,14,14326,14,82,20206,8377,19538,277,4548,3030,6111,9705,1804,10472,2885,449,542,18712,37,10958,2365,662,1635,151,7797,1759,4133,18,1128,5901,2375,354,3083,7914,4951,2702,5086,3,3,9,4129,1271,2041,372,1776,5208527,825,432,2,5993513,2804424,3311,141,795,19735,1,1,348,6609,273,54,7,23943539,579,4043528,16673,2893,6250,19625,263,3918,2860,93,1585382,500297,23077628,994,307,2300,2720,4078,1378,1022,836,1546,7944,98,241,623,334,187,1076,90,2341,447,613,591,544,633,74,1,873,72,456,593,748,401,1745,956,99,437,201,273,723,356,33,1003,40,792,172,46,1265,118,393,867,10,465,337,517,880,150,40,130,172,183,2,4,499,1501,701,57,787,524,104,12,3,617,174,33,461,11,200,165,644,98,485,169,7,213,195,1385,193,22,87,147,129,6,3,185,276,72,850,3,135,1705,73,181,4,474,836,3,326,41,2,816,208',kBL:'pp_6',kOPI:89978449};(function(){var \"\n",
      " \"a;(null==(a=window.google)?0:a.stvsc)?google.kEI=_g.kEI:window.google=_g;}).call(this);})();(function(){google.sn='webhp';google.kHL='vi';})();(function(){\\n\"\n",
      " 'var h=this||self;function l(){return void 0!==window.google&&void '\n",
      " '0!==window.google.kOPI&&0!==window.google.kOPI?window.google.kOPI:null};var '\n",
      " 'm,n=[];function p(a){for(var '\n",
      " 'b;a&&(!a.getAttribute||!(b=a.getAttribute(\"eid\")));)a=a.parentNode;return '\n",
      " 'b||m}function q(a){for(var '\n",
      " 'b=null;a&&(!a.getAttribute||!(b=a.getAttribute(\"leid\")));)a=a.parentNode;return '\n",
      " 'b}function '\n",
      " 'r(a){/^http:/i.test(a)&&\"https:\"===window.location.protocol&&(google.ml&&google.ml(Error(\"a\"),!1,{src:a,glmm:1}),a=\"\");return '\n",
      " 'a}\\n'\n",
      " 'function t(a,b,c,d,k){var '\n",
      " 'e=\"\";-1===b.search(\"&ei=\")&&(e=\"&ei=\"+p(d),-1===b.search(\"&lei=\")&&(d=q(d))&&(e+=\"&lei=\"+d));d=\"\";var '\n",
      " 'g=-1===b.search(\"&cshid=\")&&\"slh\"!==a,f=[];f.push([\"zx\",Date.now().toString()]);h._cshid&&g&&f.push([\"cshid\",h._cshid]);c=c();null!=c&&f.push([\"opi\",c.toString()]);for(c=0;c<f.length;c++){if(0===c||0<c)d+=\"&\";d+=f[c][0]+\"=\"+f[c][1]}return\"/\"+(k||\"gen_204\")+\"?atyp=i&ct=\"+String(a)+\"&cad=\"+(b+e+d)};m=google.kEI;google.getEI=p;google.getLEI=q;google.ml=function(){return '\n",
      " 'null};google.log=function(a,b,c,d,k,e){e=void '\n",
      " '0===e?l:e;c||(c=t(a,b,e,d,k));if(c=r(c)){a=new Image;var '\n",
      " 'g=n.length;n[g]=a;a.onerror=a.onload=a.onabort=function(){delete '\n",
      " 'n[g]};a.src=c}};google.logUrl=function(a,b){b=void 0===b?l:b;return '\n",
      " 't(\"\",a,b)};}).call(this);(function(){google.y={};google.sy=[];google.x=function(a,b){if(a)var '\n",
      " 'c=a.id;else{do '\n",
      " 'c=Math.random();while(google.y[c])}google.y[c]=[a,b];return!1};google.sx=function(a){google.sy.push(a)};google.lm=[];google.plm=function(a){google.lm.push.apply(google.lm,a)};google.lq=[];google.load=function(a,b,c){google.lq.push([[a],b,c])};google.loadAll=function(a,b){google.lq.push([a,b])};google.bx=!1;google.lx=function(){};}).call(this);google.f={};(function(){\\n'\n",
      " 'document.documentElement.addEventListener(\"submit\",function(b){var '\n",
      " 'a;if(a=b.target){var '\n",
      " 'c=a.getAttribute(\"data-submitfalse\");a=\"1\"===c||\"q\"===c&&!a.elements.q.value?!0:!1}else '\n",
      " 'a=!1;a&&(b.preventDefault(),b.stopPropagation())},!0);document.documentElement.addEventListener(\"click\",function(b){var '\n",
      " 'a;a:{for(a=b.target;a&&a!==document.documentElement;a=a.parentElement)if(\"A\"===a.tagName){a=\"1\"===a.getAttribute(\"data-nohref\");break '\n",
      " 'a}a=!1}a&&b.preventDefault()},!0);}).call(this);</script><style>#gbar,#guser{font-size:13px;padding-top:1px '\n",
      " '!important;}#gbar{height:22px}#guser{padding-bottom:7px '\n",
      " '!important;text-align:right}.gbh,.gbd{border-top:1px solid '\n",
      " '#c9d7f1;font-size:1px}.gbh{height:0;position:absolute;top:24px;width:100%}@media '\n",
      " 'all{.gb1{height:22px;margin-right:.5em;vertical-align:top}#gbar{float:left}}a.gb1,a.gb4{text-decoration:underline '\n",
      " '!important}a.gb1,a.gb4{color:#00c !important}.gbi .gb4{color:#dd8e27 '\n",
      " '!important}.gbf .gb4{color:#900 !important}\\n'\n",
      " '</style><style>body,td,a,p,.h{font-family:arial,sans-serif}body{margin:0;overflow-y:scroll}#gog{padding:3px '\n",
      " '8px 0}td{line-height:.8em}.gac_m '\n",
      " 'td{line-height:17px}form{margin-bottom:20px}.h{color:#1967d2}em{font-weight:bold;font-style:normal}.lst{height:25px;width:496px}.gsfi,.lst{font:18px '\n",
      " 'arial,sans-serif}.gsfs{font:17px '\n",
      " 'arial,sans-serif}.ds{display:inline-box;display:inline-block;margin:3px 0 '\n",
      " '4px;margin-left:4px}input{font-family:inherit}body{background:#fff;color:#000}a{color:#681da8;text-decoration:none}a:hover,a:active{text-decoration:underline}.fl '\n",
      " 'a{color:#1967d2}a:visited{color:#681da8}.sblc{padding-top:5px}.sblc '\n",
      " 'a{display:block;margin:2px '\n",
      " '0;margin-left:13px;font-size:11px}.lsbb{background:#f8f9fa;border:solid '\n",
      " '1px;border-color:#dadce0 #70757a #70757a '\n",
      " '#dadce0;height:30px}.lsbb{display:block}#WqQANb '\n",
      " 'a{display:inline-block;margin:0 '\n",
      " '12px}.lsb{background:url(/images/nav_logo229.png) 0 -261px '\n",
      " 'repeat-x;color:#000;border:none;cursor:pointer;height:30px;margin:0;outline:0;font:15px '\n",
      " 'arial,sans-serif;vertical-align:top}.lsb:active{background:#dadce0}.lst:focus{outline:none}.Ucigb{width:458px}</style><script '\n",
      " 'nonce=\"h3cflB83h9b0YPy8EhYjcg\">(function(){window.google.erd={jsr:1,bv:1822,de:true};\\n'\n",
      " 'var l=this||self;var '\n",
      " 'm,n=null!=(m=l.mei)?m:1,p,q=null!=(p=l.sdo)?p:!0,r=0,t,u=google.erd,v=u.jsr;google.ml=function(a,b,d,e,f){f=void '\n",
      " '0===f?2:f;b&&(t=a&&a.message);if(google.dl)return '\n",
      " 'google.dl(a,f,d),null;if(0>v){window.console&&console.error(a,d);if(-2===v)throw '\n",
      " 'a;b=!1}else b=!a||!a.message||\"Error loading '\n",
      " 'script\"===a.message||r>=n&&!e?!1:!0;if(!b)return '\n",
      " 'null;r++;d=d||{};b=encodeURIComponent;var '\n",
      " 'c=\"/gen_204?atyp=i&ei=\"+b(google.kEI);google.kEXPI&&(c+=\"&jexpid=\"+b(google.kEXPI));c+=\"&srcpg=\"+b(google.sn)+\"&jsr=\"+b(u.jsr)+\"&bver=\"+b(u.bv);var '\n",
      " 'g=a.lineNumber;void 0!==g&&(c+=\"&line=\"+g);var h=\\n'\n",
      " 'a.fileName;h&&(0<h.indexOf(\"-extension:/\")&&(f=3),c+=\"&script=\"+b(h),g&&h===window.location.href&&(g=document.documentElement.outerHTML.split(\"\\\\n\")[g],c+=\"&cad=\"+b(g?g.substring(0,300):\"No '\n",
      " 'script found.\")));c+=\"&jsel=\"+f;for(var k in '\n",
      " 'd)c+=\"&\",c+=b(k),c+=\"=\",c+=b(d[k]);c=c+\"&emsg=\"+b(a.name+\": '\n",
      " '\"+a.message);c=c+\"&jsst=\"+b(a.stack||\"N/A\");12288<=c.length&&(c=c.substr(0,12288));a=c;e||google.log(0,\"\",a);return '\n",
      " 'a};window.onerror=function(a,b,d,e,f){if(t!==a){a=f instanceof '\n",
      " 'Error?f:Error(a);void 0===d||\"lineNumber\"in a||(a.lineNumber=d);void '\n",
      " '0===b||\"fileName\"in a||(a.fileName=b);b=void '\n",
      " '0;if(a.stack&&(-1!==a.stack.indexOf(\"?xjs=s0\")||a.stack.indexOf(\"&xjs=s0\"))){b=document.querySelectorAll(\"script[src*=\\\\\\\\/xjs\\\\\\\\/_\\\\\\\\/js\\\\\\\\/]\");for(e=d=0;e<b.length;e++)console.log(b[e].async),d+=b[e].async?1:0;var '\n",
      " 'c=f=e=-1,g=-1,h=-1;if(performance&&google.xjsu){e=0;f=google.timers.load.t.xjsee?1:0;g=c=0;h=performance.getEntriesByType(\"resource\");for(var '\n",
      " 'k=0;k<h.length;k++)h[k].name===google.xjsu&&(e=1),-1!==h[k].name.indexOf(\"/xjs/_/js/\")&&(c+=1,g+=\"script\"===h[k].initiatorType?1:0);h=c-g}b={cad:\"pl_\"+e+\".pe_\"+f+\".asc_\"+d+\".tsc_\"+b.length+\".fasc_\"+(b.length-d)+\".lxc_\"+c+\".lsx_\"+g+\".lnsx_\"+h}}google.ml(a,!1,b,!1,\"SyntaxError\"===a.name||\"SyntaxError\"===a.message.substring(0,11)||-1!==a.message.indexOf(\"Script '\n",
      " 'error\")?3:0)}t=null;q&&r>=n&&(window.onerror=null)};})();</script></head><body '\n",
      " 'bgcolor=\"#fff\"><script nonce=\"h3cflB83h9b0YPy8EhYjcg\">(function(){var '\n",
      " \"src='/images/nav_logo229.png';var iesg=false;document.body.onload = \"\n",
      " 'function(){window.n && window.n();if (document.images){new '\n",
      " 'Image().src=src;}\\n'\n",
      " 'if '\n",
      " '(!iesg){document.f&&document.f.q.focus();document.gbqf&&document.gbqf.q.focus();}\\n'\n",
      " '}\\n'\n",
      " '})();</script><div id=\"mngb\"><div id=gbar><nobr><b class=gb1>Tìm '\n",
      " 'ki&#7871;m</b> <a class=gb1 '\n",
      " 'href=\"https://www.google.com/imghp?hl=vi&tab=wi\">Hình &#7843;nh</a> <a '\n",
      " 'class=gb1 href=\"http://maps.google.com/maps?hl=vi&tab=wl\">Maps</a> <a '\n",
      " 'class=gb1 href=\"https://play.google.com/?hl=vi&tab=w8\">Play</a> <a class=gb1 '\n",
      " 'href=\"https://www.youtube.com/?tab=w1\">YouTube</a> <a class=gb1 '\n",
      " 'href=\"https://news.google.com/?tab=wn\">Tin t&#7913;c</a> <a class=gb1 '\n",
      " 'href=\"https://mail.google.com/mail/?tab=wm\">Gmail</a> <a class=gb1 '\n",
      " 'href=\"https://drive.google.com/?tab=wo\">Drive</a> <a class=gb1 '\n",
      " 'style=\"text-decoration:none\" '\n",
      " 'href=\"https://www.google.com.vn/intl/vi/about/products?tab=wh\"><u>Thêm</u> '\n",
      " '&raquo;</a></nobr></div><div id=guser width=100%><nobr><span id=gbn '\n",
      " 'class=gbi></span><span id=gbf class=gbf></span><span id=gbe></span><a '\n",
      " 'href=\"http://www.google.com.vn/history/optout?hl=vi\" class=gb4>Li&#803;ch '\n",
      " 's&#432;&#777; Web</a> | <a  href=\"/preferences?hl=vi\" class=gb4>Cài '\n",
      " '&#273;&#7863;t</a> | <a target=_top id=gb_70 '\n",
      " 'href=\"https://accounts.google.com/ServiceLogin?hl=vi&passive=true&continue=http://www.google.com/&ec=GAZAAQ\" '\n",
      " 'class=gb4>&#272;&#259;ng nh&#7853;p</a></nobr></div><div class=gbh '\n",
      " 'style=left:0></div><div class=gbh style=right:0></div></div><center><br '\n",
      " 'clear=\"all\" id=\"lgpd\"><div id=\"lga\"><img alt=\"Google\" height=\"92\" '\n",
      " 'src=\"/images/branding/googlelogo/1x/googlelogo_white_background_color_272x92dp.png\" '\n",
      " 'style=\"padding:28px 0 14px\" width=\"272\" id=\"hplogo\"><br><br></div><form '\n",
      " 'action=\"/search\" name=\"f\"><table cellpadding=\"0\" cellspacing=\"0\"><tr '\n",
      " 'valign=\"top\"><td width=\"25%\">&nbsp;</td><td align=\"center\" nowrap=\"\"><input '\n",
      " 'name=\"ie\" value=\"ISO-8859-1\" type=\"hidden\"><input value=\"vi\" name=\"hl\" '\n",
      " 'type=\"hidden\"><input name=\"source\" type=\"hidden\" value=\"hp\"><input '\n",
      " 'name=\"biw\" type=\"hidden\"><input name=\"bih\" type=\"hidden\"><div class=\"ds\" '\n",
      " 'style=\"height:32px;margin:4px 0\"><div '\n",
      " 'style=\"position:relative;zoom:1\"><input class=\"lst Ucigb\" '\n",
      " 'style=\"margin:0;padding:5px 8px 0 '\n",
      " '6px;vertical-align:top;color:#000;padding-right:38px\" autocomplete=\"off\" '\n",
      " 'value=\"\" title=\"Tìm trên Google\" maxlength=\"2048\" name=\"q\" size=\"57\"><img '\n",
      " 'src=\"/textinputassistant/tia.png\" '\n",
      " 'style=\"position:absolute;cursor:pointer;right:5px;top:4px;z-index:300\" '\n",
      " 'data-script-url=\"/textinputassistant/12/vi_tia.js\" id=\"tsuid_1\" alt=\"\" '\n",
      " 'height=\"23\" width=\"27\"><script '\n",
      " 'nonce=\"h3cflB83h9b0YPy8EhYjcg\">(function(){var '\n",
      " \"id='tsuid_1';document.getElementById(id).onclick = function(){var s = \"\n",
      " \"document.createElement('script');s.src = \"\n",
      " \"this.getAttribute('data-script-url');(document.getElementById('xjsc')||document.body).appendChild(s);};})();</script></div></div><br \"\n",
      " 'style=\"line-height:0\"><span class=\"ds\"><span class=\"lsbb\"><input class=\"lsb\" '\n",
      " 'value=\"Tìm trên Google\" name=\"btnG\" type=\"submit\"></span></span><span '\n",
      " 'class=\"ds\"><span class=\"lsbb\"><input class=\"lsb\" id=\"tsuid_2\" value=\"Xem '\n",
      " 'trang &#273;&#7847;u tiên tìm &#273;&#432;&#7907;c\" name=\"btnI\" '\n",
      " 'type=\"submit\"><script nonce=\"h3cflB83h9b0YPy8EhYjcg\">(function(){var '\n",
      " \"id='tsuid_2';document.getElementById(id).onclick = function(){if \"\n",
      " '(this.form.q.value){this.checked = 1;if '\n",
      " '(this.form.iflsig)this.form.iflsig.disabled = false;}\\n'\n",
      " \"else top.location='/doodles/';};})();</script><input \"\n",
      " 'value=\"AD69kcEAAAAAZKJSU58eVN54J19Yqv862Ap40fQI66YV\" name=\"iflsig\" '\n",
      " 'type=\"hidden\"></span></span></td><td class=\"fl sblc\" align=\"left\" nowrap=\"\" '\n",
      " 'width=\"25%\"><a href=\"/advanced_search?hl=vi&amp;authuser=0\">Tìm ki&#7871;m '\n",
      " 'nâng cao</a></td></tr></table><input id=\"gbv\" name=\"gbv\" type=\"hidden\" '\n",
      " 'value=\"1\"><script nonce=\"h3cflB83h9b0YPy8EhYjcg\">(function(){var '\n",
      " 'a,b=\"1\";if(document&&document.getElementById)if(\"undefined\"!=typeof '\n",
      " 'XMLHttpRequest)b=\"2\";else if(\"undefined\"!=typeof ActiveXObject){var '\n",
      " 'c,d,e=[\"MSXML2.XMLHTTP.6.0\",\"MSXML2.XMLHTTP.3.0\",\"MSXML2.XMLHTTP\",\"Microsoft.XMLHTTP\"];for(c=0;d=e[c++];)try{new '\n",
      " 'ActiveXObject(d),b=\"2\"}catch(h){}}a=b;if(\"2\"==a&&-1==location.search.indexOf(\"&gbv=2\")){var '\n",
      " 'f=google.gbvu,g=document.getElementById(\"gbv\");g&&(g.value=a);f&&window.setTimeout(function(){location.href=f},0)};}).call(this);</script></form><div '\n",
      " 'id=\"gac_scont\"></div><div style=\"font-size:83%;min-height:3.5em\"><br><div '\n",
      " 'id=\"gws-output-pages-elements-homepage_additional_languages__als\"><style>#gws-output-pages-elements-homepage_additional_languages__als{font-size:small;margin-bottom:24px}#SIvCob{color:#3c4043;display:inline-block;line-height:28px;}#SIvCob '\n",
      " 'a{padding:0 3px;}.H6sW5{display:inline-block;margin:0 '\n",
      " '2px;white-space:nowrap}.z4hgWe{display:inline-block;margin:0 '\n",
      " '2px}</style><div id=\"SIvCob\">Google có các th&#7913; ti&#7871;ng:  <a '\n",
      " 'href=\"http://www.google.com/setprefs?sig=0_qAvcsylxuqMCqCHMgczj2OlD3LM%3D&amp;hl=en&amp;source=homepage&amp;sa=X&amp;ved=0ahUKEwju2oLxz_H_AhUQDN4KHdvTCqAQ2ZgBCAU\">English</a>    '\n",
      " '<a '\n",
      " 'href=\"http://www.google.com/setprefs?sig=0_qAvcsylxuqMCqCHMgczj2OlD3LM%3D&amp;hl=fr&amp;source=homepage&amp;sa=X&amp;ved=0ahUKEwju2oLxz_H_AhUQDN4KHdvTCqAQ2ZgBCAY\">Français</a>    '\n",
      " '<a '\n",
      " 'href=\"http://www.google.com/setprefs?sig=0_qAvcsylxuqMCqCHMgczj2OlD3LM%3D&amp;hl=zh-TW&amp;source=homepage&amp;sa=X&amp;ved=0ahUKEwju2oLxz_H_AhUQDN4KHdvTCqAQ2ZgBCAc\">&#32321;&#39636;&#20013;&#25991;</a>  '\n",
      " '</div></div></div><span id=\"footer\"><div style=\"font-size:10pt\"><div '\n",
      " 'style=\"margin:19px auto;text-align:center\" id=\"WqQANb\"><a '\n",
      " 'href=\"/intl/vi/ads/\">Qu&#7843;ng cáo</a><a href=\"/services/\">Gia&#777;i '\n",
      " 'pha&#769;p Kinh doanh</a><a href=\"/intl/vi/about.html\">Gi&#7899;i '\n",
      " 'thi&#7879;u v&#7873; Google</a><a '\n",
      " 'href=\"http://www.google.com/setprefdomain?prefdom=VN&amp;prev=http://www.google.com.vn/&amp;sig=K_HTUPkR24Z-AWRsMdV6-JsjSVskc%3D\">Google.com.vn</a></div></div><p '\n",
      " 'style=\"font-size:8pt;color:#70757a\">&copy; 2023</p></span></center><script '\n",
      " 'nonce=\"h3cflB83h9b0YPy8EhYjcg\">(function(){window.google.cdo={height:757,width:1440};(function(){var '\n",
      " 'a=window.innerWidth,b=window.innerHeight;if(!a||!b){var '\n",
      " 'c=window.document,d=\"CSS1Compat\"==c.compatMode?c.documentElement:c.body;a=d.clientWidth;b=d.clientHeight}\\n'\n",
      " 'if(a&&b&&(a!=google.cdo.width||b!=google.cdo.height)){var '\n",
      " 'e=google,f=e.log,g=\"/client_204?&atyp=i&biw=\"+a+\"&bih=\"+b+\"&ei=\"+google.kEI,h=\"\",k=[],l=void '\n",
      " '0!==window.google&&void '\n",
      " '0!==window.google.kOPI&&0!==window.google.kOPI?window.google.kOPI:null;null!=l&&k.push([\"opi\",l.toString()]);for(var '\n",
      " 'm=0;m<k.length;m++){if(0===m||0<m)h+=\"&\";h+=k[m][0]+\"=\"+k[m][1]}f.call(e,\"\",\"\",g+h)};}).call(this);})();</script> '\n",
      " '<script '\n",
      " 'nonce=\"h3cflB83h9b0YPy8EhYjcg\">(function(){google.xjs={ck:\\'xjs.hp.KmgsEx1Za9c.L.X.O\\',cs:\\'ACT90oGvn2GYaC76O55g_mrMY5MEji5J9Q\\',csss:\\'ACT90oFTid_mitzF78rVvgdfjZbEZmvZBA\\',excm:[],sepcss:false};})();</script>    '\n",
      " '<script nonce=\"h3cflB83h9b0YPy8EhYjcg\">(function(){var '\n",
      " \"u='/xjs/_/js/k\\\\x3dxjs.hp.en.9QlM0Up86x4.O/am\\\\x3dAAAAAAAAAABAAAAAAAAAAAAAANAJAFAAwAI/d\\\\x3d1/ed\\\\x3d1/rs\\\\x3dACT90oG6sriSlbnpJf5RZ94dYrXEj-CeTw/m\\\\x3dsb_he,d,cEt90b,SNUn3,qddgKe,sTsDMc,dtl0hd,eHDfl';var \"\n",
      " 'amd=0;\\n'\n",
      " 'var e=this||self,f=function(c){return c};var g;var '\n",
      " 'k=function(c){this.g=c};k.prototype.toString=function(){return '\n",
      " 'this.g+\"\"};var m={};\\n'\n",
      " 'function q(){var '\n",
      " 'c=u,n=function(){};google.lx=google.stvsc?n:function(){google.timers&&google.timers.load&&google.tick&&google.tick(\"load\",\"xjsls\");var '\n",
      " 'a=document;var '\n",
      " 'b=\"SCRIPT\";\"application/xhtml+xml\"===a.contentType&&(b=b.toLowerCase());b=a.createElement(b);a=null===c?\"null\":void '\n",
      " '0===c?\"undefined\":c;if(void 0===g){var d=null;var '\n",
      " 'l=e.trustedTypes;if(l&&l.createPolicy){try{d=l.createPolicy(\"goog#html\",{createHTML:f,createScript:f,createScriptURL:f})}catch(r){e.console&&e.console.error(r.message)}g=\\n'\n",
      " 'd}else g=d}a=(d=g)?d.createScriptURL(a):a;a=new k(a,m);b.src=a instanceof '\n",
      " 'k&&a.constructor===k?a.g:\"type_error:TrustedResourceUrl\";var '\n",
      " 'h,p;(h=(a=null==(p=(h=(b.ownerDocument&&b.ownerDocument.defaultView||window).document).querySelector)?void '\n",
      " '0:p.call(h,\"script[nonce]\"))?a.nonce||a.getAttribute(\"nonce\")||\"\":\"\")&&b.setAttribute(\"nonce\",h);document.body.appendChild(b);google.psa=!0;google.lx=n};google.bx||google.lx()};google.xjsu=u;e._F_jsUrl=u;setTimeout(function(){0<amd?google.caft(function(){return '\n",
      " 'q()},amd):q()},0);})();window._ = window._ || {};window._DumpException = '\n",
      " '_._DumpException = function(e){throw e;};window._s = window._s || '\n",
      " '{};_s._DumpException = _._DumpException;window._qs = window._qs || '\n",
      " '{};_qs._DumpException = _._DumpException;function _F_installCss(c){}\\n'\n",
      " \"(function(){google.jl={blt:'none',chnk:0,dw:false,dwu:true,emtn:0,end:0,ico:false,ikb:0,ine:false,injs:'none',injt:0,injth:0,injv2:false,lls:'default',pdt:0,rep:0,snet:true,strt:0,ubm:false,uwp:true};})();(function(){var \"\n",
      " \"pmc='{\\\\x22d\\\\x22:{},\\\\x22sb_he\\\\x22:{\\\\x22agen\\\\x22:true,\\\\x22cgen\\\\x22:true,\\\\x22client\\\\x22:\\\\x22heirloom-hp\\\\x22,\\\\x22dh\\\\x22:true,\\\\x22ds\\\\x22:\\\\x22\\\\x22,\\\\x22fl\\\\x22:true,\\\\x22host\\\\x22:\\\\x22google.com\\\\x22,\\\\x22jsonp\\\\x22:true,\\\\x22msgs\\\\x22:{\\\\x22cibl\\\\x22:\\\\x22X\\\\\\\\u00f3a \"\n",
      " 't\\\\\\\\u00ecm ki\\\\\\\\u1ebfm\\\\x22,\\\\x22dym\\\\x22:\\\\x22C\\\\\\\\u00f3 ph\\\\\\\\u1ea3i '\n",
      " 'b\\\\\\\\u1ea1n mu\\\\\\\\u1ed1n t\\\\\\\\u00ecm:\\\\x22,\\\\x22lcky\\\\x22:\\\\x22Xem trang '\n",
      " '\\\\\\\\u0111\\\\\\\\u1ea7u ti\\\\\\\\u00ean t\\\\\\\\u00ecm '\n",
      " '\\\\\\\\u0111\\\\\\\\u01b0\\\\\\\\u1ee3c\\\\x22,\\\\x22lml\\\\x22:\\\\x22T\\\\\\\\u00ecm '\n",
      " 'hi\\\\\\\\u1ec3u th\\\\\\\\u00eam\\\\x22,\\\\x22psrc\\\\x22:\\\\x22\\\\\\\\u0110\\\\\\\\u00e3 '\n",
      " 'x\\\\\\\\u00f3a t\\\\\\\\u00ecm ki\\\\\\\\u1ebfm n\\\\\\\\u00e0y kh\\\\\\\\u1ecfi \\\\\\\\u003Ca '\n",
      " 'href\\\\x3d\\\\\\\\\\\\x22/history\\\\\\\\\\\\x22\\\\\\\\u003EL\\\\\\\\u1ecbch s\\\\\\\\u1eed '\n",
      " 'Web\\\\\\\\u003C/a\\\\\\\\u003E c\\\\\\\\u1ee7a '\n",
      " 'b\\\\\\\\u1ea1n\\\\x22,\\\\x22psrl\\\\x22:\\\\x22X\\\\\\\\u00f3a\\\\x22,\\\\x22sbit\\\\x22:\\\\x22T\\\\\\\\u00ecm '\n",
      " 'ki\\\\\\\\u1ebfm b\\\\\\\\u1eb1ng h\\\\\\\\u00ecnh '\n",
      " '\\\\\\\\u1ea3nh\\\\x22,\\\\x22srch\\\\x22:\\\\x22T\\\\\\\\u00ecm tr\\\\\\\\u00ean '\n",
      " 'Google\\\\x22},\\\\x22ovr\\\\x22:{},\\\\x22pq\\\\x22:\\\\x22\\\\x22,\\\\x22rfs\\\\x22:[],\\\\x22sbas\\\\x22:\\\\x220 '\n",
      " '3px 8px 0 rgba(0,0,0,0.2),0 0 0 1px '\n",
      " \"rgba(0,0,0,0.08)\\\\x22,\\\\x22stok\\\\x22:\\\\x22CDDSj_IfAERy5Bx08tEICNMhbwo\\\\x22}}';google.pmc=JSON.parse(pmc);})();(function(){\\n\"\n",
      " 'var b=function(a){var c=0;return function(){return '\n",
      " 'c<a.length?{done:!1,value:a[c++]}:{done:!0}}},e=this||self;var '\n",
      " 'g,h;a:{for(var '\n",
      " 'k=[\"CLOSURE_FLAGS\"],l=e,n=0;n<k.length;n++)if(l=l[k[n]],null==l){h=null;break '\n",
      " 'a}h=l}var p=h&&h[610401301];g=null!=p?p:!1;var '\n",
      " 'q,r=e.navigator;q=r?r.userAgentData||null:null;function t(a){return '\n",
      " 'g?q?q.brands.some(function(c){return(c=c.brand)&&-1!=c.indexOf(a)}):!1:!1}function '\n",
      " 'u(a){var c;a:{if(c=e.navigator)if(c=c.userAgent)break '\n",
      " 'a;c=\"\"}return-1!=c.indexOf(a)};function v(){return '\n",
      " 'g?!!q&&0<q.brands.length:!1}function w(){return '\n",
      " 'u(\"Safari\")&&!(x()||(v()?0:u(\"Coast\"))||(v()?0:u(\"Opera\"))||(v()?0:u(\"Edge\"))||(v()?t(\"Microsoft '\n",
      " 'Edge\"):u(\"Edg/\"))||(v()?t(\"Opera\"):u(\"OPR\"))||u(\"Firefox\")||u(\"FxiOS\")||u(\"Silk\")||u(\"Android\"))}function '\n",
      " 'x(){return '\n",
      " 'v()?t(\"Chromium\"):(u(\"Chrome\")||u(\"CriOS\"))&&!(v()?0:u(\"Edge\"))||u(\"Silk\")}function '\n",
      " 'y(){return '\n",
      " 'u(\"Android\")&&!(x()||u(\"Firefox\")||u(\"FxiOS\")||(v()?0:u(\"Opera\"))||u(\"Silk\"))};var '\n",
      " 'z=v()?!1:u(\"Trident\")||u(\"MSIE\");y();x();w();var '\n",
      " 'A=!z&&!w(),D=function(a){if(/-[a-z]/.test(\"ved\"))return '\n",
      " 'null;if(A&&a.dataset){if(y()&&!(\"ved\"in a.dataset))return '\n",
      " 'null;a=a.dataset.ved;return void 0===a?null:a}return '\n",
      " 'a.getAttribute(\"data-\"+\"ved\".replace(/([A-Z])/g,\"-$1\").toLowerCase())};var '\n",
      " 'E=[],F=null;function G(a){a=a.target;var '\n",
      " 'c=performance.now(),f=[],H=f.concat,d=E;if(!(d instanceof Array)){var '\n",
      " 'm=\"undefined\"!=typeof '\n",
      " 'Symbol&&Symbol.iterator&&d[Symbol.iterator];if(m)d=m.call(d);else '\n",
      " 'if(\"number\"==typeof d.length)d={next:b(d)};else throw '\n",
      " 'Error(\"a`\"+String(d));for(var '\n",
      " 'B=[];!(m=d.next()).done;)B.push(m.value);d=B}E=H.call(f,d,[c]);if(a&&a '\n",
      " 'instanceof '\n",
      " 'HTMLElement)if(a===F){if(c=4<=E.length)c=5>(E[E.length-1]-E[E.length-4])/1E3;if(c){c=google.getEI(a);a.hasAttribute(\"data-ved\")?f=a?D(a)||\"\":\"\":f=(f=\\n'\n",
      " 'a.closest(\"[data-ved]\"))?D(f)||\"\":\"\";f=f||\"\";if(a.hasAttribute(\"jsname\"))a=a.getAttribute(\"jsname\");else{var '\n",
      " 'C;a=null==(C=a.closest(\"[jsname]\"))?void '\n",
      " '0:C.getAttribute(\"jsname\")}google.log(\"rcm\",\"&ei=\"+c+\"&ved=\"+f+\"&jsname=\"+(a||\"\"))}}else '\n",
      " 'F=a,E=[c]}window.document.addEventListener(\"DOMContentLoaded\",function(){document.body.addEventListener(\"click\",G)});}).call(this);</script></body></html>')\n"
     ]
    }
   ],
   "source": [
    "data = data.decode('ISO-8859-1')\n",
    "\n",
    "pprint(data)"
   ]
  },
  {
   "cell_type": "markdown",
   "metadata": {},
   "source": [
    "### OPTIONS Method"
   ]
  },
  {
   "cell_type": "markdown",
   "metadata": {},
   "source": [
    "#### .options( ) method will show all options like what type of operations we can perform on webpage like... GET, POST, PUT, DELETE, OPTIONS' . It will not return any page data."
   ]
  },
  {
   "cell_type": "code",
   "execution_count": 17,
   "metadata": {},
   "outputs": [
    {
     "name": "stdout",
     "output_type": "stream",
     "text": [
      "{'access-control-allow-credentials': 'true',\n",
      " 'access-control-allow-methods': 'GET, POST, PUT, DELETE, PATCH, OPTIONS',\n",
      " 'access-control-allow-origin': '*',\n",
      " 'access-control-max-age': '3600',\n",
      " 'allow': 'GET, HEAD, OPTIONS',\n",
      " 'connection': 'keep-alive',\n",
      " 'content-length': '0',\n",
      " 'content-location': 'https://httpbin.org/',\n",
      " 'content-type': 'text/html; charset=utf-8',\n",
      " 'date': 'Mon, 03 Jul 2023 03:45:58 GMT',\n",
      " 'server': 'gunicorn/19.9.0',\n",
      " 'status': '200'}\n"
     ]
    }
   ],
   "source": [
    "resp, data = http.request(bin_url, method = 'OPTIONS')\n",
    "\n",
    "pprint(resp)"
   ]
  },
  {
   "cell_type": "markdown",
   "metadata": {},
   "source": [
    "### head"
   ]
  },
  {
   "cell_type": "markdown",
   "metadata": {},
   "source": [
    "#### To get only header info of webpage we have .head( ) method. It will not return any page data."
   ]
  },
  {
   "cell_type": "code",
   "execution_count": 18,
   "metadata": {},
   "outputs": [
    {
     "name": "stdout",
     "output_type": "stream",
     "text": [
      "{'access-control-allow-credentials': 'true',\n",
      " 'access-control-allow-origin': '*',\n",
      " 'connection': 'keep-alive',\n",
      " 'content-length': '9593',\n",
      " 'content-location': 'https://httpbin.org/',\n",
      " 'content-type': 'text/html; charset=utf-8',\n",
      " 'date': 'Mon, 03 Jul 2023 03:46:02 GMT',\n",
      " 'server': 'gunicorn/19.9.0',\n",
      " 'status': '200'}\n"
     ]
    }
   ],
   "source": [
    "resp, data = http.request(bin_url, method = 'HEAD')\n",
    "\n",
    "pprint(resp)"
   ]
  },
  {
   "cell_type": "markdown",
   "metadata": {},
   "source": [
    "### GET Method"
   ]
  },
  {
   "cell_type": "code",
   "execution_count": 19,
   "metadata": {},
   "outputs": [],
   "source": [
    "resp, data = http.request('https://httpbin.org/get', method = 'GET')"
   ]
  },
  {
   "cell_type": "code",
   "execution_count": 20,
   "metadata": {},
   "outputs": [
    {
     "name": "stdout",
     "output_type": "stream",
     "text": [
      "{'access-control-allow-credentials': 'true',\n",
      " 'access-control-allow-origin': '*',\n",
      " 'connection': 'keep-alive',\n",
      " 'content-length': '292',\n",
      " 'content-location': 'https://httpbin.org/get',\n",
      " 'content-type': 'application/json',\n",
      " 'date': 'Mon, 03 Jul 2023 03:46:34 GMT',\n",
      " 'server': 'gunicorn/19.9.0',\n",
      " 'status': '200'}\n"
     ]
    }
   ],
   "source": [
    "pprint(resp)"
   ]
  },
  {
   "cell_type": "markdown",
   "metadata": {},
   "source": [
    "### POST Method"
   ]
  },
  {
   "cell_type": "markdown",
   "metadata": {},
   "source": [
    "#### \"post\" method will not replace the data in url it will just create the child of existing data. When ever we dont know the exact url where we are going to write the data in such case we will use post( )."
   ]
  },
  {
   "cell_type": "markdown",
   "metadata": {},
   "source": [
    "#### http.request will take data in dictionary formate."
   ]
  },
  {
   "cell_type": "code",
   "execution_count": 21,
   "metadata": {},
   "outputs": [],
   "source": [
    "post_data = '{\"name\": \"Alice\", \"college\": \"Harvard\"}'"
   ]
  },
  {
   "cell_type": "markdown",
   "metadata": {},
   "source": [
    "#### We are trying to write the data to the website using post( ), for this http is providing method parameter to pass the method what ever we want (by default it will take get( ) )."
   ]
  },
  {
   "cell_type": "code",
   "execution_count": 22,
   "metadata": {},
   "outputs": [
    {
     "name": "stdout",
     "output_type": "stream",
     "text": [
      "{'access-control-allow-credentials': 'true',\n",
      " 'access-control-allow-origin': '*',\n",
      " 'connection': 'keep-alive',\n",
      " 'content-length': '521',\n",
      " 'content-type': 'application/json',\n",
      " 'date': 'Mon, 03 Jul 2023 03:47:28 GMT',\n",
      " 'server': 'gunicorn/19.9.0',\n",
      " 'status': '200'}\n"
     ]
    }
   ],
   "source": [
    "resp, data = http.request('https://httpbin.org/post', \n",
    "                          method = 'POST', \n",
    "                          body = post_data,\n",
    "                          headers = {'content-type':'application/json'})\n",
    "\n",
    "pprint(resp)"
   ]
  },
  {
   "cell_type": "code",
   "execution_count": 23,
   "metadata": {},
   "outputs": [
    {
     "name": "stdout",
     "output_type": "stream",
     "text": [
      "('{\\n'\n",
      " '  \"args\": {}, \\n'\n",
      " '  \"data\": \"{\\\\\"name\\\\\": \\\\\"Alice\\\\\", \\\\\"college\\\\\": \\\\\"Harvard\\\\\"}\", \\n'\n",
      " '  \"files\": {}, \\n'\n",
      " '  \"form\": {}, \\n'\n",
      " '  \"headers\": {\\n'\n",
      " '    \"Accept-Encoding\": \"gzip, deflate\", \\n'\n",
      " '    \"Content-Length\": \"39\", \\n'\n",
      " '    \"Content-Type\": \"application/json\", \\n'\n",
      " '    \"Host\": \"httpbin.org\", \\n'\n",
      " '    \"User-Agent\": \"Python-httplib2/0.22.0 (gzip)\", \\n'\n",
      " '    \"X-Amzn-Trace-Id\": \"Root=1-64a2449a-091831cb190089b07584d0cc\"\\n'\n",
      " '  }, \\n'\n",
      " '  \"json\": {\\n'\n",
      " '    \"college\": \"Harvard\", \\n'\n",
      " '    \"name\": \"Alice\"\\n'\n",
      " '  }, \\n'\n",
      " '  \"origin\": \"58.187.88.251\", \\n'\n",
      " '  \"url\": \"https://httpbin.org/post\"\\n'\n",
      " '}\\n')\n"
     ]
    }
   ],
   "source": [
    "pprint(data.decode('UTF-8'))"
   ]
  },
  {
   "cell_type": "markdown",
   "metadata": {},
   "source": [
    "### PUT Method"
   ]
  },
  {
   "cell_type": "markdown",
   "metadata": {},
   "source": [
    "#### \"put\" method will  replace the data in the url . When we know the exact url where we are going to write the data in such case we will use put( ).\n",
    "#### We are trying to write the data to the website using put method in url"
   ]
  },
  {
   "cell_type": "code",
   "execution_count": 24,
   "metadata": {},
   "outputs": [
    {
     "name": "stdout",
     "output_type": "stream",
     "text": [
      "{'access-control-allow-credentials': 'true',\n",
      " 'access-control-allow-origin': '*',\n",
      " 'connection': 'keep-alive',\n",
      " 'content-length': '520',\n",
      " 'content-type': 'application/json',\n",
      " 'date': 'Mon, 03 Jul 2023 03:48:01 GMT',\n",
      " 'server': 'gunicorn/19.9.0',\n",
      " 'status': '200'}\n"
     ]
    }
   ],
   "source": [
    "resp, data = http.request('https://httpbin.org/put',  \n",
    "                          method = 'PUT', \n",
    "                          body = post_data, \n",
    "                          headers = {'content-type':'application/json'})\n",
    "\n",
    "pprint(resp)"
   ]
  },
  {
   "cell_type": "code",
   "execution_count": 25,
   "metadata": {},
   "outputs": [
    {
     "data": {
      "text/plain": [
       "True"
      ]
     },
     "execution_count": 25,
     "metadata": {},
     "output_type": "execute_result"
    }
   ],
   "source": [
    "http.follow_redirects"
   ]
  },
  {
   "cell_type": "code",
   "execution_count": 26,
   "metadata": {},
   "outputs": [
    {
     "data": {
      "text/plain": [
       "False"
      ]
     },
     "execution_count": 26,
     "metadata": {},
     "output_type": "execute_result"
    }
   ],
   "source": [
    "http.follow_all_redirects"
   ]
  },
  {
   "cell_type": "code",
   "execution_count": 27,
   "metadata": {},
   "outputs": [
    {
     "name": "stdout",
     "output_type": "stream",
     "text": [
      "{'access-control-allow-credentials': 'true',\n",
      " 'access-control-allow-origin': '*',\n",
      " 'connection': 'keep-alive',\n",
      " 'content-length': '291',\n",
      " 'content-location': 'http://httpbin.org/get',\n",
      " 'content-type': 'application/json',\n",
      " 'date': 'Mon, 03 Jul 2023 03:48:46 GMT',\n",
      " 'server': 'gunicorn/19.9.0',\n",
      " 'status': '200'}\n"
     ]
    }
   ],
   "source": [
    "resp, data = http.request('https://httpbin.org/absolute-redirect/1',  \n",
    "                          method = 'GET')\n",
    "\n",
    "pprint(resp)"
   ]
  },
  {
   "cell_type": "code",
   "execution_count": 28,
   "metadata": {},
   "outputs": [
    {
     "data": {
      "text/plain": [
       "{'date': 'Mon, 03 Jul 2023 03:48:40 GMT',\n",
       " 'content-type': 'text/html; charset=utf-8',\n",
       " 'content-length': '251',\n",
       " 'connection': 'keep-alive',\n",
       " 'server': 'gunicorn/19.9.0',\n",
       " 'location': 'http://httpbin.org/get',\n",
       " 'access-control-allow-origin': '*',\n",
       " 'access-control-allow-credentials': 'true',\n",
       " 'status': '302',\n",
       " 'content-location': 'https://httpbin.org/absolute-redirect/1'}"
      ]
     },
     "execution_count": 28,
     "metadata": {},
     "output_type": "execute_result"
    }
   ],
   "source": [
    "resp.previous"
   ]
  },
  {
   "cell_type": "code",
   "execution_count": 29,
   "metadata": {},
   "outputs": [],
   "source": [
    "http.follow_redirects = False"
   ]
  },
  {
   "cell_type": "code",
   "execution_count": 30,
   "metadata": {},
   "outputs": [
    {
     "name": "stdout",
     "output_type": "stream",
     "text": [
      "{'access-control-allow-credentials': 'true',\n",
      " 'access-control-allow-origin': '*',\n",
      " 'connection': 'keep-alive',\n",
      " 'content-length': '251',\n",
      " 'content-type': 'text/html; charset=utf-8',\n",
      " 'date': 'Mon, 03 Jul 2023 03:48:50 GMT',\n",
      " 'location': 'http://httpbin.org/get',\n",
      " 'server': 'gunicorn/19.9.0',\n",
      " 'status': '302'}\n"
     ]
    }
   ],
   "source": [
    "resp, data = http.request('https://httpbin.org/absolute-redirect/1',  \n",
    "                          method = 'GET')\n",
    "\n",
    "pprint(resp)"
   ]
  },
  {
   "cell_type": "code",
   "execution_count": 31,
   "metadata": {},
   "outputs": [
    {
     "name": "stdout",
     "output_type": "stream",
     "text": [
      "{'access-control-allow-credentials': 'true',\n",
      " 'access-control-allow-origin': '*',\n",
      " 'connection': 'keep-alive',\n",
      " 'content-length': '0',\n",
      " 'content-type': 'text/html; charset=utf-8',\n",
      " 'date': 'Mon, 03 Jul 2023 03:48:51 GMT',\n",
      " 'location': 'https://google.com',\n",
      " 'server': 'gunicorn/19.9.0',\n",
      " 'status': '302'}\n"
     ]
    }
   ],
   "source": [
    "resp, data = http.request('https://httpbin.org/redirect-to?url=https://google.com&status_code=200',  \n",
    "                          method = 'GET')\n",
    "\n",
    "pprint(resp)"
   ]
  },
  {
   "cell_type": "code",
   "execution_count": 32,
   "metadata": {},
   "outputs": [],
   "source": [
    "http.follow_redirects = True"
   ]
  },
  {
   "cell_type": "code",
   "execution_count": 33,
   "metadata": {},
   "outputs": [
    {
     "name": "stdout",
     "output_type": "stream",
     "text": [
      "{'-content-encoding': 'gzip',\n",
      " 'alt-svc': 'h3=\":443\"; ma=2592000,h3-29=\":443\"; ma=2592000',\n",
      " 'cache-control': 'private, max-age=0',\n",
      " 'content-length': '19538',\n",
      " 'content-location': 'https://www.google.com/',\n",
      " 'content-security-policy-report-only': \"object-src 'none';base-uri \"\n",
      "                                        \"'self';script-src \"\n",
      "                                        \"'nonce-ruh6IlYeDsL51ARpjMb6uA' \"\n",
      "                                        \"'strict-dynamic' 'report-sample' \"\n",
      "                                        \"'unsafe-eval' 'unsafe-inline' https: \"\n",
      "                                        'http:;report-uri '\n",
      "                                        'https://csp.withgoogle.com/csp/gws/other-hp',\n",
      " 'content-type': 'text/html; charset=ISO-8859-1',\n",
      " 'date': 'Mon, 03 Jul 2023 03:48:57 GMT',\n",
      " 'expires': '-1',\n",
      " 'p3p': 'CP=\"This is not a P3P policy! See g.co/p3phelp for more info.\"',\n",
      " 'server': 'gws',\n",
      " 'set-cookie': '1P_JAR=2023-07-03-03; expires=Wed, 02-Aug-2023 03:48:57 GMT; '\n",
      "               'path=/; domain=.google.com; Secure, '\n",
      "               'AEC=Ad49MVFOy0DySxB-Xspg40xqHBsfFB4GYxjleFJOFUZz3FaDMMqiX93GieM; '\n",
      "               'expires=Sat, 30-Dec-2023 03:48:57 GMT; path=/; '\n",
      "               'domain=.google.com; Secure; HttpOnly; SameSite=lax, '\n",
      "               'NID=511=Xz_TOCNm3iBgtWfRMblOqpwIBcp-oRNiYm8DaeOt9I7P6cAmZYpn4CCl504EK2jNtmwTPJq0Ry-8jztdZN5myF5V7hmveFrMuNb1r6V15MXwHHvDTigTLAXJGau4N659jjTl3Sz-7GRkS1XYgmfYrJ4HIYYKIPGmWkUNfDk0CzQ; '\n",
      "               'expires=Tue, 02-Jan-2024 03:48:57 GMT; path=/; '\n",
      "               'domain=.google.com; HttpOnly',\n",
      " 'status': '200',\n",
      " 'transfer-encoding': 'chunked',\n",
      " 'x-frame-options': 'SAMEORIGIN',\n",
      " 'x-xss-protection': '0'}\n"
     ]
    }
   ],
   "source": [
    "resp, data = http.request('https://httpbin.org/redirect-to?url=https://google.com',  \n",
    "                          method = 'GET')\n",
    "\n",
    "pprint(resp)"
   ]
  },
  {
   "cell_type": "code",
   "execution_count": null,
   "metadata": {},
   "outputs": [],
   "source": []
  }
 ],
 "metadata": {
  "kernelspec": {
   "display_name": "Python 3 (ipykernel)",
   "language": "python",
   "name": "python3"
  },
  "language_info": {
   "codemirror_mode": {
    "name": "ipython",
    "version": 3
   },
   "file_extension": ".py",
   "mimetype": "text/x-python",
   "name": "python",
   "nbconvert_exporter": "python",
   "pygments_lexer": "ipython3",
   "version": "3.9.12"
  }
 },
 "nbformat": 4,
 "nbformat_minor": 2
}
